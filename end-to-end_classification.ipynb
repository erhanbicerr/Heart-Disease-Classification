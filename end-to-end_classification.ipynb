{
 "cells": [
  {
   "cell_type": "markdown",
   "metadata": {},
   "source": [
    "# Classification with KNN, Logistic Regression, Random Forest and SVM"
   ]
  },
  {
   "cell_type": "markdown",
   "metadata": {},
   "source": [
    "<img src=\"class.png\" />"
   ]
  },
  {
   "cell_type": "markdown",
   "metadata": {},
   "source": [
    "*Machine Learning Model is trying to classify dogs and cats. (Binary Classification)*"
   ]
  },
  {
   "cell_type": "markdown",
   "metadata": {},
   "source": [
    "**I'll go through a code of *classification*. *Heart disease* data will be used in this notebook.**"
   ]
  },
  {
   "cell_type": "markdown",
   "metadata": {},
   "source": [
    "Side Note: Detailed informations about concepts (Algorithms, hyperparameter tuning, cross-validation etc. explanation) will be on Medium Story...\n"
   ]
  },
  {
   "cell_type": "markdown",
   "metadata": {},
   "source": [
    "Note: Since this is a small kaggle dataset based on UCI dataset, Significant information regarding relevant real world problems can't be received probably. And in model validation section, very high accuracy can be occur.\n"
   ]
  },
  {
   "cell_type": "markdown",
   "metadata": {},
   "source": [
    "This notebook aims for practicing classification algorithms, cross-validation and others..."
   ]
  },
  {
   "cell_type": "markdown",
   "metadata": {},
   "source": [
    "First, download the dataset from *https://www.kaggle.com/ronitf/heart-disease-uci* \n",
    "\n",
    "\n",
    "\n",
    "Then, to work with data, *import* the dataset first!"
   ]
  },
  {
   "cell_type": "code",
   "execution_count": 174,
   "metadata": {},
   "outputs": [],
   "source": [
    "import pandas as pd"
   ]
  },
  {
   "cell_type": "code",
   "execution_count": 175,
   "metadata": {},
   "outputs": [],
   "source": [
    "df = pd.read_csv(\"heart-disease.csv\")"
   ]
  },
  {
   "cell_type": "markdown",
   "metadata": {},
   "source": [
    "Since, csv file is in the same file with ipynb file, there is no need to state any file name for that case.Only the csv name is written in read_csv function."
   ]
  },
  {
   "cell_type": "markdown",
   "metadata": {},
   "source": [
    "Now, data is imported and it's ready for action!\n",
    "Imported dataset's first 5 rows:"
   ]
  },
  {
   "cell_type": "code",
   "execution_count": 176,
   "metadata": {},
   "outputs": [
    {
     "data": {
      "text/html": [
       "<div>\n",
       "<style scoped>\n",
       "    .dataframe tbody tr th:only-of-type {\n",
       "        vertical-align: middle;\n",
       "    }\n",
       "\n",
       "    .dataframe tbody tr th {\n",
       "        vertical-align: top;\n",
       "    }\n",
       "\n",
       "    .dataframe thead th {\n",
       "        text-align: right;\n",
       "    }\n",
       "</style>\n",
       "<table border=\"1\" class=\"dataframe\">\n",
       "  <thead>\n",
       "    <tr style=\"text-align: right;\">\n",
       "      <th></th>\n",
       "      <th>age</th>\n",
       "      <th>sex</th>\n",
       "      <th>cp</th>\n",
       "      <th>trestbps</th>\n",
       "      <th>chol</th>\n",
       "      <th>fbs</th>\n",
       "      <th>restecg</th>\n",
       "      <th>thalach</th>\n",
       "      <th>exang</th>\n",
       "      <th>oldpeak</th>\n",
       "      <th>slope</th>\n",
       "      <th>ca</th>\n",
       "      <th>thal</th>\n",
       "      <th>target</th>\n",
       "    </tr>\n",
       "  </thead>\n",
       "  <tbody>\n",
       "    <tr>\n",
       "      <th>0</th>\n",
       "      <td>63</td>\n",
       "      <td>1</td>\n",
       "      <td>3</td>\n",
       "      <td>145</td>\n",
       "      <td>233</td>\n",
       "      <td>1</td>\n",
       "      <td>0</td>\n",
       "      <td>150</td>\n",
       "      <td>0</td>\n",
       "      <td>2.3</td>\n",
       "      <td>0</td>\n",
       "      <td>0</td>\n",
       "      <td>1</td>\n",
       "      <td>1</td>\n",
       "    </tr>\n",
       "    <tr>\n",
       "      <th>1</th>\n",
       "      <td>37</td>\n",
       "      <td>1</td>\n",
       "      <td>2</td>\n",
       "      <td>130</td>\n",
       "      <td>250</td>\n",
       "      <td>0</td>\n",
       "      <td>1</td>\n",
       "      <td>187</td>\n",
       "      <td>0</td>\n",
       "      <td>3.5</td>\n",
       "      <td>0</td>\n",
       "      <td>0</td>\n",
       "      <td>2</td>\n",
       "      <td>1</td>\n",
       "    </tr>\n",
       "    <tr>\n",
       "      <th>2</th>\n",
       "      <td>41</td>\n",
       "      <td>0</td>\n",
       "      <td>1</td>\n",
       "      <td>130</td>\n",
       "      <td>204</td>\n",
       "      <td>0</td>\n",
       "      <td>0</td>\n",
       "      <td>172</td>\n",
       "      <td>0</td>\n",
       "      <td>1.4</td>\n",
       "      <td>2</td>\n",
       "      <td>0</td>\n",
       "      <td>2</td>\n",
       "      <td>1</td>\n",
       "    </tr>\n",
       "    <tr>\n",
       "      <th>3</th>\n",
       "      <td>56</td>\n",
       "      <td>1</td>\n",
       "      <td>1</td>\n",
       "      <td>120</td>\n",
       "      <td>236</td>\n",
       "      <td>0</td>\n",
       "      <td>1</td>\n",
       "      <td>178</td>\n",
       "      <td>0</td>\n",
       "      <td>0.8</td>\n",
       "      <td>2</td>\n",
       "      <td>0</td>\n",
       "      <td>2</td>\n",
       "      <td>1</td>\n",
       "    </tr>\n",
       "    <tr>\n",
       "      <th>4</th>\n",
       "      <td>57</td>\n",
       "      <td>0</td>\n",
       "      <td>0</td>\n",
       "      <td>120</td>\n",
       "      <td>354</td>\n",
       "      <td>0</td>\n",
       "      <td>1</td>\n",
       "      <td>163</td>\n",
       "      <td>1</td>\n",
       "      <td>0.6</td>\n",
       "      <td>2</td>\n",
       "      <td>0</td>\n",
       "      <td>2</td>\n",
       "      <td>1</td>\n",
       "    </tr>\n",
       "  </tbody>\n",
       "</table>\n",
       "</div>"
      ],
      "text/plain": [
       "   age  sex  cp  trestbps  chol  fbs  restecg  thalach  exang  oldpeak  slope  \\\n",
       "0   63    1   3       145   233    1        0      150      0      2.3      0   \n",
       "1   37    1   2       130   250    0        1      187      0      3.5      0   \n",
       "2   41    0   1       130   204    0        0      172      0      1.4      2   \n",
       "3   56    1   1       120   236    0        1      178      0      0.8      2   \n",
       "4   57    0   0       120   354    0        1      163      1      0.6      2   \n",
       "\n",
       "   ca  thal  target  \n",
       "0   0     1       1  \n",
       "1   0     2       1  \n",
       "2   0     2       1  \n",
       "3   0     2       1  \n",
       "4   0     2       1  "
      ]
     },
     "execution_count": 176,
     "metadata": {},
     "output_type": "execute_result"
    }
   ],
   "source": [
    "df.head(5)"
   ]
  },
  {
   "cell_type": "code",
   "execution_count": 177,
   "metadata": {},
   "outputs": [
    {
     "name": "stdout",
     "output_type": "stream",
     "text": [
      "<class 'pandas.core.frame.DataFrame'>\n",
      "RangeIndex: 303 entries, 0 to 302\n",
      "Data columns (total 14 columns):\n",
      " #   Column    Non-Null Count  Dtype  \n",
      "---  ------    --------------  -----  \n",
      " 0   age       303 non-null    int64  \n",
      " 1   sex       303 non-null    int64  \n",
      " 2   cp        303 non-null    int64  \n",
      " 3   trestbps  303 non-null    int64  \n",
      " 4   chol      303 non-null    int64  \n",
      " 5   fbs       303 non-null    int64  \n",
      " 6   restecg   303 non-null    int64  \n",
      " 7   thalach   303 non-null    int64  \n",
      " 8   exang     303 non-null    int64  \n",
      " 9   oldpeak   303 non-null    float64\n",
      " 10  slope     303 non-null    int64  \n",
      " 11  ca        303 non-null    int64  \n",
      " 12  thal      303 non-null    int64  \n",
      " 13  target    303 non-null    int64  \n",
      "dtypes: float64(1), int64(13)\n",
      "memory usage: 33.3 KB\n"
     ]
    }
   ],
   "source": [
    "df.info()"
   ]
  },
  {
   "cell_type": "markdown",
   "metadata": {},
   "source": [
    "Great! But what to do with all these features? For example what does *thalach* related to? How about *oldpeak*? Some features are understandable from its name (*age*) but other features may look confusing."
   ]
  },
  {
   "cell_type": "markdown",
   "metadata": {},
   "source": [
    "To overcome that kind of confusion, further information for features, should be examined from the website where dataset is from."
   ]
  },
  {
   "cell_type": "markdown",
   "metadata": {},
   "source": [
    "More feature information can be seeked in https://www.kaggle.com/ronitf/heart-disease-uci."
   ]
  },
  {
   "cell_type": "markdown",
   "metadata": {},
   "source": [
    "### Feature Information"
   ]
  },
  {
   "cell_type": "markdown",
   "metadata": {},
   "source": [
    "* age\n",
    "* sex 1:male, 0:female\n",
    "* cp = chest pain type (4 values):\n",
    " Value 0: typical angina\n",
    " Value 1: atypical angina\n",
    " Value 2: non-anginal pain\n",
    " Value 3: asymptomatic \n",
    "* trestbps = resting blood pressure\n",
    "* chol = serum cholestoral in mg/dl\n",
    "* fbs = fasting blood sugar > 120 mg/dl\n",
    "* restecg = resting electrocardiographic results (values 0,1,2)\n",
    "* thalach = maximum heart rate achieved\n",
    "* exang = exercise induced angina\n",
    "* oldpeak = ST depression induced by exercise relative to rest\n",
    "* slope = the slope of the peak exercise ST segment\n",
    "* ca = number of major vessels (0-3) colored by flourosopy\n",
    "* thal = 3 : normal; 6 : fixed defect; 7 : reversable defect"
   ]
  },
  {
   "cell_type": "markdown",
   "metadata": {},
   "source": [
    "Now, features seems more meaningful. Extra information can be received from official UCI site https://archive.ics.uci.edu/ml/datasets/Heart+Disease."
   ]
  },
  {
   "cell_type": "markdown",
   "metadata": {},
   "source": [
    "## 1. Checking for Missing Values"
   ]
  },
  {
   "cell_type": "markdown",
   "metadata": {},
   "source": [
    "First things first, missing values should be handled if there exists any."
   ]
  },
  {
   "cell_type": "markdown",
   "metadata": {},
   "source": [
    "How can missing values be detected? It'll be hard to look manually and search by eye. Since our dataset is not small that option will not be considered."
   ]
  },
  {
   "cell_type": "markdown",
   "metadata": {},
   "source": [
    "Missing values can be checked by using *isna()* function."
   ]
  },
  {
   "cell_type": "code",
   "execution_count": 178,
   "metadata": {},
   "outputs": [
    {
     "data": {
      "text/html": [
       "<div>\n",
       "<style scoped>\n",
       "    .dataframe tbody tr th:only-of-type {\n",
       "        vertical-align: middle;\n",
       "    }\n",
       "\n",
       "    .dataframe tbody tr th {\n",
       "        vertical-align: top;\n",
       "    }\n",
       "\n",
       "    .dataframe thead th {\n",
       "        text-align: right;\n",
       "    }\n",
       "</style>\n",
       "<table border=\"1\" class=\"dataframe\">\n",
       "  <thead>\n",
       "    <tr style=\"text-align: right;\">\n",
       "      <th></th>\n",
       "      <th>age</th>\n",
       "      <th>sex</th>\n",
       "      <th>cp</th>\n",
       "      <th>trestbps</th>\n",
       "      <th>chol</th>\n",
       "      <th>fbs</th>\n",
       "      <th>restecg</th>\n",
       "      <th>thalach</th>\n",
       "      <th>exang</th>\n",
       "      <th>oldpeak</th>\n",
       "      <th>slope</th>\n",
       "      <th>ca</th>\n",
       "      <th>thal</th>\n",
       "      <th>target</th>\n",
       "    </tr>\n",
       "  </thead>\n",
       "  <tbody>\n",
       "    <tr>\n",
       "      <th>0</th>\n",
       "      <td>False</td>\n",
       "      <td>False</td>\n",
       "      <td>False</td>\n",
       "      <td>False</td>\n",
       "      <td>False</td>\n",
       "      <td>False</td>\n",
       "      <td>False</td>\n",
       "      <td>False</td>\n",
       "      <td>False</td>\n",
       "      <td>False</td>\n",
       "      <td>False</td>\n",
       "      <td>False</td>\n",
       "      <td>False</td>\n",
       "      <td>False</td>\n",
       "    </tr>\n",
       "    <tr>\n",
       "      <th>1</th>\n",
       "      <td>False</td>\n",
       "      <td>False</td>\n",
       "      <td>False</td>\n",
       "      <td>False</td>\n",
       "      <td>False</td>\n",
       "      <td>False</td>\n",
       "      <td>False</td>\n",
       "      <td>False</td>\n",
       "      <td>False</td>\n",
       "      <td>False</td>\n",
       "      <td>False</td>\n",
       "      <td>False</td>\n",
       "      <td>False</td>\n",
       "      <td>False</td>\n",
       "    </tr>\n",
       "    <tr>\n",
       "      <th>2</th>\n",
       "      <td>False</td>\n",
       "      <td>False</td>\n",
       "      <td>False</td>\n",
       "      <td>False</td>\n",
       "      <td>False</td>\n",
       "      <td>False</td>\n",
       "      <td>False</td>\n",
       "      <td>False</td>\n",
       "      <td>False</td>\n",
       "      <td>False</td>\n",
       "      <td>False</td>\n",
       "      <td>False</td>\n",
       "      <td>False</td>\n",
       "      <td>False</td>\n",
       "    </tr>\n",
       "    <tr>\n",
       "      <th>3</th>\n",
       "      <td>False</td>\n",
       "      <td>False</td>\n",
       "      <td>False</td>\n",
       "      <td>False</td>\n",
       "      <td>False</td>\n",
       "      <td>False</td>\n",
       "      <td>False</td>\n",
       "      <td>False</td>\n",
       "      <td>False</td>\n",
       "      <td>False</td>\n",
       "      <td>False</td>\n",
       "      <td>False</td>\n",
       "      <td>False</td>\n",
       "      <td>False</td>\n",
       "    </tr>\n",
       "    <tr>\n",
       "      <th>4</th>\n",
       "      <td>False</td>\n",
       "      <td>False</td>\n",
       "      <td>False</td>\n",
       "      <td>False</td>\n",
       "      <td>False</td>\n",
       "      <td>False</td>\n",
       "      <td>False</td>\n",
       "      <td>False</td>\n",
       "      <td>False</td>\n",
       "      <td>False</td>\n",
       "      <td>False</td>\n",
       "      <td>False</td>\n",
       "      <td>False</td>\n",
       "      <td>False</td>\n",
       "    </tr>\n",
       "    <tr>\n",
       "      <th>...</th>\n",
       "      <td>...</td>\n",
       "      <td>...</td>\n",
       "      <td>...</td>\n",
       "      <td>...</td>\n",
       "      <td>...</td>\n",
       "      <td>...</td>\n",
       "      <td>...</td>\n",
       "      <td>...</td>\n",
       "      <td>...</td>\n",
       "      <td>...</td>\n",
       "      <td>...</td>\n",
       "      <td>...</td>\n",
       "      <td>...</td>\n",
       "      <td>...</td>\n",
       "    </tr>\n",
       "    <tr>\n",
       "      <th>298</th>\n",
       "      <td>False</td>\n",
       "      <td>False</td>\n",
       "      <td>False</td>\n",
       "      <td>False</td>\n",
       "      <td>False</td>\n",
       "      <td>False</td>\n",
       "      <td>False</td>\n",
       "      <td>False</td>\n",
       "      <td>False</td>\n",
       "      <td>False</td>\n",
       "      <td>False</td>\n",
       "      <td>False</td>\n",
       "      <td>False</td>\n",
       "      <td>False</td>\n",
       "    </tr>\n",
       "    <tr>\n",
       "      <th>299</th>\n",
       "      <td>False</td>\n",
       "      <td>False</td>\n",
       "      <td>False</td>\n",
       "      <td>False</td>\n",
       "      <td>False</td>\n",
       "      <td>False</td>\n",
       "      <td>False</td>\n",
       "      <td>False</td>\n",
       "      <td>False</td>\n",
       "      <td>False</td>\n",
       "      <td>False</td>\n",
       "      <td>False</td>\n",
       "      <td>False</td>\n",
       "      <td>False</td>\n",
       "    </tr>\n",
       "    <tr>\n",
       "      <th>300</th>\n",
       "      <td>False</td>\n",
       "      <td>False</td>\n",
       "      <td>False</td>\n",
       "      <td>False</td>\n",
       "      <td>False</td>\n",
       "      <td>False</td>\n",
       "      <td>False</td>\n",
       "      <td>False</td>\n",
       "      <td>False</td>\n",
       "      <td>False</td>\n",
       "      <td>False</td>\n",
       "      <td>False</td>\n",
       "      <td>False</td>\n",
       "      <td>False</td>\n",
       "    </tr>\n",
       "    <tr>\n",
       "      <th>301</th>\n",
       "      <td>False</td>\n",
       "      <td>False</td>\n",
       "      <td>False</td>\n",
       "      <td>False</td>\n",
       "      <td>False</td>\n",
       "      <td>False</td>\n",
       "      <td>False</td>\n",
       "      <td>False</td>\n",
       "      <td>False</td>\n",
       "      <td>False</td>\n",
       "      <td>False</td>\n",
       "      <td>False</td>\n",
       "      <td>False</td>\n",
       "      <td>False</td>\n",
       "    </tr>\n",
       "    <tr>\n",
       "      <th>302</th>\n",
       "      <td>False</td>\n",
       "      <td>False</td>\n",
       "      <td>False</td>\n",
       "      <td>False</td>\n",
       "      <td>False</td>\n",
       "      <td>False</td>\n",
       "      <td>False</td>\n",
       "      <td>False</td>\n",
       "      <td>False</td>\n",
       "      <td>False</td>\n",
       "      <td>False</td>\n",
       "      <td>False</td>\n",
       "      <td>False</td>\n",
       "      <td>False</td>\n",
       "    </tr>\n",
       "  </tbody>\n",
       "</table>\n",
       "<p>303 rows × 14 columns</p>\n",
       "</div>"
      ],
      "text/plain": [
       "       age    sex     cp  trestbps   chol    fbs  restecg  thalach  exang  \\\n",
       "0    False  False  False     False  False  False    False    False  False   \n",
       "1    False  False  False     False  False  False    False    False  False   \n",
       "2    False  False  False     False  False  False    False    False  False   \n",
       "3    False  False  False     False  False  False    False    False  False   \n",
       "4    False  False  False     False  False  False    False    False  False   \n",
       "..     ...    ...    ...       ...    ...    ...      ...      ...    ...   \n",
       "298  False  False  False     False  False  False    False    False  False   \n",
       "299  False  False  False     False  False  False    False    False  False   \n",
       "300  False  False  False     False  False  False    False    False  False   \n",
       "301  False  False  False     False  False  False    False    False  False   \n",
       "302  False  False  False     False  False  False    False    False  False   \n",
       "\n",
       "     oldpeak  slope     ca   thal  target  \n",
       "0      False  False  False  False   False  \n",
       "1      False  False  False  False   False  \n",
       "2      False  False  False  False   False  \n",
       "3      False  False  False  False   False  \n",
       "4      False  False  False  False   False  \n",
       "..       ...    ...    ...    ...     ...  \n",
       "298    False  False  False  False   False  \n",
       "299    False  False  False  False   False  \n",
       "300    False  False  False  False   False  \n",
       "301    False  False  False  False   False  \n",
       "302    False  False  False  False   False  \n",
       "\n",
       "[303 rows x 14 columns]"
      ]
     },
     "execution_count": 178,
     "metadata": {},
     "output_type": "execute_result"
    }
   ],
   "source": [
    "df.isna()"
   ]
  },
  {
   "cell_type": "markdown",
   "metadata": {},
   "source": [
    "That's a lot of boolean values there. \"False\" means that, corresponding value is not null."
   ]
  },
  {
   "cell_type": "markdown",
   "metadata": {},
   "source": [
    "How many *total* missing values in our dataset?"
   ]
  },
  {
   "cell_type": "markdown",
   "metadata": {},
   "source": [
    "It can be simply found with *sum()* function;"
   ]
  },
  {
   "cell_type": "code",
   "execution_count": 179,
   "metadata": {},
   "outputs": [
    {
     "data": {
      "text/plain": [
       "age         0\n",
       "sex         0\n",
       "cp          0\n",
       "trestbps    0\n",
       "chol        0\n",
       "fbs         0\n",
       "restecg     0\n",
       "thalach     0\n",
       "exang       0\n",
       "oldpeak     0\n",
       "slope       0\n",
       "ca          0\n",
       "thal        0\n",
       "target      0\n",
       "dtype: int64"
      ]
     },
     "execution_count": 179,
     "metadata": {},
     "output_type": "execute_result"
    }
   ],
   "source": [
    "df.isna().sum()"
   ]
  },
  {
   "cell_type": "markdown",
   "metadata": {},
   "source": [
    "From the result, dataset does not contain any single missing value. Actually, this situation saved us by typing more codes to handle missing values. But, what if dataset contains missing value? What to do in that case? Null values should be replaced in a logical way. Since, it's outside the scope of this notebook, this case will not be covered in this notebook. In other notebooks, methods for dealing with missing values will be shown."
   ]
  },
  {
   "cell_type": "markdown",
   "metadata": {},
   "source": [
    "## 2. Plotting for Correlations"
   ]
  },
  {
   "cell_type": "markdown",
   "metadata": {},
   "source": [
    "Before jumping on to model training section, data and data correlations must be known. To get more information about data, how our features relate to each other can be looked and their relationship can be visualized."
   ]
  },
  {
   "cell_type": "markdown",
   "metadata": {},
   "source": [
    "pyplot from matplotlib must be imported for plotting. Then, our features can be plotted for seeing their relationship."
   ]
  },
  {
   "cell_type": "code",
   "execution_count": 180,
   "metadata": {},
   "outputs": [],
   "source": [
    "import matplotlib.pyplot as plt\n"
   ]
  },
  {
   "cell_type": "markdown",
   "metadata": {},
   "source": [
    "The Seaborn library is imported for better visuals. Further in notebook it'll be used for heatmap."
   ]
  },
  {
   "cell_type": "code",
   "execution_count": 181,
   "metadata": {},
   "outputs": [],
   "source": [
    "import seaborn as sns\n",
    "sns.set() "
   ]
  },
  {
   "cell_type": "markdown",
   "metadata": {},
   "source": [
    "Before, correlations between our independent features are looked target variable's distribution can be visualized. See how its values are spreaded. How many 0's and 1's are there? "
   ]
  },
  {
   "cell_type": "markdown",
   "metadata": {},
   "source": [
    "Count of values in target can be calculated by simply applying value_counts() function;"
   ]
  },
  {
   "cell_type": "code",
   "execution_count": 182,
   "metadata": {},
   "outputs": [
    {
     "data": {
      "text/plain": [
       "1    165\n",
       "0    138\n",
       "Name: target, dtype: int64"
      ]
     },
     "execution_count": 182,
     "metadata": {},
     "output_type": "execute_result"
    }
   ],
   "source": [
    "df[\"target\"].value_counts()"
   ]
  },
  {
   "cell_type": "markdown",
   "metadata": {},
   "source": [
    "This means approximately 54.5% of patients have heart disease. And other 45.5% don't have heart disease."
   ]
  },
  {
   "cell_type": "markdown",
   "metadata": {},
   "source": [
    "Visualizing this information to get a better understanding;"
   ]
  },
  {
   "cell_type": "code",
   "execution_count": 183,
   "metadata": {
    "scrolled": true
   },
   "outputs": [
    {
     "data": {
      "text/plain": [
       "<matplotlib.axes._subplots.AxesSubplot at 0x2042ff6b3c8>"
      ]
     },
     "execution_count": 183,
     "metadata": {},
     "output_type": "execute_result"
    },
    {
     "data": {
      "image/png": "[encoded data removed]",
      "text/plain": [
       "<Figure size 432x288 with 1 Axes>"
      ]
     },
     "metadata": {},
     "output_type": "display_data"
    }
   ],
   "source": [
    "df[\"target\"].value_counts().plot(kind=\"bar\", rot=0, color=[\"salmon\", \"turquoise\"]) \n",
    "#rot=0 set labels vertical. No rotation.\n",
    "#kind=\"bar\" presents our graph in the form of a bar graph."
   ]
  },
  {
   "cell_type": "markdown",
   "metadata": {},
   "source": [
    "Before moving on to feature relationships, feature variable - target variable relationships might be examined. For instance, which gender is more prone to have heart disease according to our dataset? "
   ]
  },
  {
   "cell_type": "code",
   "execution_count": 184,
   "metadata": {},
   "outputs": [
    {
     "data": {
      "text/html": [
       "<div>\n",
       "<style scoped>\n",
       "    .dataframe tbody tr th:only-of-type {\n",
       "        vertical-align: middle;\n",
       "    }\n",
       "\n",
       "    .dataframe tbody tr th {\n",
       "        vertical-align: top;\n",
       "    }\n",
       "\n",
       "    .dataframe thead th {\n",
       "        text-align: right;\n",
       "    }\n",
       "</style>\n",
       "<table border=\"1\" class=\"dataframe\">\n",
       "  <thead>\n",
       "    <tr style=\"text-align: right;\">\n",
       "      <th>sex</th>\n",
       "      <th>0</th>\n",
       "      <th>1</th>\n",
       "    </tr>\n",
       "    <tr>\n",
       "      <th>target</th>\n",
       "      <th></th>\n",
       "      <th></th>\n",
       "    </tr>\n",
       "  </thead>\n",
       "  <tbody>\n",
       "    <tr>\n",
       "      <th>0</th>\n",
       "      <td>24</td>\n",
       "      <td>114</td>\n",
       "    </tr>\n",
       "    <tr>\n",
       "      <th>1</th>\n",
       "      <td>72</td>\n",
       "      <td>93</td>\n",
       "    </tr>\n",
       "  </tbody>\n",
       "</table>\n",
       "</div>"
      ],
      "text/plain": [
       "sex      0    1\n",
       "target         \n",
       "0       24  114\n",
       "1       72   93"
      ]
     },
     "execution_count": 184,
     "metadata": {},
     "output_type": "execute_result"
    }
   ],
   "source": [
    "pd.crosstab(df[\"target\"],df[\"sex\"])"
   ]
  },
  {
   "cell_type": "markdown",
   "metadata": {},
   "source": [
    "To get more understanding, visualize it!"
   ]
  },
  {
   "cell_type": "code",
   "execution_count": 185,
   "metadata": {},
   "outputs": [
    {
     "data": {
      "text/plain": [
       "<Figure size 432x288 with 0 Axes>"
      ]
     },
     "metadata": {},
     "output_type": "display_data"
    },
    {
     "data": {
      "image/png": "[encoded data removed]",
      "text/plain": [
       "<Figure size 432x288 with 1 Axes>"
      ]
     },
     "metadata": {},
     "output_type": "display_data"
    }
   ],
   "source": [
    "plt.figure()\n",
    "pd.crosstab(df[\"target\"],df[\"sex\"]).plot(kind=\"bar\", color=[\"darkblue\", \"lightseagreen\"], rot=0)\n",
    "plt.title(\"Distribution of Heart Disease by Gender\")\n",
    "plt.legend([\"Female\",\"Male\"])\n",
    "plt.ylabel(\"Frequency\")\n",
    "plt.show()\n"
   ]
  },
  {
   "cell_type": "markdown",
   "metadata": {},
   "source": [
    "As can be seen from the graph, females are more tend to have heart disease. 75% of our female patients have heart disease while there is approximately 44.9% of men that have heart disease."
   ]
  },
  {
   "cell_type": "markdown",
   "metadata": {},
   "source": [
    "Another comparison would be between chest pain type and target variable. "
   ]
  },
  {
   "cell_type": "code",
   "execution_count": 186,
   "metadata": {},
   "outputs": [
    {
     "data": {
      "text/html": [
       "<div>\n",
       "<style scoped>\n",
       "    .dataframe tbody tr th:only-of-type {\n",
       "        vertical-align: middle;\n",
       "    }\n",
       "\n",
       "    .dataframe tbody tr th {\n",
       "        vertical-align: top;\n",
       "    }\n",
       "\n",
       "    .dataframe thead th {\n",
       "        text-align: right;\n",
       "    }\n",
       "</style>\n",
       "<table border=\"1\" class=\"dataframe\">\n",
       "  <thead>\n",
       "    <tr style=\"text-align: right;\">\n",
       "      <th>cp</th>\n",
       "      <th>0</th>\n",
       "      <th>1</th>\n",
       "      <th>2</th>\n",
       "      <th>3</th>\n",
       "    </tr>\n",
       "    <tr>\n",
       "      <th>target</th>\n",
       "      <th></th>\n",
       "      <th></th>\n",
       "      <th></th>\n",
       "      <th></th>\n",
       "    </tr>\n",
       "  </thead>\n",
       "  <tbody>\n",
       "    <tr>\n",
       "      <th>0</th>\n",
       "      <td>104</td>\n",
       "      <td>9</td>\n",
       "      <td>18</td>\n",
       "      <td>7</td>\n",
       "    </tr>\n",
       "    <tr>\n",
       "      <th>1</th>\n",
       "      <td>39</td>\n",
       "      <td>41</td>\n",
       "      <td>69</td>\n",
       "      <td>16</td>\n",
       "    </tr>\n",
       "  </tbody>\n",
       "</table>\n",
       "</div>"
      ],
      "text/plain": [
       "cp        0   1   2   3\n",
       "target                 \n",
       "0       104   9  18   7\n",
       "1        39  41  69  16"
      ]
     },
     "execution_count": 186,
     "metadata": {},
     "output_type": "execute_result"
    }
   ],
   "source": [
    "pd.crosstab(df[\"target\"], df[\"cp\"])"
   ]
  },
  {
   "cell_type": "code",
   "execution_count": 187,
   "metadata": {},
   "outputs": [
    {
     "data": {
      "text/plain": [
       "<Figure size 432x288 with 0 Axes>"
      ]
     },
     "metadata": {},
     "output_type": "display_data"
    },
    {
     "data": {
      "image/png": "[encoded data removed]",
      "text/plain": [
       "<Figure size 432x288 with 1 Axes>"
      ]
     },
     "metadata": {},
     "output_type": "display_data"
    }
   ],
   "source": [
    "plt.figure()\n",
    "pd.crosstab(df[\"target\"], df[\"cp\"]).plot(kind=\"bar\", rot=0, cmap = \"rainbow\")\n",
    "plt.ylabel(\"Frequency\")\n",
    "plt.show()"
   ]
  },
  {
   "cell_type": "markdown",
   "metadata": {},
   "source": [
    "* 72.7% of patients with chest pain type 0 don't have heart disease. \n",
    "* 82% of patients with chest pain type 1 have heart disease. \n",
    "* 79.3% of patients with chest pain type 2 have heart disease. \n",
    "* Unfortunately, there is small amount of patients who have chest pain type 3. So, it will be wrong if statistical percentages are stated."
   ]
  },
  {
   "cell_type": "markdown",
   "metadata": {},
   "source": [
    "ECG results and target results are compared. Interesting results might be drawn from this comparison."
   ]
  },
  {
   "cell_type": "code",
   "execution_count": 188,
   "metadata": {},
   "outputs": [
    {
     "data": {
      "text/html": [
       "<div>\n",
       "<style scoped>\n",
       "    .dataframe tbody tr th:only-of-type {\n",
       "        vertical-align: middle;\n",
       "    }\n",
       "\n",
       "    .dataframe tbody tr th {\n",
       "        vertical-align: top;\n",
       "    }\n",
       "\n",
       "    .dataframe thead th {\n",
       "        text-align: right;\n",
       "    }\n",
       "</style>\n",
       "<table border=\"1\" class=\"dataframe\">\n",
       "  <thead>\n",
       "    <tr style=\"text-align: right;\">\n",
       "      <th>restecg</th>\n",
       "      <th>0</th>\n",
       "      <th>1</th>\n",
       "      <th>2</th>\n",
       "    </tr>\n",
       "    <tr>\n",
       "      <th>target</th>\n",
       "      <th></th>\n",
       "      <th></th>\n",
       "      <th></th>\n",
       "    </tr>\n",
       "  </thead>\n",
       "  <tbody>\n",
       "    <tr>\n",
       "      <th>0</th>\n",
       "      <td>79</td>\n",
       "      <td>56</td>\n",
       "      <td>3</td>\n",
       "    </tr>\n",
       "    <tr>\n",
       "      <th>1</th>\n",
       "      <td>68</td>\n",
       "      <td>96</td>\n",
       "      <td>1</td>\n",
       "    </tr>\n",
       "  </tbody>\n",
       "</table>\n",
       "</div>"
      ],
      "text/plain": [
       "restecg   0   1  2\n",
       "target            \n",
       "0        79  56  3\n",
       "1        68  96  1"
      ]
     },
     "execution_count": 188,
     "metadata": {},
     "output_type": "execute_result"
    }
   ],
   "source": [
    "pd.crosstab(df[\"target\"], df[\"restecg\"])"
   ]
  },
  {
   "cell_type": "code",
   "execution_count": 189,
   "metadata": {},
   "outputs": [
    {
     "data": {
      "text/plain": [
       "<matplotlib.axes._subplots.AxesSubplot at 0x2042f72a188>"
      ]
     },
     "execution_count": 189,
     "metadata": {},
     "output_type": "execute_result"
    },
    {
     "data": {
      "image/png": "[encoded data removed]",
      "text/plain": [
       "<Figure size 432x288 with 1 Axes>"
      ]
     },
     "metadata": {},
     "output_type": "display_data"
    }
   ],
   "source": [
    "pd.crosstab(df[\"target\"], df[\"restecg\"]).plot(kind=\"bar\", rot=0, cmap=\"winter\")"
   ]
  },
  {
   "cell_type": "markdown",
   "metadata": {},
   "source": [
    "First of all, from all of patients there is only 4 people who has restecg value of 2. Approximately 63.2% of restecg type 1 patients have heart disease. On the other hand, for restecg type 0 situation is like fifty-fifty. Roughly 46% of restecg type 0 patients have heart disease."
   ]
  },
  {
   "cell_type": "markdown",
   "metadata": {},
   "source": [
    "With visualizing independent variable and target variable relationship, more information received from dataset. Another comparisons can be looked just before examining models."
   ]
  },
  {
   "cell_type": "markdown",
   "metadata": {},
   "source": [
    "Moving on to features, which features should be visualized? \n",
    "Features that have relationship between them should be visualized. From feature information, it can be inferred that age and maximum heart rate might be correlated."
   ]
  },
  {
   "cell_type": "markdown",
   "metadata": {},
   "source": [
    "Since age and thalach features are continuous it's logical to make scatter plot to see their relationship."
   ]
  },
  {
   "cell_type": "code",
   "execution_count": 190,
   "metadata": {},
   "outputs": [
    {
     "data": {
      "image/png": "[encoded data removed]",
      "text/plain": [
       "<Figure size 432x288 with 1 Axes>"
      ]
     },
     "metadata": {},
     "output_type": "display_data"
    }
   ],
   "source": [
    "plt.figure()\n",
    "plt.scatter(df[\"age\"],df[\"thalach\"], color = \"salmon\")\n",
    "plt.xlabel(\"Age\")\n",
    "plt.ylabel(\"Maximum Heart Rate Achieved\")\n",
    "plt.show()"
   ]
  },
  {
   "cell_type": "markdown",
   "metadata": {},
   "source": [
    "From graph it can observed that, while age is increasing, maximum heart rate is decreasing. That means age and maximum heart rate features are negatively correlated."
   ]
  },
  {
   "cell_type": "markdown",
   "metadata": {},
   "source": [
    "Resting blood pressure and age is visualized to see if there is any correlation between them."
   ]
  },
  {
   "cell_type": "code",
   "execution_count": 191,
   "metadata": {},
   "outputs": [
    {
     "data": {
      "text/plain": [
       "Text(0, 0.5, 'Resting Blood Pressure')"
      ]
     },
     "execution_count": 191,
     "metadata": {},
     "output_type": "execute_result"
    },
    {
     "data": {
      "image/png": "[encoded data removed]",
      "text/plain": [
       "<Figure size 432x288 with 1 Axes>"
      ]
     },
     "metadata": {},
     "output_type": "display_data"
    }
   ],
   "source": [
    "plt.figure()\n",
    "plt.scatter(df[\"age\"],df[\"trestbps\"],color=\"lightseagreen\")\n",
    "plt.xlabel(\"Age\")\n",
    "plt.ylabel(\"Resting Blood Pressure\")"
   ]
  },
  {
   "cell_type": "markdown",
   "metadata": {},
   "source": [
    "The graph is neither increasing nor decreasing. Most of the blood pressure values are standing between 100-160 values."
   ]
  },
  {
   "cell_type": "markdown",
   "metadata": {},
   "source": [
    "For the last part of correlation plots, it would be good to see all features' correlation values between each other. For visualize that kind of plot, Seaborn's Heat Map function will be used.\n"
   ]
  },
  {
   "cell_type": "markdown",
   "metadata": {},
   "source": [
    "Correlation matrix can be viewed by applying corr() function;"
   ]
  },
  {
   "cell_type": "code",
   "execution_count": 192,
   "metadata": {},
   "outputs": [
    {
     "data": {
      "text/html": [
       "<div>\n",
       "<style scoped>\n",
       "    .dataframe tbody tr th:only-of-type {\n",
       "        vertical-align: middle;\n",
       "    }\n",
       "\n",
       "    .dataframe tbody tr th {\n",
       "        vertical-align: top;\n",
       "    }\n",
       "\n",
       "    .dataframe thead th {\n",
       "        text-align: right;\n",
       "    }\n",
       "</style>\n",
       "<table border=\"1\" class=\"dataframe\">\n",
       "  <thead>\n",
       "    <tr style=\"text-align: right;\">\n",
       "      <th></th>\n",
       "      <th>age</th>\n",
       "      <th>sex</th>\n",
       "      <th>cp</th>\n",
       "      <th>trestbps</th>\n",
       "      <th>chol</th>\n",
       "      <th>fbs</th>\n",
       "      <th>restecg</th>\n",
       "      <th>thalach</th>\n",
       "      <th>exang</th>\n",
       "      <th>oldpeak</th>\n",
       "      <th>slope</th>\n",
       "      <th>ca</th>\n",
       "      <th>thal</th>\n",
       "      <th>target</th>\n",
       "    </tr>\n",
       "  </thead>\n",
       "  <tbody>\n",
       "    <tr>\n",
       "      <th>age</th>\n",
       "      <td>1.000000</td>\n",
       "      <td>-0.098447</td>\n",
       "      <td>-0.068653</td>\n",
       "      <td>0.279351</td>\n",
       "      <td>0.213678</td>\n",
       "      <td>0.121308</td>\n",
       "      <td>-0.116211</td>\n",
       "      <td>-0.398522</td>\n",
       "      <td>0.096801</td>\n",
       "      <td>0.210013</td>\n",
       "      <td>-0.168814</td>\n",
       "      <td>0.276326</td>\n",
       "      <td>0.068001</td>\n",
       "      <td>-0.225439</td>\n",
       "    </tr>\n",
       "    <tr>\n",
       "      <th>sex</th>\n",
       "      <td>-0.098447</td>\n",
       "      <td>1.000000</td>\n",
       "      <td>-0.049353</td>\n",
       "      <td>-0.056769</td>\n",
       "      <td>-0.197912</td>\n",
       "      <td>0.045032</td>\n",
       "      <td>-0.058196</td>\n",
       "      <td>-0.044020</td>\n",
       "      <td>0.141664</td>\n",
       "      <td>0.096093</td>\n",
       "      <td>-0.030711</td>\n",
       "      <td>0.118261</td>\n",
       "      <td>0.210041</td>\n",
       "      <td>-0.280937</td>\n",
       "    </tr>\n",
       "    <tr>\n",
       "      <th>cp</th>\n",
       "      <td>-0.068653</td>\n",
       "      <td>-0.049353</td>\n",
       "      <td>1.000000</td>\n",
       "      <td>0.047608</td>\n",
       "      <td>-0.076904</td>\n",
       "      <td>0.094444</td>\n",
       "      <td>0.044421</td>\n",
       "      <td>0.295762</td>\n",
       "      <td>-0.394280</td>\n",
       "      <td>-0.149230</td>\n",
       "      <td>0.119717</td>\n",
       "      <td>-0.181053</td>\n",
       "      <td>-0.161736</td>\n",
       "      <td>0.433798</td>\n",
       "    </tr>\n",
       "    <tr>\n",
       "      <th>trestbps</th>\n",
       "      <td>0.279351</td>\n",
       "      <td>-0.056769</td>\n",
       "      <td>0.047608</td>\n",
       "      <td>1.000000</td>\n",
       "      <td>0.123174</td>\n",
       "      <td>0.177531</td>\n",
       "      <td>-0.114103</td>\n",
       "      <td>-0.046698</td>\n",
       "      <td>0.067616</td>\n",
       "      <td>0.193216</td>\n",
       "      <td>-0.121475</td>\n",
       "      <td>0.101389</td>\n",
       "      <td>0.062210</td>\n",
       "      <td>-0.144931</td>\n",
       "    </tr>\n",
       "    <tr>\n",
       "      <th>chol</th>\n",
       "      <td>0.213678</td>\n",
       "      <td>-0.197912</td>\n",
       "      <td>-0.076904</td>\n",
       "      <td>0.123174</td>\n",
       "      <td>1.000000</td>\n",
       "      <td>0.013294</td>\n",
       "      <td>-0.151040</td>\n",
       "      <td>-0.009940</td>\n",
       "      <td>0.067023</td>\n",
       "      <td>0.053952</td>\n",
       "      <td>-0.004038</td>\n",
       "      <td>0.070511</td>\n",
       "      <td>0.098803</td>\n",
       "      <td>-0.085239</td>\n",
       "    </tr>\n",
       "    <tr>\n",
       "      <th>fbs</th>\n",
       "      <td>0.121308</td>\n",
       "      <td>0.045032</td>\n",
       "      <td>0.094444</td>\n",
       "      <td>0.177531</td>\n",
       "      <td>0.013294</td>\n",
       "      <td>1.000000</td>\n",
       "      <td>-0.084189</td>\n",
       "      <td>-0.008567</td>\n",
       "      <td>0.025665</td>\n",
       "      <td>0.005747</td>\n",
       "      <td>-0.059894</td>\n",
       "      <td>0.137979</td>\n",
       "      <td>-0.032019</td>\n",
       "      <td>-0.028046</td>\n",
       "    </tr>\n",
       "    <tr>\n",
       "      <th>restecg</th>\n",
       "      <td>-0.116211</td>\n",
       "      <td>-0.058196</td>\n",
       "      <td>0.044421</td>\n",
       "      <td>-0.114103</td>\n",
       "      <td>-0.151040</td>\n",
       "      <td>-0.084189</td>\n",
       "      <td>1.000000</td>\n",
       "      <td>0.044123</td>\n",
       "      <td>-0.070733</td>\n",
       "      <td>-0.058770</td>\n",
       "      <td>0.093045</td>\n",
       "      <td>-0.072042</td>\n",
       "      <td>-0.011981</td>\n",
       "      <td>0.137230</td>\n",
       "    </tr>\n",
       "    <tr>\n",
       "      <th>thalach</th>\n",
       "      <td>-0.398522</td>\n",
       "      <td>-0.044020</td>\n",
       "      <td>0.295762</td>\n",
       "      <td>-0.046698</td>\n",
       "      <td>-0.009940</td>\n",
       "      <td>-0.008567</td>\n",
       "      <td>0.044123</td>\n",
       "      <td>1.000000</td>\n",
       "      <td>-0.378812</td>\n",
       "      <td>-0.344187</td>\n",
       "      <td>0.386784</td>\n",
       "      <td>-0.213177</td>\n",
       "      <td>-0.096439</td>\n",
       "      <td>0.421741</td>\n",
       "    </tr>\n",
       "    <tr>\n",
       "      <th>exang</th>\n",
       "      <td>0.096801</td>\n",
       "      <td>0.141664</td>\n",
       "      <td>-0.394280</td>\n",
       "      <td>0.067616</td>\n",
       "      <td>0.067023</td>\n",
       "      <td>0.025665</td>\n",
       "      <td>-0.070733</td>\n",
       "      <td>-0.378812</td>\n",
       "      <td>1.000000</td>\n",
       "      <td>0.288223</td>\n",
       "      <td>-0.257748</td>\n",
       "      <td>0.115739</td>\n",
       "      <td>0.206754</td>\n",
       "      <td>-0.436757</td>\n",
       "    </tr>\n",
       "    <tr>\n",
       "      <th>oldpeak</th>\n",
       "      <td>0.210013</td>\n",
       "      <td>0.096093</td>\n",
       "      <td>-0.149230</td>\n",
       "      <td>0.193216</td>\n",
       "      <td>0.053952</td>\n",
       "      <td>0.005747</td>\n",
       "      <td>-0.058770</td>\n",
       "      <td>-0.344187</td>\n",
       "      <td>0.288223</td>\n",
       "      <td>1.000000</td>\n",
       "      <td>-0.577537</td>\n",
       "      <td>0.222682</td>\n",
       "      <td>0.210244</td>\n",
       "      <td>-0.430696</td>\n",
       "    </tr>\n",
       "    <tr>\n",
       "      <th>slope</th>\n",
       "      <td>-0.168814</td>\n",
       "      <td>-0.030711</td>\n",
       "      <td>0.119717</td>\n",
       "      <td>-0.121475</td>\n",
       "      <td>-0.004038</td>\n",
       "      <td>-0.059894</td>\n",
       "      <td>0.093045</td>\n",
       "      <td>0.386784</td>\n",
       "      <td>-0.257748</td>\n",
       "      <td>-0.577537</td>\n",
       "      <td>1.000000</td>\n",
       "      <td>-0.080155</td>\n",
       "      <td>-0.104764</td>\n",
       "      <td>0.345877</td>\n",
       "    </tr>\n",
       "    <tr>\n",
       "      <th>ca</th>\n",
       "      <td>0.276326</td>\n",
       "      <td>0.118261</td>\n",
       "      <td>-0.181053</td>\n",
       "      <td>0.101389</td>\n",
       "      <td>0.070511</td>\n",
       "      <td>0.137979</td>\n",
       "      <td>-0.072042</td>\n",
       "      <td>-0.213177</td>\n",
       "      <td>0.115739</td>\n",
       "      <td>0.222682</td>\n",
       "      <td>-0.080155</td>\n",
       "      <td>1.000000</td>\n",
       "      <td>0.151832</td>\n",
       "      <td>-0.391724</td>\n",
       "    </tr>\n",
       "    <tr>\n",
       "      <th>thal</th>\n",
       "      <td>0.068001</td>\n",
       "      <td>0.210041</td>\n",
       "      <td>-0.161736</td>\n",
       "      <td>0.062210</td>\n",
       "      <td>0.098803</td>\n",
       "      <td>-0.032019</td>\n",
       "      <td>-0.011981</td>\n",
       "      <td>-0.096439</td>\n",
       "      <td>0.206754</td>\n",
       "      <td>0.210244</td>\n",
       "      <td>-0.104764</td>\n",
       "      <td>0.151832</td>\n",
       "      <td>1.000000</td>\n",
       "      <td>-0.344029</td>\n",
       "    </tr>\n",
       "    <tr>\n",
       "      <th>target</th>\n",
       "      <td>-0.225439</td>\n",
       "      <td>-0.280937</td>\n",
       "      <td>0.433798</td>\n",
       "      <td>-0.144931</td>\n",
       "      <td>-0.085239</td>\n",
       "      <td>-0.028046</td>\n",
       "      <td>0.137230</td>\n",
       "      <td>0.421741</td>\n",
       "      <td>-0.436757</td>\n",
       "      <td>-0.430696</td>\n",
       "      <td>0.345877</td>\n",
       "      <td>-0.391724</td>\n",
       "      <td>-0.344029</td>\n",
       "      <td>1.000000</td>\n",
       "    </tr>\n",
       "  </tbody>\n",
       "</table>\n",
       "</div>"
      ],
      "text/plain": [
       "               age       sex        cp  trestbps      chol       fbs  \\\n",
       "age       1.000000 -0.098447 -0.068653  0.279351  0.213678  0.121308   \n",
       "sex      -0.098447  1.000000 -0.049353 -0.056769 -0.197912  0.045032   \n",
       "cp       -0.068653 -0.049353  1.000000  0.047608 -0.076904  0.094444   \n",
       "trestbps  0.279351 -0.056769  0.047608  1.000000  0.123174  0.177531   \n",
       "chol      0.213678 -0.197912 -0.076904  0.123174  1.000000  0.013294   \n",
       "fbs       0.121308  0.045032  0.094444  0.177531  0.013294  1.000000   \n",
       "restecg  -0.116211 -0.058196  0.044421 -0.114103 -0.151040 -0.084189   \n",
       "thalach  -0.398522 -0.044020  0.295762 -0.046698 -0.009940 -0.008567   \n",
       "exang     0.096801  0.141664 -0.394280  0.067616  0.067023  0.025665   \n",
       "oldpeak   0.210013  0.096093 -0.149230  0.193216  0.053952  0.005747   \n",
       "slope    -0.168814 -0.030711  0.119717 -0.121475 -0.004038 -0.059894   \n",
       "ca        0.276326  0.118261 -0.181053  0.101389  0.070511  0.137979   \n",
       "thal      0.068001  0.210041 -0.161736  0.062210  0.098803 -0.032019   \n",
       "target   -0.225439 -0.280937  0.433798 -0.144931 -0.085239 -0.028046   \n",
       "\n",
       "           restecg   thalach     exang   oldpeak     slope        ca  \\\n",
       "age      -0.116211 -0.398522  0.096801  0.210013 -0.168814  0.276326   \n",
       "sex      -0.058196 -0.044020  0.141664  0.096093 -0.030711  0.118261   \n",
       "cp        0.044421  0.295762 -0.394280 -0.149230  0.119717 -0.181053   \n",
       "trestbps -0.114103 -0.046698  0.067616  0.193216 -0.121475  0.101389   \n",
       "chol     -0.151040 -0.009940  0.067023  0.053952 -0.004038  0.070511   \n",
       "fbs      -0.084189 -0.008567  0.025665  0.005747 -0.059894  0.137979   \n",
       "restecg   1.000000  0.044123 -0.070733 -0.058770  0.093045 -0.072042   \n",
       "thalach   0.044123  1.000000 -0.378812 -0.344187  0.386784 -0.213177   \n",
       "exang    -0.070733 -0.378812  1.000000  0.288223 -0.257748  0.115739   \n",
       "oldpeak  -0.058770 -0.344187  0.288223  1.000000 -0.577537  0.222682   \n",
       "slope     0.093045  0.386784 -0.257748 -0.577537  1.000000 -0.080155   \n",
       "ca       -0.072042 -0.213177  0.115739  0.222682 -0.080155  1.000000   \n",
       "thal     -0.011981 -0.096439  0.206754  0.210244 -0.104764  0.151832   \n",
       "target    0.137230  0.421741 -0.436757 -0.430696  0.345877 -0.391724   \n",
       "\n",
       "              thal    target  \n",
       "age       0.068001 -0.225439  \n",
       "sex       0.210041 -0.280937  \n",
       "cp       -0.161736  0.433798  \n",
       "trestbps  0.062210 -0.144931  \n",
       "chol      0.098803 -0.085239  \n",
       "fbs      -0.032019 -0.028046  \n",
       "restecg  -0.011981  0.137230  \n",
       "thalach  -0.096439  0.421741  \n",
       "exang     0.206754 -0.436757  \n",
       "oldpeak   0.210244 -0.430696  \n",
       "slope    -0.104764  0.345877  \n",
       "ca        0.151832 -0.391724  \n",
       "thal      1.000000 -0.344029  \n",
       "target   -0.344029  1.000000  "
      ]
     },
     "execution_count": 192,
     "metadata": {},
     "output_type": "execute_result"
    }
   ],
   "source": [
    "df.corr()"
   ]
  },
  {
   "cell_type": "markdown",
   "metadata": {},
   "source": [
    "After that, for a better understanding, heatmap of correlation matrix is implemented."
   ]
  },
  {
   "cell_type": "code",
   "execution_count": 193,
   "metadata": {},
   "outputs": [
    {
     "data": {
      "image/png": "[encoded data removed]",
      "text/plain": [
       "<Figure size 864x864 with 2 Axes>"
      ]
     },
     "metadata": {},
     "output_type": "display_data"
    }
   ],
   "source": [
    "plt.figure(figsize=(12,12))\n",
    "sns.heatmap(df.corr(), annot=True, fmt=\".2f\", square=True, linewidths=0.5, cmap=\"Reds\")\n",
    "plt.show()"
   ]
  },
  {
   "cell_type": "markdown",
   "metadata": {},
   "source": [
    "* Negative high values means features are negatively correlated.(\"thalach\" and \"age\")\n",
    "* Positive high values means features are positively correlated.\n",
    "* **Important: Check for multicollinearity in high correlated values.**\n"
   ]
  },
  {
   "cell_type": "markdown",
   "metadata": {},
   "source": [
    "## 3. Preprocessing"
   ]
  },
  {
   "cell_type": "markdown",
   "metadata": {},
   "source": [
    "Since dataset has no missing values to deal with, data can be easily get ready for models to train on it.(KNN, Logistic Regression, Random Forest)"
   ]
  },
  {
   "cell_type": "markdown",
   "metadata": {},
   "source": [
    "Missing values don't exist but do categorical values exist in dataset? Actually, dataset contains categorical features like \"chest pain type\" or \"sex\". But are they already in numerical format? It must be checked that if any of features are not numerical. Why? Because models can't be trained with non-numerical data, they should be transformed to numerical values.\n"
   ]
  },
  {
   "cell_type": "code",
   "execution_count": 194,
   "metadata": {},
   "outputs": [
    {
     "data": {
      "text/plain": [
       "age           int64\n",
       "sex           int64\n",
       "cp            int64\n",
       "trestbps      int64\n",
       "chol          int64\n",
       "fbs           int64\n",
       "restecg       int64\n",
       "thalach       int64\n",
       "exang         int64\n",
       "oldpeak     float64\n",
       "slope         int64\n",
       "ca            int64\n",
       "thal          int64\n",
       "target        int64\n",
       "dtype: object"
      ]
     },
     "execution_count": 194,
     "metadata": {},
     "output_type": "execute_result"
    }
   ],
   "source": [
    "df.dtypes\n"
   ]
  },
  {
   "cell_type": "markdown",
   "metadata": {},
   "source": [
    "As can be observed from dtype function, dataset has no non-numerical values. That's actually great...or is it? As numerical categorical features be examined, it can be seen that they're forced to be ordinal feature. It is explained in next sentences what Categorical and ordinal data is and from that, it can be inferred that how they're differ from each other. <a id='encoding'></a>"
   ]
  },
  {
   "cell_type": "markdown",
   "metadata": {},
   "source": [
    "A **categorical variable** (sometimes called a nominal variable) is one that has two or more categories, but there is no intrinsic ordering to the categories.  For example, \"sex\" feature in our data is a categorical variable having two categories (male and female) and there is no intrinsic ordering to the categories. "
   ]
  },
  {
   "cell_type": "markdown",
   "metadata": {},
   "source": [
    "An **ordinal variable** is similar to a categorical variable.  The difference between the two is that there is a clear ordering of the variables.  For example, suppose a economic status variable exists, with three categories (low, medium and high). If low = 0, medium = 1, high = 2 are set, there would be no difference because these values are already ordered like that. In this notebook's dataset, all categorical features are *encoded* like that and that might encounter a problem because there might be more non-ordinal features like \"sex\"."
   ]
  },
  {
   "cell_type": "markdown",
   "metadata": {},
   "source": [
    "Since our models can't figure out what \"male\" or \"female\" means, if their values set as 0 and 1, models might infer that there is an order between these values. But actually there is not! So, if this problem is not fixed, it might affect our models performance."
   ]
  },
  {
   "cell_type": "markdown",
   "metadata": {},
   "source": [
    "How it can be fixed?"
   ]
  },
  {
   "cell_type": "markdown",
   "metadata": {},
   "source": [
    "It can be fixed with *encoding*."
   ]
  },
  {
   "cell_type": "markdown",
   "metadata": {},
   "source": [
    "Encoding is a method for converting categorical features into numerical type that model can understand. There is actually two most popular methods of encoding. *Label Encoding* and *One Hot Encoding*."
   ]
  },
  {
   "cell_type": "markdown",
   "metadata": {},
   "source": [
    "##### Label Encoding"
   ]
  },
  {
   "cell_type": "markdown",
   "metadata": {},
   "source": [
    "*Label Encoding*, converting each value in a column to a number. Suppose that there exist a \"sex\" feature contains \"male\" and \"female\" instead of 0 and 1s like now. Label Encoding assigns \"male\" and \"female\" into numbers. Like \"female\" as 0, \"male\" as 1 in our case. It can be said that our \"sex\" feature is already Label encoded. But as already mentioned, Label encoding is only accurate for *ordinal features* (Low, Medium, High). In notebook's dataset, \"sex\" feature is a categorical variable, not ordinal. It must be encoded in a different manner."
   ]
  },
  {
   "cell_type": "markdown",
   "metadata": {},
   "source": [
    "##### One Hot Encoding"
   ]
  },
  {
   "cell_type": "markdown",
   "metadata": {},
   "source": [
    "*One Hot Encoding* is converting categorical features into seperate binary columns as many as the number of unique values of those variables. For instance, if \"cp\" feature is encoded with one hot method, since there are 4 types of chest pain type in our data, One Hot Encoding would create 4 binary columns to describe that feature. Each column would have binary numbers as 1 means existence of that corresponding feature, 0 means absence of that corresponding feature. Since One Hot Encoding splits all unique values of feature, it's best method to encode *categorical features*."
   ]
  },
  {
   "cell_type": "markdown",
   "metadata": {},
   "source": [
    "###### Dummy Trap"
   ]
  },
  {
   "cell_type": "markdown",
   "metadata": {},
   "source": [
    "The Dummy trap is a scenario in which the independent variables are multicollinear — a scenario in which two or more variables are highly correlated; in simple terms one variable can be predicted from the others. \n"
   ]
  },
  {
   "cell_type": "markdown",
   "metadata": {},
   "source": [
    "As already mentioned, in One Hot Encoding binary columns are created for each unique values of features.  \n",
    "In this case, one column would be redundant. Why? It can be more illustrative with example;  \n",
    "In this notebook's dataset, a feature called \"thal\" has 4 different values as \"0\",\"1\",\"2\",\"3\". If this feature is encoeded with One Hot Encoding, there would be 4 columns like \"thal_0\",\"thal_1\",\"thal_2\",\"thal_3\". So for patients, there are 4 options, patients would have only single thal value as \"1\" (True). So, if one of these thal_ features is dropped would there exist any problem? Actually there wouldn't exist any problem. Suppose that thal_0 is dropped, since other thal values are all 0's in where thal_0 exists, there would be no problem for understanding that thal_0 exists.  \n",
    "So, to avoid dummy trap, dummy variable is declared one less than categorical values.In \"thal\" scenario, number of unique categorical values was 4 (n). So, there would be 3 (n-1) dummy variables. Dummy trap can be avoided with this kind of manner."
   ]
  },
  {
   "cell_type": "markdown",
   "metadata": {},
   "source": [
    "If OneHotEncoding is applied; "
   ]
  },
  {
   "cell_type": "code",
   "execution_count": 195,
   "metadata": {},
   "outputs": [
    {
     "data": {
      "text/html": [
       "<div>\n",
       "<style scoped>\n",
       "    .dataframe tbody tr th:only-of-type {\n",
       "        vertical-align: middle;\n",
       "    }\n",
       "\n",
       "    .dataframe tbody tr th {\n",
       "        vertical-align: top;\n",
       "    }\n",
       "\n",
       "    .dataframe thead th {\n",
       "        text-align: right;\n",
       "    }\n",
       "</style>\n",
       "<table border=\"1\" class=\"dataframe\">\n",
       "  <thead>\n",
       "    <tr style=\"text-align: right;\">\n",
       "      <th></th>\n",
       "      <th>age</th>\n",
       "      <th>trestbps</th>\n",
       "      <th>chol</th>\n",
       "      <th>thalach</th>\n",
       "      <th>oldpeak</th>\n",
       "      <th>target</th>\n",
       "      <th>sex_1</th>\n",
       "      <th>cp_1</th>\n",
       "      <th>cp_2</th>\n",
       "      <th>cp_3</th>\n",
       "      <th>...</th>\n",
       "      <th>ca_1</th>\n",
       "      <th>ca_2</th>\n",
       "      <th>ca_3</th>\n",
       "      <th>ca_4</th>\n",
       "      <th>slope_1</th>\n",
       "      <th>slope_2</th>\n",
       "      <th>exang_1</th>\n",
       "      <th>restecg_1</th>\n",
       "      <th>restecg_2</th>\n",
       "      <th>fbs_1</th>\n",
       "    </tr>\n",
       "  </thead>\n",
       "  <tbody>\n",
       "    <tr>\n",
       "      <th>0</th>\n",
       "      <td>63</td>\n",
       "      <td>145</td>\n",
       "      <td>233</td>\n",
       "      <td>150</td>\n",
       "      <td>2.3</td>\n",
       "      <td>1</td>\n",
       "      <td>1</td>\n",
       "      <td>0</td>\n",
       "      <td>0</td>\n",
       "      <td>1</td>\n",
       "      <td>...</td>\n",
       "      <td>0</td>\n",
       "      <td>0</td>\n",
       "      <td>0</td>\n",
       "      <td>0</td>\n",
       "      <td>0</td>\n",
       "      <td>0</td>\n",
       "      <td>0</td>\n",
       "      <td>0</td>\n",
       "      <td>0</td>\n",
       "      <td>1</td>\n",
       "    </tr>\n",
       "    <tr>\n",
       "      <th>1</th>\n",
       "      <td>37</td>\n",
       "      <td>130</td>\n",
       "      <td>250</td>\n",
       "      <td>187</td>\n",
       "      <td>3.5</td>\n",
       "      <td>1</td>\n",
       "      <td>1</td>\n",
       "      <td>0</td>\n",
       "      <td>1</td>\n",
       "      <td>0</td>\n",
       "      <td>...</td>\n",
       "      <td>0</td>\n",
       "      <td>0</td>\n",
       "      <td>0</td>\n",
       "      <td>0</td>\n",
       "      <td>0</td>\n",
       "      <td>0</td>\n",
       "      <td>0</td>\n",
       "      <td>1</td>\n",
       "      <td>0</td>\n",
       "      <td>0</td>\n",
       "    </tr>\n",
       "    <tr>\n",
       "      <th>2</th>\n",
       "      <td>41</td>\n",
       "      <td>130</td>\n",
       "      <td>204</td>\n",
       "      <td>172</td>\n",
       "      <td>1.4</td>\n",
       "      <td>1</td>\n",
       "      <td>0</td>\n",
       "      <td>1</td>\n",
       "      <td>0</td>\n",
       "      <td>0</td>\n",
       "      <td>...</td>\n",
       "      <td>0</td>\n",
       "      <td>0</td>\n",
       "      <td>0</td>\n",
       "      <td>0</td>\n",
       "      <td>0</td>\n",
       "      <td>1</td>\n",
       "      <td>0</td>\n",
       "      <td>0</td>\n",
       "      <td>0</td>\n",
       "      <td>0</td>\n",
       "    </tr>\n",
       "    <tr>\n",
       "      <th>3</th>\n",
       "      <td>56</td>\n",
       "      <td>120</td>\n",
       "      <td>236</td>\n",
       "      <td>178</td>\n",
       "      <td>0.8</td>\n",
       "      <td>1</td>\n",
       "      <td>1</td>\n",
       "      <td>1</td>\n",
       "      <td>0</td>\n",
       "      <td>0</td>\n",
       "      <td>...</td>\n",
       "      <td>0</td>\n",
       "      <td>0</td>\n",
       "      <td>0</td>\n",
       "      <td>0</td>\n",
       "      <td>0</td>\n",
       "      <td>1</td>\n",
       "      <td>0</td>\n",
       "      <td>1</td>\n",
       "      <td>0</td>\n",
       "      <td>0</td>\n",
       "    </tr>\n",
       "    <tr>\n",
       "      <th>4</th>\n",
       "      <td>57</td>\n",
       "      <td>120</td>\n",
       "      <td>354</td>\n",
       "      <td>163</td>\n",
       "      <td>0.6</td>\n",
       "      <td>1</td>\n",
       "      <td>0</td>\n",
       "      <td>0</td>\n",
       "      <td>0</td>\n",
       "      <td>0</td>\n",
       "      <td>...</td>\n",
       "      <td>0</td>\n",
       "      <td>0</td>\n",
       "      <td>0</td>\n",
       "      <td>0</td>\n",
       "      <td>0</td>\n",
       "      <td>1</td>\n",
       "      <td>1</td>\n",
       "      <td>1</td>\n",
       "      <td>0</td>\n",
       "      <td>0</td>\n",
       "    </tr>\n",
       "    <tr>\n",
       "      <th>...</th>\n",
       "      <td>...</td>\n",
       "      <td>...</td>\n",
       "      <td>...</td>\n",
       "      <td>...</td>\n",
       "      <td>...</td>\n",
       "      <td>...</td>\n",
       "      <td>...</td>\n",
       "      <td>...</td>\n",
       "      <td>...</td>\n",
       "      <td>...</td>\n",
       "      <td>...</td>\n",
       "      <td>...</td>\n",
       "      <td>...</td>\n",
       "      <td>...</td>\n",
       "      <td>...</td>\n",
       "      <td>...</td>\n",
       "      <td>...</td>\n",
       "      <td>...</td>\n",
       "      <td>...</td>\n",
       "      <td>...</td>\n",
       "      <td>...</td>\n",
       "    </tr>\n",
       "    <tr>\n",
       "      <th>298</th>\n",
       "      <td>57</td>\n",
       "      <td>140</td>\n",
       "      <td>241</td>\n",
       "      <td>123</td>\n",
       "      <td>0.2</td>\n",
       "      <td>0</td>\n",
       "      <td>0</td>\n",
       "      <td>0</td>\n",
       "      <td>0</td>\n",
       "      <td>0</td>\n",
       "      <td>...</td>\n",
       "      <td>0</td>\n",
       "      <td>0</td>\n",
       "      <td>0</td>\n",
       "      <td>0</td>\n",
       "      <td>1</td>\n",
       "      <td>0</td>\n",
       "      <td>1</td>\n",
       "      <td>1</td>\n",
       "      <td>0</td>\n",
       "      <td>0</td>\n",
       "    </tr>\n",
       "    <tr>\n",
       "      <th>299</th>\n",
       "      <td>45</td>\n",
       "      <td>110</td>\n",
       "      <td>264</td>\n",
       "      <td>132</td>\n",
       "      <td>1.2</td>\n",
       "      <td>0</td>\n",
       "      <td>1</td>\n",
       "      <td>0</td>\n",
       "      <td>0</td>\n",
       "      <td>1</td>\n",
       "      <td>...</td>\n",
       "      <td>0</td>\n",
       "      <td>0</td>\n",
       "      <td>0</td>\n",
       "      <td>0</td>\n",
       "      <td>1</td>\n",
       "      <td>0</td>\n",
       "      <td>0</td>\n",
       "      <td>1</td>\n",
       "      <td>0</td>\n",
       "      <td>0</td>\n",
       "    </tr>\n",
       "    <tr>\n",
       "      <th>300</th>\n",
       "      <td>68</td>\n",
       "      <td>144</td>\n",
       "      <td>193</td>\n",
       "      <td>141</td>\n",
       "      <td>3.4</td>\n",
       "      <td>0</td>\n",
       "      <td>1</td>\n",
       "      <td>0</td>\n",
       "      <td>0</td>\n",
       "      <td>0</td>\n",
       "      <td>...</td>\n",
       "      <td>0</td>\n",
       "      <td>1</td>\n",
       "      <td>0</td>\n",
       "      <td>0</td>\n",
       "      <td>1</td>\n",
       "      <td>0</td>\n",
       "      <td>0</td>\n",
       "      <td>1</td>\n",
       "      <td>0</td>\n",
       "      <td>1</td>\n",
       "    </tr>\n",
       "    <tr>\n",
       "      <th>301</th>\n",
       "      <td>57</td>\n",
       "      <td>130</td>\n",
       "      <td>131</td>\n",
       "      <td>115</td>\n",
       "      <td>1.2</td>\n",
       "      <td>0</td>\n",
       "      <td>1</td>\n",
       "      <td>0</td>\n",
       "      <td>0</td>\n",
       "      <td>0</td>\n",
       "      <td>...</td>\n",
       "      <td>1</td>\n",
       "      <td>0</td>\n",
       "      <td>0</td>\n",
       "      <td>0</td>\n",
       "      <td>1</td>\n",
       "      <td>0</td>\n",
       "      <td>1</td>\n",
       "      <td>1</td>\n",
       "      <td>0</td>\n",
       "      <td>0</td>\n",
       "    </tr>\n",
       "    <tr>\n",
       "      <th>302</th>\n",
       "      <td>57</td>\n",
       "      <td>130</td>\n",
       "      <td>236</td>\n",
       "      <td>174</td>\n",
       "      <td>0.0</td>\n",
       "      <td>0</td>\n",
       "      <td>0</td>\n",
       "      <td>1</td>\n",
       "      <td>0</td>\n",
       "      <td>0</td>\n",
       "      <td>...</td>\n",
       "      <td>1</td>\n",
       "      <td>0</td>\n",
       "      <td>0</td>\n",
       "      <td>0</td>\n",
       "      <td>1</td>\n",
       "      <td>0</td>\n",
       "      <td>0</td>\n",
       "      <td>0</td>\n",
       "      <td>0</td>\n",
       "      <td>0</td>\n",
       "    </tr>\n",
       "  </tbody>\n",
       "</table>\n",
       "<p>303 rows × 23 columns</p>\n",
       "</div>"
      ],
      "text/plain": [
       "     age  trestbps  chol  thalach  oldpeak  target  sex_1  cp_1  cp_2  cp_3  \\\n",
       "0     63       145   233      150      2.3       1      1     0     0     1   \n",
       "1     37       130   250      187      3.5       1      1     0     1     0   \n",
       "2     41       130   204      172      1.4       1      0     1     0     0   \n",
       "3     56       120   236      178      0.8       1      1     1     0     0   \n",
       "4     57       120   354      163      0.6       1      0     0     0     0   \n",
       "..   ...       ...   ...      ...      ...     ...    ...   ...   ...   ...   \n",
       "298   57       140   241      123      0.2       0      0     0     0     0   \n",
       "299   45       110   264      132      1.2       0      1     0     0     1   \n",
       "300   68       144   193      141      3.4       0      1     0     0     0   \n",
       "301   57       130   131      115      1.2       0      1     0     0     0   \n",
       "302   57       130   236      174      0.0       0      0     1     0     0   \n",
       "\n",
       "     ...  ca_1  ca_2  ca_3  ca_4  slope_1  slope_2  exang_1  restecg_1  \\\n",
       "0    ...     0     0     0     0        0        0        0          0   \n",
       "1    ...     0     0     0     0        0        0        0          1   \n",
       "2    ...     0     0     0     0        0        1        0          0   \n",
       "3    ...     0     0     0     0        0        1        0          1   \n",
       "4    ...     0     0     0     0        0        1        1          1   \n",
       "..   ...   ...   ...   ...   ...      ...      ...      ...        ...   \n",
       "298  ...     0     0     0     0        1        0        1          1   \n",
       "299  ...     0     0     0     0        1        0        0          1   \n",
       "300  ...     0     1     0     0        1        0        0          1   \n",
       "301  ...     1     0     0     0        1        0        1          1   \n",
       "302  ...     1     0     0     0        1        0        0          0   \n",
       "\n",
       "     restecg_2  fbs_1  \n",
       "0            0      1  \n",
       "1            0      0  \n",
       "2            0      0  \n",
       "3            0      0  \n",
       "4            0      0  \n",
       "..         ...    ...  \n",
       "298          0      0  \n",
       "299          0      0  \n",
       "300          0      1  \n",
       "301          0      0  \n",
       "302          0      0  \n",
       "\n",
       "[303 rows x 23 columns]"
      ]
     },
     "execution_count": 195,
     "metadata": {},
     "output_type": "execute_result"
    }
   ],
   "source": [
    "df_encoded = pd.get_dummies(df, columns=[\"sex\", \"cp\", \"thal\", \"ca\", \"slope\", \"exang\", \"restecg\",\"fbs\"], prefix=[\"sex\", \"cp\", \"thal\", \"ca\", \"slope\", \"exang\", \"restecg\", \"fbs\"], drop_first = True) \n",
    "df_encoded"
   ]
  },
  {
   "cell_type": "markdown",
   "metadata": {},
   "source": [
    "Now, we should get ready for training model on our data."
   ]
  },
  {
   "cell_type": "markdown",
   "metadata": {},
   "source": [
    "First of all, dataset should be seperated; as X(independent variables) and y(dependent target variable).    \n",
    "<a id='without_encoding'></a> "
   ]
  },
  {
   "cell_type": "code",
   "execution_count": 196,
   "metadata": {},
   "outputs": [],
   "source": [
    "X = df_encoded.iloc[:,df_encoded.columns!=5].values \n",
    "y = df_encoded.iloc[:,-5].values"
   ]
  },
  {
   "cell_type": "markdown",
   "metadata": {},
   "source": [
    "Little trivia: As a naming convention in Data Science, independent features are stated as upper case 'X' while dependent target variable is stated as lower case 'y'"
   ]
  },
  {
   "cell_type": "markdown",
   "metadata": {},
   "source": [
    "Dataset is seperated as X and y arrays.\n"
   ]
  },
  {
   "cell_type": "code",
   "execution_count": 197,
   "metadata": {},
   "outputs": [
    {
     "data": {
      "text/plain": [
       "array([[ 63., 145., 233., ...,   0.,   0.,   1.],\n",
       "       [ 37., 130., 250., ...,   1.,   0.,   0.],\n",
       "       [ 41., 130., 204., ...,   0.,   0.,   0.],\n",
       "       ...,\n",
       "       [ 68., 144., 193., ...,   1.,   0.,   1.],\n",
       "       [ 57., 130., 131., ...,   1.,   0.,   0.],\n",
       "       [ 57., 130., 236., ...,   0.,   0.,   0.]])"
      ]
     },
     "execution_count": 197,
     "metadata": {},
     "output_type": "execute_result"
    }
   ],
   "source": [
    "X"
   ]
  },
  {
   "cell_type": "code",
   "execution_count": 198,
   "metadata": {},
   "outputs": [
    {
     "data": {
      "text/plain": [
       "array([0, 0, 1, 1, 1, 0, 0, 1, 1, 1, 1, 1, 1, 0, 1, 0, 1, 0, 1, 1, 0, 1,\n",
       "       1, 0, 1, 1, 1, 1, 1, 0, 1, 1, 1, 0, 1, 0, 1, 1, 1, 1, 1, 0, 0, 0,\n",
       "       1, 1, 1, 1, 1, 1, 1, 0, 0, 0, 1, 1, 1, 1, 1, 1, 1, 1, 0, 0, 1, 1,\n",
       "       0, 0, 1, 1, 0, 1, 1, 1, 0, 0, 0, 1, 1, 0, 1, 1, 1, 0, 0, 0, 1, 1,\n",
       "       0, 0, 1, 1, 1, 1, 0, 1, 0, 1, 1, 1, 1, 0, 1, 0, 1, 0, 0, 0, 1, 1,\n",
       "       1, 1, 1, 1, 1, 1, 0, 0, 1, 0, 0, 1, 1, 1, 1, 1, 1, 1, 0, 1, 1, 0,\n",
       "       1, 1, 1, 1, 1, 1, 0, 0, 1, 0, 0, 1, 0, 1, 0, 1, 1, 1, 1, 0, 0, 0,\n",
       "       0, 0, 1, 1, 0, 1, 0, 1, 1, 1, 1, 0, 0, 0, 0, 0, 0, 0, 0, 1, 0, 0,\n",
       "       1, 1, 0, 0, 0, 0, 1, 0, 0, 1, 1, 0, 0, 1, 0, 0, 0, 0, 0, 0, 0, 0,\n",
       "       0, 1, 1, 0, 1, 0, 0, 1, 0, 0, 0, 1, 0, 0, 0, 0, 0, 0, 0, 1, 0, 1,\n",
       "       0, 0, 0, 0, 0, 0, 0, 0, 0, 0, 1, 0, 0, 0, 0, 1, 1, 0, 1, 1, 0, 0,\n",
       "       0, 0, 0, 0, 0, 0, 1, 0, 0, 0, 0, 0, 1, 0, 0, 0, 0, 0, 0, 1, 0, 0,\n",
       "       0, 1, 0, 1, 0, 0, 1, 0, 0, 1, 0, 1, 0, 1, 1, 0, 0, 0, 0, 1, 1, 0,\n",
       "       1, 1, 0, 0, 1, 0, 0, 0, 0, 1, 0, 0, 0, 0, 0, 0, 0], dtype=uint8)"
      ]
     },
     "execution_count": 198,
     "metadata": {},
     "output_type": "execute_result"
    }
   ],
   "source": [
    "y"
   ]
  },
  {
   "cell_type": "markdown",
   "metadata": {},
   "source": [
    "Before train models on data, data should be splitted as train and test sets."
   ]
  },
  {
   "cell_type": "markdown",
   "metadata": {},
   "source": [
    "Why it is important to split data as train and test sets? Wouldn't be better to train and test our model on full data? The answer is no actually. If model makes predictions on same data that it trained on it, model would recognize some patterns of data and produce values accordingly. Yes, great accuracy can be achieved on full data but when that kind of model is tested with a data which is never seen before by our model, it'll fail badly. So as it can be figured out, model should be tested with the new data which is never seen before by our model. Because, models should produce accurate predictions when it takes different inputs."
   ]
  },
  {
   "cell_type": "markdown",
   "metadata": {},
   "source": [
    "Train-test split can be done with sklearn function train_test_split()"
   ]
  },
  {
   "cell_type": "code",
   "execution_count": 199,
   "metadata": {},
   "outputs": [],
   "source": [
    "from sklearn.model_selection import train_test_split"
   ]
  },
  {
   "cell_type": "markdown",
   "metadata": {},
   "source": [
    "For producing same results always, seed value is set."
   ]
  },
  {
   "cell_type": "code",
   "execution_count": 200,
   "metadata": {},
   "outputs": [],
   "source": [
    "import numpy as np\n",
    "np.random.seed(5)"
   ]
  },
  {
   "cell_type": "code",
   "execution_count": 201,
   "metadata": {},
   "outputs": [],
   "source": [
    "X_train, X_test, y_train, y_test = train_test_split(X, y, test_size=1/4)"
   ]
  },
  {
   "cell_type": "markdown",
   "metadata": {},
   "source": [
    "## 4.Model Implementation"
   ]
  },
  {
   "cell_type": "markdown",
   "metadata": {},
   "source": [
    "Random Forest Classifier will be implemented first.\n",
    "\n"
   ]
  },
  {
   "cell_type": "markdown",
   "metadata": {},
   "source": [
    "Further details about Random Forest will be on Medium."
   ]
  },
  {
   "cell_type": "markdown",
   "metadata": {},
   "source": [
    "First of all, Random Forest function should be imported."
   ]
  },
  {
   "cell_type": "code",
   "execution_count": 202,
   "metadata": {},
   "outputs": [],
   "source": [
    "from sklearn.ensemble import RandomForestClassifier"
   ]
  },
  {
   "cell_type": "markdown",
   "metadata": {},
   "source": [
    "### Model Evaluation Function"
   ]
  },
  {
   "cell_type": "markdown",
   "metadata": {},
   "source": [
    "Throughout this notebook, some actions will repeatedly be called. To avoid typing redundant lines of codes, functions are declared for that kind of repeatedly actions. "
   ]
  },
  {
   "cell_type": "markdown",
   "metadata": {},
   "source": [
    "Since more than one algorithm will be implemented, evaluation function would be handy. Also, it would be great for comparing algorithms easily."
   ]
  },
  {
   "cell_type": "markdown",
   "metadata": {},
   "source": [
    "First, import evaluation metrics:\n"
   ]
  },
  {
   "cell_type": "code",
   "execution_count": 203,
   "metadata": {},
   "outputs": [],
   "source": [
    "from sklearn.metrics import f1_score, accuracy_score, precision_score, recall_score"
   ]
  },
  {
   "cell_type": "code",
   "execution_count": 204,
   "metadata": {},
   "outputs": [],
   "source": [
    "def evaluatePreds(y_true, predictions):\n",
    "    accuracy=accuracy_score(y_true,predictions)\n",
    "    f1=f1_score(y_true, predictions)\n",
    "    precision=precision_score(y_true, predictions)\n",
    "    recall=recall_score(y_true, predictions)\n",
    "    scores = {\"accuracy\":accuracy,# (#TRUE PREDICTIONS/#SAMPLES)\n",
    "              \"f1 score\":f1, # F1 = 2 * (precision * recall) / (precision + recall)\n",
    "              \"precision score\": precision, # tp / (tp + fp) 'tp:truepositive, fp:falsepositive'\n",
    "              \"recall score\": recall} # tp / (tp + fn) 'fn:falsenegative'\n",
    "    return scores"
   ]
  },
  {
   "cell_type": "markdown",
   "metadata": {},
   "source": [
    "Since, classification problem is dealt, prediction values' distribution among 0s and 1s must be known. It must be known that if our model predicts a heart disease value of normally \"True\" as \"False\"."
   ]
  },
  {
   "cell_type": "markdown",
   "metadata": {},
   "source": [
    "It can't be looked one by one. That would be nonsense. In this kind of situation Confusion Matrix shows up... It'll visualize how our model classifies data."
   ]
  },
  {
   "cell_type": "markdown",
   "metadata": {},
   "source": [
    "For a better understanding, confusion matrix is visualized as heatmap."
   ]
  },
  {
   "cell_type": "markdown",
   "metadata": {},
   "source": [
    "Since more than one algorithms are implemented, it would be nice to have a \"confusion matrix plot\" function to call multiple times. So, a function for plotting confusion matrix is created like we did in evaluation situation."
   ]
  },
  {
   "cell_type": "code",
   "execution_count": 205,
   "metadata": {},
   "outputs": [],
   "source": [
    "from sklearn.metrics import confusion_matrix"
   ]
  },
  {
   "cell_type": "code",
   "execution_count": 206,
   "metadata": {},
   "outputs": [],
   "source": [
    "def plotconf(y_true, predictions, title=\"Confusion Matrix\"):\n",
    "    \n",
    "    plt.figure()\n",
    "    sns.heatmap(confusion_matrix(y_true, predictions), annot=True, square=True, cmap=\"Reds\",\n",
    "                xticklabels=[\"Negative\",\"Positive\"], yticklabels=[\"Negative\",\"Positive\"])\n",
    "    plt.title(title)\n",
    "    plt.xlabel(\"Predictions\")\n",
    "    plt.ylabel(\"Actual Values\")\n",
    "    plt.show()\n"
   ]
  },
  {
   "cell_type": "markdown",
   "metadata": {},
   "source": [
    "### Random Forest Classifier"
   ]
  },
  {
   "cell_type": "markdown",
   "metadata": {},
   "source": [
    "Random Forest is a ensemble algorithm. As it can be figured out by its name, it runs several decision trees and take average of their outputs. This method is called \"bootstrap aggregating\". Also, another methods like \"Boosting\" exists in ensemble algorithms. XGBoost is a example of ensemble algorithm with boosting method. Since, XGBoost will not be covered in this notebook, it would not be declared detailed."
   ]
  },
  {
   "cell_type": "markdown",
   "metadata": {},
   "source": [
    "For more information about RF Classifier https://scikit-learn.org/stable/modules/generated/sklearn.ensemble.RandomForestClassifier.html"
   ]
  },
  {
   "cell_type": "markdown",
   "metadata": {},
   "source": [
    "#### Hyperparameter Tuning"
   ]
  },
  {
   "cell_type": "markdown",
   "metadata": {},
   "source": [
    "In Random Forest, there are many hyperparameters and that means too many options.  \n",
    "Hyperparameters have default values, but running RF with default values of hyperparams might not give the peak performance of model.  \n",
    "Hyperparameters should be chosen such that the performance should be best when the model is operated with that parameter combination.  \n",
    "To find such hyperparameter combination, *RandomizedSearchCV* and *GridSearchCV* algorithms can be used.\n"
   ]
  },
  {
   "cell_type": "code",
   "execution_count": 207,
   "metadata": {},
   "outputs": [],
   "source": [
    "from sklearn.model_selection import RandomizedSearchCV, GridSearchCV"
   ]
  },
  {
   "cell_type": "markdown",
   "metadata": {},
   "source": [
    "Function for *RandomizeSearchCV* and *GridSearchCV* is defined. Because, It would be nice to get rid of extra lines of code in case of *RandomizedSearchCV* and *GridSearchCV* would be used for more than one algorithm."
   ]
  },
  {
   "cell_type": "code",
   "execution_count": 208,
   "metadata": {},
   "outputs": [],
   "source": [
    "def randomizedSearch(estimator,grid,X_train,X_test,y_train,y_test,cv=5,n_iter=10):\n",
    "    rs = RandomizedSearchCV(estimator=estimator,\n",
    "                            param_distributions=grid,\n",
    "                            n_iter=n_iter,\n",
    "                            cv=cv,\n",
    "                            verbose=2)\n",
    "    rs.fit(X_train, y_train)\n",
    "    print(f\"Randomized Search Predictions on Train Data: {rs.score(X_train, y_train)}\")\n",
    "    print(f\"Randomized Search Predictions on Test Data: {rs.score(X_test, y_test)}\")\n",
    "    print(\"According to Randomized Search Best Hyperparameters are;\")\n",
    "    print(rs.best_params_)"
   ]
  },
  {
   "cell_type": "markdown",
   "metadata": {},
   "source": [
    "*RandomizedSearchCV* will operate a randomize search on given hyperparameters. It would train the model **(Number of iterations * fold number of cross validation)** times. Since, number of iterations can be given as parameters, it would be less time consuming then *GridSearchCV* though GridSearchCV train the model for all combinations."
   ]
  },
  {
   "cell_type": "code",
   "execution_count": 209,
   "metadata": {},
   "outputs": [],
   "source": [
    "def gridSearch(estimator, grid, X_train, X_test, y_train, y_test, cv=5):\n",
    "    gs = GridSearchCV(estimator=estimator,\n",
    "                      param_grid=grid,\n",
    "                      cv=cv,\n",
    "                      verbose=2)\n",
    "    gs.fit(X_train, y_train)\n",
    "    print(f\"Grid Search Predictions on Train Data: {gs.score(X_train, y_train)}\")\n",
    "    print(f\"Grid Search Predictions on Test Data: {gs.score(X_test, y_test)}\")\n",
    "    print(\"According to Grid Search Best Hyperparameters are;\")\n",
    "    print(gs.best_params_)"
   ]
  },
  {
   "cell_type": "markdown",
   "metadata": {},
   "source": [
    "*GridSearchCV* will operate an exhaustive search over specified parameter values for an estimator. It would train the model **(Number of combination candidates * fold number of cross validation)** times."
   ]
  },
  {
   "cell_type": "code",
   "execution_count": 210,
   "metadata": {},
   "outputs": [],
   "source": [
    "clf = RandomForestClassifier(n_jobs=-1)"
   ]
  },
  {
   "cell_type": "markdown",
   "metadata": {},
   "source": [
    "Our model will be fitted with different hyperparameters. First, RandomizedSearch is applied to get rough information about our hyperparams."
   ]
  },
  {
   "cell_type": "code",
   "execution_count": 211,
   "metadata": {},
   "outputs": [],
   "source": [
    "grid_forest = {\"n_estimators\":[200],\n",
    "               \"min_samples_leaf\":[10,15,20],\n",
    "               \"max_depth\":[20,25,30,35,40],\n",
    "               \"min_samples_split\":[10,15,20],\n",
    "               \"random_state\":[0],\n",
    "               \"criterion\":[\"entropy\",\"gini\"]}"
   ]
  },
  {
   "cell_type": "code",
   "execution_count": 212,
   "metadata": {},
   "outputs": [
    {
     "name": "stdout",
     "output_type": "stream",
     "text": [
      "Fitting 5 folds for each of 10 candidates, totalling 50 fits\n",
      "[CV] random_state=0, n_estimators=200, min_samples_split=20, min_samples_leaf=20, max_depth=25, criterion=gini \n"
     ]
    },
    {
     "name": "stderr",
     "output_type": "stream",
     "text": [
      "[Parallel(n_jobs=1)]: Using backend SequentialBackend with 1 concurrent workers.\n"
     ]
    },
    {
     "name": "stdout",
     "output_type": "stream",
     "text": [
      "[CV]  random_state=0, n_estimators=200, min_samples_split=20, min_samples_leaf=20, max_depth=25, criterion=gini, total=   1.9s\n",
      "[CV] random_state=0, n_estimators=200, min_samples_split=20, min_samples_leaf=20, max_depth=25, criterion=gini \n"
     ]
    },
    {
     "name": "stderr",
     "output_type": "stream",
     "text": [
      "[Parallel(n_jobs=1)]: Done   1 out of   1 | elapsed:    1.8s remaining:    0.0s\n"
     ]
    },
    {
     "name": "stdout",
     "output_type": "stream",
     "text": [
      "[CV]  random_state=0, n_estimators=200, min_samples_split=20, min_samples_leaf=20, max_depth=25, criterion=gini, total=   0.4s\n",
      "[CV] random_state=0, n_estimators=200, min_samples_split=20, min_samples_leaf=20, max_depth=25, criterion=gini \n",
      "[CV]  random_state=0, n_estimators=200, min_samples_split=20, min_samples_leaf=20, max_depth=25, criterion=gini, total=   0.4s\n",
      "[CV] random_state=0, n_estimators=200, min_samples_split=20, min_samples_leaf=20, max_depth=25, criterion=gini \n",
      "[CV]  random_state=0, n_estimators=200, min_samples_split=20, min_samples_leaf=20, max_depth=25, criterion=gini, total=   0.4s\n",
      "[CV] random_state=0, n_estimators=200, min_samples_split=20, min_samples_leaf=20, max_depth=25, criterion=gini \n",
      "[CV]  random_state=0, n_estimators=200, min_samples_split=20, min_samples_leaf=20, max_depth=25, criterion=gini, total=   0.4s\n",
      "[CV] random_state=0, n_estimators=200, min_samples_split=15, min_samples_leaf=15, max_depth=30, criterion=gini \n",
      "[CV]  random_state=0, n_estimators=200, min_samples_split=15, min_samples_leaf=15, max_depth=30, criterion=gini, total=   0.4s\n",
      "[CV] random_state=0, n_estimators=200, min_samples_split=15, min_samples_leaf=15, max_depth=30, criterion=gini \n",
      "[CV]  random_state=0, n_estimators=200, min_samples_split=15, min_samples_leaf=15, max_depth=30, criterion=gini, total=   0.4s\n",
      "[CV] random_state=0, n_estimators=200, min_samples_split=15, min_samples_leaf=15, max_depth=30, criterion=gini \n",
      "[CV]  random_state=0, n_estimators=200, min_samples_split=15, min_samples_leaf=15, max_depth=30, criterion=gini, total=   0.4s\n",
      "[CV] random_state=0, n_estimators=200, min_samples_split=15, min_samples_leaf=15, max_depth=30, criterion=gini \n",
      "[CV]  random_state=0, n_estimators=200, min_samples_split=15, min_samples_leaf=15, max_depth=30, criterion=gini, total=   0.4s\n",
      "[CV] random_state=0, n_estimators=200, min_samples_split=15, min_samples_leaf=15, max_depth=30, criterion=gini \n",
      "[CV]  random_state=0, n_estimators=200, min_samples_split=15, min_samples_leaf=15, max_depth=30, criterion=gini, total=   0.4s\n",
      "[CV] random_state=0, n_estimators=200, min_samples_split=20, min_samples_leaf=15, max_depth=30, criterion=entropy \n",
      "[CV]  random_state=0, n_estimators=200, min_samples_split=20, min_samples_leaf=15, max_depth=30, criterion=entropy, total=   0.4s\n",
      "[CV] random_state=0, n_estimators=200, min_samples_split=20, min_samples_leaf=15, max_depth=30, criterion=entropy \n",
      "[CV]  random_state=0, n_estimators=200, min_samples_split=20, min_samples_leaf=15, max_depth=30, criterion=entropy, total=   0.4s\n",
      "[CV] random_state=0, n_estimators=200, min_samples_split=20, min_samples_leaf=15, max_depth=30, criterion=entropy \n",
      "[CV]  random_state=0, n_estimators=200, min_samples_split=20, min_samples_leaf=15, max_depth=30, criterion=entropy, total=   0.5s\n",
      "[CV] random_state=0, n_estimators=200, min_samples_split=20, min_samples_leaf=15, max_depth=30, criterion=entropy \n",
      "[CV]  random_state=0, n_estimators=200, min_samples_split=20, min_samples_leaf=15, max_depth=30, criterion=entropy, total=   0.4s\n",
      "[CV] random_state=0, n_estimators=200, min_samples_split=20, min_samples_leaf=15, max_depth=30, criterion=entropy \n",
      "[CV]  random_state=0, n_estimators=200, min_samples_split=20, min_samples_leaf=15, max_depth=30, criterion=entropy, total=   0.5s\n",
      "[CV] random_state=0, n_estimators=200, min_samples_split=20, min_samples_leaf=10, max_depth=25, criterion=entropy \n",
      "[CV]  random_state=0, n_estimators=200, min_samples_split=20, min_samples_leaf=10, max_depth=25, criterion=entropy, total=   0.5s\n",
      "[CV] random_state=0, n_estimators=200, min_samples_split=20, min_samples_leaf=10, max_depth=25, criterion=entropy \n",
      "[CV]  random_state=0, n_estimators=200, min_samples_split=20, min_samples_leaf=10, max_depth=25, criterion=entropy, total=   0.5s\n",
      "[CV] random_state=0, n_estimators=200, min_samples_split=20, min_samples_leaf=10, max_depth=25, criterion=entropy \n",
      "[CV]  random_state=0, n_estimators=200, min_samples_split=20, min_samples_leaf=10, max_depth=25, criterion=entropy, total=   0.4s\n",
      "[CV] random_state=0, n_estimators=200, min_samples_split=20, min_samples_leaf=10, max_depth=25, criterion=entropy \n",
      "[CV]  random_state=0, n_estimators=200, min_samples_split=20, min_samples_leaf=10, max_depth=25, criterion=entropy, total=   0.4s\n",
      "[CV] random_state=0, n_estimators=200, min_samples_split=20, min_samples_leaf=10, max_depth=25, criterion=entropy \n",
      "[CV]  random_state=0, n_estimators=200, min_samples_split=20, min_samples_leaf=10, max_depth=25, criterion=entropy, total=   0.4s\n",
      "[CV] random_state=0, n_estimators=200, min_samples_split=15, min_samples_leaf=20, max_depth=40, criterion=gini \n",
      "[CV]  random_state=0, n_estimators=200, min_samples_split=15, min_samples_leaf=20, max_depth=40, criterion=gini, total=   0.4s\n",
      "[CV] random_state=0, n_estimators=200, min_samples_split=15, min_samples_leaf=20, max_depth=40, criterion=gini \n",
      "[CV]  random_state=0, n_estimators=200, min_samples_split=15, min_samples_leaf=20, max_depth=40, criterion=gini, total=   0.4s\n",
      "[CV] random_state=0, n_estimators=200, min_samples_split=15, min_samples_leaf=20, max_depth=40, criterion=gini \n",
      "[CV]  random_state=0, n_estimators=200, min_samples_split=15, min_samples_leaf=20, max_depth=40, criterion=gini, total=   0.4s\n",
      "[CV] random_state=0, n_estimators=200, min_samples_split=15, min_samples_leaf=20, max_depth=40, criterion=gini \n",
      "[CV]  random_state=0, n_estimators=200, min_samples_split=15, min_samples_leaf=20, max_depth=40, criterion=gini, total=   0.4s\n",
      "[CV] random_state=0, n_estimators=200, min_samples_split=15, min_samples_leaf=20, max_depth=40, criterion=gini \n",
      "[CV]  random_state=0, n_estimators=200, min_samples_split=15, min_samples_leaf=20, max_depth=40, criterion=gini, total=   0.4s\n",
      "[CV] random_state=0, n_estimators=200, min_samples_split=15, min_samples_leaf=20, max_depth=25, criterion=entropy \n",
      "[CV]  random_state=0, n_estimators=200, min_samples_split=15, min_samples_leaf=20, max_depth=25, criterion=entropy, total=   0.4s\n",
      "[CV] random_state=0, n_estimators=200, min_samples_split=15, min_samples_leaf=20, max_depth=25, criterion=entropy \n",
      "[CV]  random_state=0, n_estimators=200, min_samples_split=15, min_samples_leaf=20, max_depth=25, criterion=entropy, total=   0.4s\n",
      "[CV] random_state=0, n_estimators=200, min_samples_split=15, min_samples_leaf=20, max_depth=25, criterion=entropy \n",
      "[CV]  random_state=0, n_estimators=200, min_samples_split=15, min_samples_leaf=20, max_depth=25, criterion=entropy, total=   0.5s\n",
      "[CV] random_state=0, n_estimators=200, min_samples_split=15, min_samples_leaf=20, max_depth=25, criterion=entropy \n",
      "[CV]  random_state=0, n_estimators=200, min_samples_split=15, min_samples_leaf=20, max_depth=25, criterion=entropy, total=   0.5s\n",
      "[CV] random_state=0, n_estimators=200, min_samples_split=15, min_samples_leaf=20, max_depth=25, criterion=entropy \n",
      "[CV]  random_state=0, n_estimators=200, min_samples_split=15, min_samples_leaf=20, max_depth=25, criterion=entropy, total=   0.4s\n",
      "[CV] random_state=0, n_estimators=200, min_samples_split=20, min_samples_leaf=20, max_depth=35, criterion=entropy \n",
      "[CV]  random_state=0, n_estimators=200, min_samples_split=20, min_samples_leaf=20, max_depth=35, criterion=entropy, total=   0.5s\n",
      "[CV] random_state=0, n_estimators=200, min_samples_split=20, min_samples_leaf=20, max_depth=35, criterion=entropy \n",
      "[CV]  random_state=0, n_estimators=200, min_samples_split=20, min_samples_leaf=20, max_depth=35, criterion=entropy, total=   0.5s\n",
      "[CV] random_state=0, n_estimators=200, min_samples_split=20, min_samples_leaf=20, max_depth=35, criterion=entropy \n",
      "[CV]  random_state=0, n_estimators=200, min_samples_split=20, min_samples_leaf=20, max_depth=35, criterion=entropy, total=   0.5s\n",
      "[CV] random_state=0, n_estimators=200, min_samples_split=20, min_samples_leaf=20, max_depth=35, criterion=entropy \n",
      "[CV]  random_state=0, n_estimators=200, min_samples_split=20, min_samples_leaf=20, max_depth=35, criterion=entropy, total=   0.5s\n",
      "[CV] random_state=0, n_estimators=200, min_samples_split=20, min_samples_leaf=20, max_depth=35, criterion=entropy \n",
      "[CV]  random_state=0, n_estimators=200, min_samples_split=20, min_samples_leaf=20, max_depth=35, criterion=entropy, total=   0.5s\n",
      "[CV] random_state=0, n_estimators=200, min_samples_split=15, min_samples_leaf=20, max_depth=20, criterion=gini \n"
     ]
    },
    {
     "name": "stdout",
     "output_type": "stream",
     "text": [
      "[CV]  random_state=0, n_estimators=200, min_samples_split=15, min_samples_leaf=20, max_depth=20, criterion=gini, total=   0.4s\n",
      "[CV] random_state=0, n_estimators=200, min_samples_split=15, min_samples_leaf=20, max_depth=20, criterion=gini \n",
      "[CV]  random_state=0, n_estimators=200, min_samples_split=15, min_samples_leaf=20, max_depth=20, criterion=gini, total=   0.4s\n",
      "[CV] random_state=0, n_estimators=200, min_samples_split=15, min_samples_leaf=20, max_depth=20, criterion=gini \n",
      "[CV]  random_state=0, n_estimators=200, min_samples_split=15, min_samples_leaf=20, max_depth=20, criterion=gini, total=   0.5s\n",
      "[CV] random_state=0, n_estimators=200, min_samples_split=15, min_samples_leaf=20, max_depth=20, criterion=gini \n",
      "[CV]  random_state=0, n_estimators=200, min_samples_split=15, min_samples_leaf=20, max_depth=20, criterion=gini, total=   0.4s\n",
      "[CV] random_state=0, n_estimators=200, min_samples_split=15, min_samples_leaf=20, max_depth=20, criterion=gini \n",
      "[CV]  random_state=0, n_estimators=200, min_samples_split=15, min_samples_leaf=20, max_depth=20, criterion=gini, total=   0.4s\n",
      "[CV] random_state=0, n_estimators=200, min_samples_split=20, min_samples_leaf=20, max_depth=35, criterion=gini \n",
      "[CV]  random_state=0, n_estimators=200, min_samples_split=20, min_samples_leaf=20, max_depth=35, criterion=gini, total=   0.4s\n",
      "[CV] random_state=0, n_estimators=200, min_samples_split=20, min_samples_leaf=20, max_depth=35, criterion=gini \n",
      "[CV]  random_state=0, n_estimators=200, min_samples_split=20, min_samples_leaf=20, max_depth=35, criterion=gini, total=   0.4s\n",
      "[CV] random_state=0, n_estimators=200, min_samples_split=20, min_samples_leaf=20, max_depth=35, criterion=gini \n",
      "[CV]  random_state=0, n_estimators=200, min_samples_split=20, min_samples_leaf=20, max_depth=35, criterion=gini, total=   0.4s\n",
      "[CV] random_state=0, n_estimators=200, min_samples_split=20, min_samples_leaf=20, max_depth=35, criterion=gini \n",
      "[CV]  random_state=0, n_estimators=200, min_samples_split=20, min_samples_leaf=20, max_depth=35, criterion=gini, total=   0.4s\n",
      "[CV] random_state=0, n_estimators=200, min_samples_split=20, min_samples_leaf=20, max_depth=35, criterion=gini \n",
      "[CV]  random_state=0, n_estimators=200, min_samples_split=20, min_samples_leaf=20, max_depth=35, criterion=gini, total=   0.4s\n",
      "[CV] random_state=0, n_estimators=200, min_samples_split=15, min_samples_leaf=20, max_depth=35, criterion=entropy \n",
      "[CV]  random_state=0, n_estimators=200, min_samples_split=15, min_samples_leaf=20, max_depth=35, criterion=entropy, total=   0.4s\n",
      "[CV] random_state=0, n_estimators=200, min_samples_split=15, min_samples_leaf=20, max_depth=35, criterion=entropy \n",
      "[CV]  random_state=0, n_estimators=200, min_samples_split=15, min_samples_leaf=20, max_depth=35, criterion=entropy, total=   0.4s\n",
      "[CV] random_state=0, n_estimators=200, min_samples_split=15, min_samples_leaf=20, max_depth=35, criterion=entropy \n",
      "[CV]  random_state=0, n_estimators=200, min_samples_split=15, min_samples_leaf=20, max_depth=35, criterion=entropy, total=   0.4s\n",
      "[CV] random_state=0, n_estimators=200, min_samples_split=15, min_samples_leaf=20, max_depth=35, criterion=entropy \n",
      "[CV]  random_state=0, n_estimators=200, min_samples_split=15, min_samples_leaf=20, max_depth=35, criterion=entropy, total=   0.4s\n",
      "[CV] random_state=0, n_estimators=200, min_samples_split=15, min_samples_leaf=20, max_depth=35, criterion=entropy \n",
      "[CV]  random_state=0, n_estimators=200, min_samples_split=15, min_samples_leaf=20, max_depth=35, criterion=entropy, total=   0.4s\n"
     ]
    },
    {
     "name": "stderr",
     "output_type": "stream",
     "text": [
      "[Parallel(n_jobs=1)]: Done  50 out of  50 | elapsed:   21.6s finished\n"
     ]
    },
    {
     "name": "stdout",
     "output_type": "stream",
     "text": [
      "Randomized Search Predictions on Train Data: 0.9955947136563876\n",
      "Randomized Search Predictions on Test Data: 1.0\n",
      "According to Randomized Search Best Hyperparameters are;\n",
      "{'random_state': 0, 'n_estimators': 200, 'min_samples_split': 20, 'min_samples_leaf': 10, 'max_depth': 25, 'criterion': 'entropy'}\n"
     ]
    }
   ],
   "source": [
    "randomizedSearch(clf,grid_forest,X_train,X_test,y_train,y_test); # \";\" can be removed for viewing output."
   ]
  },
  {
   "cell_type": "markdown",
   "metadata": {},
   "source": [
    "\"Fitting 5 folds for each of 10 candidates, totalling 50 fits\". Cross-Validation value is set to 5 and Number of Iteratons to 10 by default. Randomized Search function is doing totally 50 fits(5*10)."
   ]
  },
  {
   "cell_type": "markdown",
   "metadata": {},
   "source": [
    "Actually, our Random Forest did very well on both Train and Test data. It didn't miss any value in Test Data. That's  with hyperparameters such as :"
   ]
  },
  {
   "cell_type": "markdown",
   "metadata": {},
   "source": [
    "{'random_state': 0, 'n_estimators': 200, 'min_samples_split': 20, 'min_samples_leaf': 10, 'max_depth': 25, 'criterion': 'entropy'}"
   ]
  },
  {
   "cell_type": "markdown",
   "metadata": {},
   "source": [
    "Best scores were reached with RandomizedForest. There is no need to run GridSearch anymore."
   ]
  },
  {
   "cell_type": "markdown",
   "metadata": {},
   "source": [
    "*Important note about perfect accuracy in Test Data*: Since our dataset is small and not encapsulating wide range of values, train and test set might be similar. That kind of accuracy (0.996) in training data usually indicates that overfit is occuring. But since model has perfect accuracy on validation data, this overfit situation doesn't concern our model for now. Because, there is no such real test data to test models. <a id='note'></a>"
   ]
  },
  {
   "cell_type": "code",
   "execution_count": 213,
   "metadata": {},
   "outputs": [],
   "source": [
    "grid_forest = {\"n_estimators\":[200],\n",
    "               \"min_samples_leaf\":[8,10,12],\n",
    "               \"max_depth\":[24,25,26],\n",
    "               \"min_samples_split\":[18,20,22],\n",
    "               \"random_state\":[0],\n",
    "               \"criterion\":[\"entropy\"]}"
   ]
  },
  {
   "cell_type": "code",
   "execution_count": 214,
   "metadata": {},
   "outputs": [
    {
     "name": "stdout",
     "output_type": "stream",
     "text": [
      "Fitting 5 folds for each of 27 candidates, totalling 135 fits\n",
      "[CV] criterion=entropy, max_depth=24, min_samples_leaf=8, min_samples_split=18, n_estimators=200, random_state=0 \n"
     ]
    },
    {
     "name": "stderr",
     "output_type": "stream",
     "text": [
      "[Parallel(n_jobs=1)]: Using backend SequentialBackend with 1 concurrent workers.\n"
     ]
    },
    {
     "name": "stdout",
     "output_type": "stream",
     "text": [
      "[CV]  criterion=entropy, max_depth=24, min_samples_leaf=8, min_samples_split=18, n_estimators=200, random_state=0, total=   0.4s\n",
      "[CV] criterion=entropy, max_depth=24, min_samples_leaf=8, min_samples_split=18, n_estimators=200, random_state=0 \n"
     ]
    },
    {
     "name": "stderr",
     "output_type": "stream",
     "text": [
      "[Parallel(n_jobs=1)]: Done   1 out of   1 | elapsed:    0.3s remaining:    0.0s\n"
     ]
    },
    {
     "name": "stdout",
     "output_type": "stream",
     "text": [
      "[CV]  criterion=entropy, max_depth=24, min_samples_leaf=8, min_samples_split=18, n_estimators=200, random_state=0, total=   0.4s\n",
      "[CV] criterion=entropy, max_depth=24, min_samples_leaf=8, min_samples_split=18, n_estimators=200, random_state=0 \n",
      "[CV]  criterion=entropy, max_depth=24, min_samples_leaf=8, min_samples_split=18, n_estimators=200, random_state=0, total=   0.4s\n",
      "[CV] criterion=entropy, max_depth=24, min_samples_leaf=8, min_samples_split=18, n_estimators=200, random_state=0 \n",
      "[CV]  criterion=entropy, max_depth=24, min_samples_leaf=8, min_samples_split=18, n_estimators=200, random_state=0, total=   0.3s\n",
      "[CV] criterion=entropy, max_depth=24, min_samples_leaf=8, min_samples_split=18, n_estimators=200, random_state=0 \n",
      "[CV]  criterion=entropy, max_depth=24, min_samples_leaf=8, min_samples_split=18, n_estimators=200, random_state=0, total=   0.4s\n",
      "[CV] criterion=entropy, max_depth=24, min_samples_leaf=8, min_samples_split=20, n_estimators=200, random_state=0 \n",
      "[CV]  criterion=entropy, max_depth=24, min_samples_leaf=8, min_samples_split=20, n_estimators=200, random_state=0, total=   0.5s\n",
      "[CV] criterion=entropy, max_depth=24, min_samples_leaf=8, min_samples_split=20, n_estimators=200, random_state=0 \n",
      "[CV]  criterion=entropy, max_depth=24, min_samples_leaf=8, min_samples_split=20, n_estimators=200, random_state=0, total=   0.4s\n",
      "[CV] criterion=entropy, max_depth=24, min_samples_leaf=8, min_samples_split=20, n_estimators=200, random_state=0 \n",
      "[CV]  criterion=entropy, max_depth=24, min_samples_leaf=8, min_samples_split=20, n_estimators=200, random_state=0, total=   0.4s\n",
      "[CV] criterion=entropy, max_depth=24, min_samples_leaf=8, min_samples_split=20, n_estimators=200, random_state=0 \n",
      "[CV]  criterion=entropy, max_depth=24, min_samples_leaf=8, min_samples_split=20, n_estimators=200, random_state=0, total=   0.4s\n",
      "[CV] criterion=entropy, max_depth=24, min_samples_leaf=8, min_samples_split=20, n_estimators=200, random_state=0 \n",
      "[CV]  criterion=entropy, max_depth=24, min_samples_leaf=8, min_samples_split=20, n_estimators=200, random_state=0, total=   0.5s\n",
      "[CV] criterion=entropy, max_depth=24, min_samples_leaf=8, min_samples_split=22, n_estimators=200, random_state=0 \n",
      "[CV]  criterion=entropy, max_depth=24, min_samples_leaf=8, min_samples_split=22, n_estimators=200, random_state=0, total=   0.4s\n",
      "[CV] criterion=entropy, max_depth=24, min_samples_leaf=8, min_samples_split=22, n_estimators=200, random_state=0 \n",
      "[CV]  criterion=entropy, max_depth=24, min_samples_leaf=8, min_samples_split=22, n_estimators=200, random_state=0, total=   0.5s\n",
      "[CV] criterion=entropy, max_depth=24, min_samples_leaf=8, min_samples_split=22, n_estimators=200, random_state=0 \n",
      "[CV]  criterion=entropy, max_depth=24, min_samples_leaf=8, min_samples_split=22, n_estimators=200, random_state=0, total=   0.4s\n",
      "[CV] criterion=entropy, max_depth=24, min_samples_leaf=8, min_samples_split=22, n_estimators=200, random_state=0 \n",
      "[CV]  criterion=entropy, max_depth=24, min_samples_leaf=8, min_samples_split=22, n_estimators=200, random_state=0, total=   0.4s\n",
      "[CV] criterion=entropy, max_depth=24, min_samples_leaf=8, min_samples_split=22, n_estimators=200, random_state=0 \n",
      "[CV]  criterion=entropy, max_depth=24, min_samples_leaf=8, min_samples_split=22, n_estimators=200, random_state=0, total=   0.4s\n",
      "[CV] criterion=entropy, max_depth=24, min_samples_leaf=10, min_samples_split=18, n_estimators=200, random_state=0 \n",
      "[CV]  criterion=entropy, max_depth=24, min_samples_leaf=10, min_samples_split=18, n_estimators=200, random_state=0, total=   0.4s\n",
      "[CV] criterion=entropy, max_depth=24, min_samples_leaf=10, min_samples_split=18, n_estimators=200, random_state=0 \n",
      "[CV]  criterion=entropy, max_depth=24, min_samples_leaf=10, min_samples_split=18, n_estimators=200, random_state=0, total=   0.4s\n",
      "[CV] criterion=entropy, max_depth=24, min_samples_leaf=10, min_samples_split=18, n_estimators=200, random_state=0 \n",
      "[CV]  criterion=entropy, max_depth=24, min_samples_leaf=10, min_samples_split=18, n_estimators=200, random_state=0, total=   0.4s\n",
      "[CV] criterion=entropy, max_depth=24, min_samples_leaf=10, min_samples_split=18, n_estimators=200, random_state=0 \n",
      "[CV]  criterion=entropy, max_depth=24, min_samples_leaf=10, min_samples_split=18, n_estimators=200, random_state=0, total=   0.5s\n",
      "[CV] criterion=entropy, max_depth=24, min_samples_leaf=10, min_samples_split=18, n_estimators=200, random_state=0 \n",
      "[CV]  criterion=entropy, max_depth=24, min_samples_leaf=10, min_samples_split=18, n_estimators=200, random_state=0, total=   0.4s\n",
      "[CV] criterion=entropy, max_depth=24, min_samples_leaf=10, min_samples_split=20, n_estimators=200, random_state=0 \n",
      "[CV]  criterion=entropy, max_depth=24, min_samples_leaf=10, min_samples_split=20, n_estimators=200, random_state=0, total=   0.4s\n",
      "[CV] criterion=entropy, max_depth=24, min_samples_leaf=10, min_samples_split=20, n_estimators=200, random_state=0 \n",
      "[CV]  criterion=entropy, max_depth=24, min_samples_leaf=10, min_samples_split=20, n_estimators=200, random_state=0, total=   0.4s\n",
      "[CV] criterion=entropy, max_depth=24, min_samples_leaf=10, min_samples_split=20, n_estimators=200, random_state=0 \n",
      "[CV]  criterion=entropy, max_depth=24, min_samples_leaf=10, min_samples_split=20, n_estimators=200, random_state=0, total=   0.4s\n",
      "[CV] criterion=entropy, max_depth=24, min_samples_leaf=10, min_samples_split=20, n_estimators=200, random_state=0 \n",
      "[CV]  criterion=entropy, max_depth=24, min_samples_leaf=10, min_samples_split=20, n_estimators=200, random_state=0, total=   0.4s\n",
      "[CV] criterion=entropy, max_depth=24, min_samples_leaf=10, min_samples_split=20, n_estimators=200, random_state=0 \n",
      "[CV]  criterion=entropy, max_depth=24, min_samples_leaf=10, min_samples_split=20, n_estimators=200, random_state=0, total=   0.4s\n",
      "[CV] criterion=entropy, max_depth=24, min_samples_leaf=10, min_samples_split=22, n_estimators=200, random_state=0 \n",
      "[CV]  criterion=entropy, max_depth=24, min_samples_leaf=10, min_samples_split=22, n_estimators=200, random_state=0, total=   0.4s\n",
      "[CV] criterion=entropy, max_depth=24, min_samples_leaf=10, min_samples_split=22, n_estimators=200, random_state=0 \n",
      "[CV]  criterion=entropy, max_depth=24, min_samples_leaf=10, min_samples_split=22, n_estimators=200, random_state=0, total=   0.4s\n",
      "[CV] criterion=entropy, max_depth=24, min_samples_leaf=10, min_samples_split=22, n_estimators=200, random_state=0 \n",
      "[CV]  criterion=entropy, max_depth=24, min_samples_leaf=10, min_samples_split=22, n_estimators=200, random_state=0, total=   0.4s\n",
      "[CV] criterion=entropy, max_depth=24, min_samples_leaf=10, min_samples_split=22, n_estimators=200, random_state=0 \n",
      "[CV]  criterion=entropy, max_depth=24, min_samples_leaf=10, min_samples_split=22, n_estimators=200, random_state=0, total=   0.4s\n",
      "[CV] criterion=entropy, max_depth=24, min_samples_leaf=10, min_samples_split=22, n_estimators=200, random_state=0 \n",
      "[CV]  criterion=entropy, max_depth=24, min_samples_leaf=10, min_samples_split=22, n_estimators=200, random_state=0, total=   0.4s\n",
      "[CV] criterion=entropy, max_depth=24, min_samples_leaf=12, min_samples_split=18, n_estimators=200, random_state=0 \n",
      "[CV]  criterion=entropy, max_depth=24, min_samples_leaf=12, min_samples_split=18, n_estimators=200, random_state=0, total=   0.4s\n",
      "[CV] criterion=entropy, max_depth=24, min_samples_leaf=12, min_samples_split=18, n_estimators=200, random_state=0 \n",
      "[CV]  criterion=entropy, max_depth=24, min_samples_leaf=12, min_samples_split=18, n_estimators=200, random_state=0, total=   0.4s\n",
      "[CV] criterion=entropy, max_depth=24, min_samples_leaf=12, min_samples_split=18, n_estimators=200, random_state=0 \n",
      "[CV]  criterion=entropy, max_depth=24, min_samples_leaf=12, min_samples_split=18, n_estimators=200, random_state=0, total=   0.4s\n",
      "[CV] criterion=entropy, max_depth=24, min_samples_leaf=12, min_samples_split=18, n_estimators=200, random_state=0 \n",
      "[CV]  criterion=entropy, max_depth=24, min_samples_leaf=12, min_samples_split=18, n_estimators=200, random_state=0, total=   0.4s\n",
      "[CV] criterion=entropy, max_depth=24, min_samples_leaf=12, min_samples_split=18, n_estimators=200, random_state=0 \n",
      "[CV]  criterion=entropy, max_depth=24, min_samples_leaf=12, min_samples_split=18, n_estimators=200, random_state=0, total=   0.4s\n",
      "[CV] criterion=entropy, max_depth=24, min_samples_leaf=12, min_samples_split=20, n_estimators=200, random_state=0 \n"
     ]
    },
    {
     "name": "stdout",
     "output_type": "stream",
     "text": [
      "[CV]  criterion=entropy, max_depth=24, min_samples_leaf=12, min_samples_split=20, n_estimators=200, random_state=0, total=   0.4s\n",
      "[CV] criterion=entropy, max_depth=24, min_samples_leaf=12, min_samples_split=20, n_estimators=200, random_state=0 \n",
      "[CV]  criterion=entropy, max_depth=24, min_samples_leaf=12, min_samples_split=20, n_estimators=200, random_state=0, total=   0.4s\n",
      "[CV] criterion=entropy, max_depth=24, min_samples_leaf=12, min_samples_split=20, n_estimators=200, random_state=0 \n",
      "[CV]  criterion=entropy, max_depth=24, min_samples_leaf=12, min_samples_split=20, n_estimators=200, random_state=0, total=   0.4s\n",
      "[CV] criterion=entropy, max_depth=24, min_samples_leaf=12, min_samples_split=20, n_estimators=200, random_state=0 \n",
      "[CV]  criterion=entropy, max_depth=24, min_samples_leaf=12, min_samples_split=20, n_estimators=200, random_state=0, total=   0.4s\n",
      "[CV] criterion=entropy, max_depth=24, min_samples_leaf=12, min_samples_split=20, n_estimators=200, random_state=0 \n",
      "[CV]  criterion=entropy, max_depth=24, min_samples_leaf=12, min_samples_split=20, n_estimators=200, random_state=0, total=   0.4s\n",
      "[CV] criterion=entropy, max_depth=24, min_samples_leaf=12, min_samples_split=22, n_estimators=200, random_state=0 \n",
      "[CV]  criterion=entropy, max_depth=24, min_samples_leaf=12, min_samples_split=22, n_estimators=200, random_state=0, total=   0.4s\n",
      "[CV] criterion=entropy, max_depth=24, min_samples_leaf=12, min_samples_split=22, n_estimators=200, random_state=0 \n",
      "[CV]  criterion=entropy, max_depth=24, min_samples_leaf=12, min_samples_split=22, n_estimators=200, random_state=0, total=   0.4s\n",
      "[CV] criterion=entropy, max_depth=24, min_samples_leaf=12, min_samples_split=22, n_estimators=200, random_state=0 \n",
      "[CV]  criterion=entropy, max_depth=24, min_samples_leaf=12, min_samples_split=22, n_estimators=200, random_state=0, total=   0.4s\n",
      "[CV] criterion=entropy, max_depth=24, min_samples_leaf=12, min_samples_split=22, n_estimators=200, random_state=0 \n",
      "[CV]  criterion=entropy, max_depth=24, min_samples_leaf=12, min_samples_split=22, n_estimators=200, random_state=0, total=   0.4s\n",
      "[CV] criterion=entropy, max_depth=24, min_samples_leaf=12, min_samples_split=22, n_estimators=200, random_state=0 \n",
      "[CV]  criterion=entropy, max_depth=24, min_samples_leaf=12, min_samples_split=22, n_estimators=200, random_state=0, total=   0.4s\n",
      "[CV] criterion=entropy, max_depth=25, min_samples_leaf=8, min_samples_split=18, n_estimators=200, random_state=0 \n",
      "[CV]  criterion=entropy, max_depth=25, min_samples_leaf=8, min_samples_split=18, n_estimators=200, random_state=0, total=   0.4s\n",
      "[CV] criterion=entropy, max_depth=25, min_samples_leaf=8, min_samples_split=18, n_estimators=200, random_state=0 \n",
      "[CV]  criterion=entropy, max_depth=25, min_samples_leaf=8, min_samples_split=18, n_estimators=200, random_state=0, total=   0.3s\n",
      "[CV] criterion=entropy, max_depth=25, min_samples_leaf=8, min_samples_split=18, n_estimators=200, random_state=0 \n",
      "[CV]  criterion=entropy, max_depth=25, min_samples_leaf=8, min_samples_split=18, n_estimators=200, random_state=0, total=   0.4s\n",
      "[CV] criterion=entropy, max_depth=25, min_samples_leaf=8, min_samples_split=18, n_estimators=200, random_state=0 \n",
      "[CV]  criterion=entropy, max_depth=25, min_samples_leaf=8, min_samples_split=18, n_estimators=200, random_state=0, total=   0.4s\n",
      "[CV] criterion=entropy, max_depth=25, min_samples_leaf=8, min_samples_split=18, n_estimators=200, random_state=0 \n",
      "[CV]  criterion=entropy, max_depth=25, min_samples_leaf=8, min_samples_split=18, n_estimators=200, random_state=0, total=   0.4s\n",
      "[CV] criterion=entropy, max_depth=25, min_samples_leaf=8, min_samples_split=20, n_estimators=200, random_state=0 \n",
      "[CV]  criterion=entropy, max_depth=25, min_samples_leaf=8, min_samples_split=20, n_estimators=200, random_state=0, total=   0.4s\n",
      "[CV] criterion=entropy, max_depth=25, min_samples_leaf=8, min_samples_split=20, n_estimators=200, random_state=0 \n",
      "[CV]  criterion=entropy, max_depth=25, min_samples_leaf=8, min_samples_split=20, n_estimators=200, random_state=0, total=   0.4s\n",
      "[CV] criterion=entropy, max_depth=25, min_samples_leaf=8, min_samples_split=20, n_estimators=200, random_state=0 \n",
      "[CV]  criterion=entropy, max_depth=25, min_samples_leaf=8, min_samples_split=20, n_estimators=200, random_state=0, total=   0.4s\n",
      "[CV] criterion=entropy, max_depth=25, min_samples_leaf=8, min_samples_split=20, n_estimators=200, random_state=0 \n",
      "[CV]  criterion=entropy, max_depth=25, min_samples_leaf=8, min_samples_split=20, n_estimators=200, random_state=0, total=   0.4s\n",
      "[CV] criterion=entropy, max_depth=25, min_samples_leaf=8, min_samples_split=20, n_estimators=200, random_state=0 \n",
      "[CV]  criterion=entropy, max_depth=25, min_samples_leaf=8, min_samples_split=20, n_estimators=200, random_state=0, total=   0.3s\n",
      "[CV] criterion=entropy, max_depth=25, min_samples_leaf=8, min_samples_split=22, n_estimators=200, random_state=0 \n",
      "[CV]  criterion=entropy, max_depth=25, min_samples_leaf=8, min_samples_split=22, n_estimators=200, random_state=0, total=   0.4s\n",
      "[CV] criterion=entropy, max_depth=25, min_samples_leaf=8, min_samples_split=22, n_estimators=200, random_state=0 \n",
      "[CV]  criterion=entropy, max_depth=25, min_samples_leaf=8, min_samples_split=22, n_estimators=200, random_state=0, total=   0.4s\n",
      "[CV] criterion=entropy, max_depth=25, min_samples_leaf=8, min_samples_split=22, n_estimators=200, random_state=0 \n",
      "[CV]  criterion=entropy, max_depth=25, min_samples_leaf=8, min_samples_split=22, n_estimators=200, random_state=0, total=   0.4s\n",
      "[CV] criterion=entropy, max_depth=25, min_samples_leaf=8, min_samples_split=22, n_estimators=200, random_state=0 \n",
      "[CV]  criterion=entropy, max_depth=25, min_samples_leaf=8, min_samples_split=22, n_estimators=200, random_state=0, total=   0.4s\n",
      "[CV] criterion=entropy, max_depth=25, min_samples_leaf=8, min_samples_split=22, n_estimators=200, random_state=0 \n",
      "[CV]  criterion=entropy, max_depth=25, min_samples_leaf=8, min_samples_split=22, n_estimators=200, random_state=0, total=   0.3s\n",
      "[CV] criterion=entropy, max_depth=25, min_samples_leaf=10, min_samples_split=18, n_estimators=200, random_state=0 \n",
      "[CV]  criterion=entropy, max_depth=25, min_samples_leaf=10, min_samples_split=18, n_estimators=200, random_state=0, total=   0.4s\n",
      "[CV] criterion=entropy, max_depth=25, min_samples_leaf=10, min_samples_split=18, n_estimators=200, random_state=0 \n",
      "[CV]  criterion=entropy, max_depth=25, min_samples_leaf=10, min_samples_split=18, n_estimators=200, random_state=0, total=   0.4s\n",
      "[CV] criterion=entropy, max_depth=25, min_samples_leaf=10, min_samples_split=18, n_estimators=200, random_state=0 \n",
      "[CV]  criterion=entropy, max_depth=25, min_samples_leaf=10, min_samples_split=18, n_estimators=200, random_state=0, total=   0.4s\n",
      "[CV] criterion=entropy, max_depth=25, min_samples_leaf=10, min_samples_split=18, n_estimators=200, random_state=0 \n",
      "[CV]  criterion=entropy, max_depth=25, min_samples_leaf=10, min_samples_split=18, n_estimators=200, random_state=0, total=   0.4s\n",
      "[CV] criterion=entropy, max_depth=25, min_samples_leaf=10, min_samples_split=18, n_estimators=200, random_state=0 \n",
      "[CV]  criterion=entropy, max_depth=25, min_samples_leaf=10, min_samples_split=18, n_estimators=200, random_state=0, total=   0.4s\n",
      "[CV] criterion=entropy, max_depth=25, min_samples_leaf=10, min_samples_split=20, n_estimators=200, random_state=0 \n",
      "[CV]  criterion=entropy, max_depth=25, min_samples_leaf=10, min_samples_split=20, n_estimators=200, random_state=0, total=   0.4s\n",
      "[CV] criterion=entropy, max_depth=25, min_samples_leaf=10, min_samples_split=20, n_estimators=200, random_state=0 \n",
      "[CV]  criterion=entropy, max_depth=25, min_samples_leaf=10, min_samples_split=20, n_estimators=200, random_state=0, total=   0.4s\n",
      "[CV] criterion=entropy, max_depth=25, min_samples_leaf=10, min_samples_split=20, n_estimators=200, random_state=0 \n",
      "[CV]  criterion=entropy, max_depth=25, min_samples_leaf=10, min_samples_split=20, n_estimators=200, random_state=0, total=   0.4s\n",
      "[CV] criterion=entropy, max_depth=25, min_samples_leaf=10, min_samples_split=20, n_estimators=200, random_state=0 \n",
      "[CV]  criterion=entropy, max_depth=25, min_samples_leaf=10, min_samples_split=20, n_estimators=200, random_state=0, total=   0.4s\n",
      "[CV] criterion=entropy, max_depth=25, min_samples_leaf=10, min_samples_split=20, n_estimators=200, random_state=0 \n"
     ]
    },
    {
     "name": "stdout",
     "output_type": "stream",
     "text": [
      "[CV]  criterion=entropy, max_depth=25, min_samples_leaf=10, min_samples_split=20, n_estimators=200, random_state=0, total=   0.4s\n",
      "[CV] criterion=entropy, max_depth=25, min_samples_leaf=10, min_samples_split=22, n_estimators=200, random_state=0 \n",
      "[CV]  criterion=entropy, max_depth=25, min_samples_leaf=10, min_samples_split=22, n_estimators=200, random_state=0, total=   0.4s\n",
      "[CV] criterion=entropy, max_depth=25, min_samples_leaf=10, min_samples_split=22, n_estimators=200, random_state=0 \n",
      "[CV]  criterion=entropy, max_depth=25, min_samples_leaf=10, min_samples_split=22, n_estimators=200, random_state=0, total=   0.4s\n",
      "[CV] criterion=entropy, max_depth=25, min_samples_leaf=10, min_samples_split=22, n_estimators=200, random_state=0 \n",
      "[CV]  criterion=entropy, max_depth=25, min_samples_leaf=10, min_samples_split=22, n_estimators=200, random_state=0, total=   0.4s\n",
      "[CV] criterion=entropy, max_depth=25, min_samples_leaf=10, min_samples_split=22, n_estimators=200, random_state=0 \n",
      "[CV]  criterion=entropy, max_depth=25, min_samples_leaf=10, min_samples_split=22, n_estimators=200, random_state=0, total=   0.4s\n",
      "[CV] criterion=entropy, max_depth=25, min_samples_leaf=10, min_samples_split=22, n_estimators=200, random_state=0 \n",
      "[CV]  criterion=entropy, max_depth=25, min_samples_leaf=10, min_samples_split=22, n_estimators=200, random_state=0, total=   0.4s\n",
      "[CV] criterion=entropy, max_depth=25, min_samples_leaf=12, min_samples_split=18, n_estimators=200, random_state=0 \n",
      "[CV]  criterion=entropy, max_depth=25, min_samples_leaf=12, min_samples_split=18, n_estimators=200, random_state=0, total=   0.4s\n",
      "[CV] criterion=entropy, max_depth=25, min_samples_leaf=12, min_samples_split=18, n_estimators=200, random_state=0 \n",
      "[CV]  criterion=entropy, max_depth=25, min_samples_leaf=12, min_samples_split=18, n_estimators=200, random_state=0, total=   0.4s\n",
      "[CV] criterion=entropy, max_depth=25, min_samples_leaf=12, min_samples_split=18, n_estimators=200, random_state=0 \n",
      "[CV]  criterion=entropy, max_depth=25, min_samples_leaf=12, min_samples_split=18, n_estimators=200, random_state=0, total=   0.4s\n",
      "[CV] criterion=entropy, max_depth=25, min_samples_leaf=12, min_samples_split=18, n_estimators=200, random_state=0 \n",
      "[CV]  criterion=entropy, max_depth=25, min_samples_leaf=12, min_samples_split=18, n_estimators=200, random_state=0, total=   0.4s\n",
      "[CV] criterion=entropy, max_depth=25, min_samples_leaf=12, min_samples_split=18, n_estimators=200, random_state=0 \n",
      "[CV]  criterion=entropy, max_depth=25, min_samples_leaf=12, min_samples_split=18, n_estimators=200, random_state=0, total=   0.4s\n",
      "[CV] criterion=entropy, max_depth=25, min_samples_leaf=12, min_samples_split=20, n_estimators=200, random_state=0 \n",
      "[CV]  criterion=entropy, max_depth=25, min_samples_leaf=12, min_samples_split=20, n_estimators=200, random_state=0, total=   0.4s\n",
      "[CV] criterion=entropy, max_depth=25, min_samples_leaf=12, min_samples_split=20, n_estimators=200, random_state=0 \n",
      "[CV]  criterion=entropy, max_depth=25, min_samples_leaf=12, min_samples_split=20, n_estimators=200, random_state=0, total=   0.4s\n",
      "[CV] criterion=entropy, max_depth=25, min_samples_leaf=12, min_samples_split=20, n_estimators=200, random_state=0 \n",
      "[CV]  criterion=entropy, max_depth=25, min_samples_leaf=12, min_samples_split=20, n_estimators=200, random_state=0, total=   0.5s\n",
      "[CV] criterion=entropy, max_depth=25, min_samples_leaf=12, min_samples_split=20, n_estimators=200, random_state=0 \n",
      "[CV]  criterion=entropy, max_depth=25, min_samples_leaf=12, min_samples_split=20, n_estimators=200, random_state=0, total=   0.5s\n",
      "[CV] criterion=entropy, max_depth=25, min_samples_leaf=12, min_samples_split=20, n_estimators=200, random_state=0 \n",
      "[CV]  criterion=entropy, max_depth=25, min_samples_leaf=12, min_samples_split=20, n_estimators=200, random_state=0, total=   0.4s\n",
      "[CV] criterion=entropy, max_depth=25, min_samples_leaf=12, min_samples_split=22, n_estimators=200, random_state=0 \n",
      "[CV]  criterion=entropy, max_depth=25, min_samples_leaf=12, min_samples_split=22, n_estimators=200, random_state=0, total=   0.4s\n",
      "[CV] criterion=entropy, max_depth=25, min_samples_leaf=12, min_samples_split=22, n_estimators=200, random_state=0 \n",
      "[CV]  criterion=entropy, max_depth=25, min_samples_leaf=12, min_samples_split=22, n_estimators=200, random_state=0, total=   0.4s\n",
      "[CV] criterion=entropy, max_depth=25, min_samples_leaf=12, min_samples_split=22, n_estimators=200, random_state=0 \n",
      "[CV]  criterion=entropy, max_depth=25, min_samples_leaf=12, min_samples_split=22, n_estimators=200, random_state=0, total=   0.4s\n",
      "[CV] criterion=entropy, max_depth=25, min_samples_leaf=12, min_samples_split=22, n_estimators=200, random_state=0 \n",
      "[CV]  criterion=entropy, max_depth=25, min_samples_leaf=12, min_samples_split=22, n_estimators=200, random_state=0, total=   0.4s\n",
      "[CV] criterion=entropy, max_depth=25, min_samples_leaf=12, min_samples_split=22, n_estimators=200, random_state=0 \n",
      "[CV]  criterion=entropy, max_depth=25, min_samples_leaf=12, min_samples_split=22, n_estimators=200, random_state=0, total=   0.4s\n",
      "[CV] criterion=entropy, max_depth=26, min_samples_leaf=8, min_samples_split=18, n_estimators=200, random_state=0 \n",
      "[CV]  criterion=entropy, max_depth=26, min_samples_leaf=8, min_samples_split=18, n_estimators=200, random_state=0, total=   0.4s\n",
      "[CV] criterion=entropy, max_depth=26, min_samples_leaf=8, min_samples_split=18, n_estimators=200, random_state=0 \n",
      "[CV]  criterion=entropy, max_depth=26, min_samples_leaf=8, min_samples_split=18, n_estimators=200, random_state=0, total=   0.4s\n",
      "[CV] criterion=entropy, max_depth=26, min_samples_leaf=8, min_samples_split=18, n_estimators=200, random_state=0 \n",
      "[CV]  criterion=entropy, max_depth=26, min_samples_leaf=8, min_samples_split=18, n_estimators=200, random_state=0, total=   0.4s\n",
      "[CV] criterion=entropy, max_depth=26, min_samples_leaf=8, min_samples_split=18, n_estimators=200, random_state=0 \n",
      "[CV]  criterion=entropy, max_depth=26, min_samples_leaf=8, min_samples_split=18, n_estimators=200, random_state=0, total=   0.4s\n",
      "[CV] criterion=entropy, max_depth=26, min_samples_leaf=8, min_samples_split=18, n_estimators=200, random_state=0 \n",
      "[CV]  criterion=entropy, max_depth=26, min_samples_leaf=8, min_samples_split=18, n_estimators=200, random_state=0, total=   0.4s\n",
      "[CV] criterion=entropy, max_depth=26, min_samples_leaf=8, min_samples_split=20, n_estimators=200, random_state=0 \n",
      "[CV]  criterion=entropy, max_depth=26, min_samples_leaf=8, min_samples_split=20, n_estimators=200, random_state=0, total=   0.4s\n",
      "[CV] criterion=entropy, max_depth=26, min_samples_leaf=8, min_samples_split=20, n_estimators=200, random_state=0 \n",
      "[CV]  criterion=entropy, max_depth=26, min_samples_leaf=8, min_samples_split=20, n_estimators=200, random_state=0, total=   0.4s\n",
      "[CV] criterion=entropy, max_depth=26, min_samples_leaf=8, min_samples_split=20, n_estimators=200, random_state=0 \n",
      "[CV]  criterion=entropy, max_depth=26, min_samples_leaf=8, min_samples_split=20, n_estimators=200, random_state=0, total=   0.4s\n",
      "[CV] criterion=entropy, max_depth=26, min_samples_leaf=8, min_samples_split=20, n_estimators=200, random_state=0 \n",
      "[CV]  criterion=entropy, max_depth=26, min_samples_leaf=8, min_samples_split=20, n_estimators=200, random_state=0, total=   0.4s\n",
      "[CV] criterion=entropy, max_depth=26, min_samples_leaf=8, min_samples_split=20, n_estimators=200, random_state=0 \n",
      "[CV]  criterion=entropy, max_depth=26, min_samples_leaf=8, min_samples_split=20, n_estimators=200, random_state=0, total=   0.4s\n",
      "[CV] criterion=entropy, max_depth=26, min_samples_leaf=8, min_samples_split=22, n_estimators=200, random_state=0 \n",
      "[CV]  criterion=entropy, max_depth=26, min_samples_leaf=8, min_samples_split=22, n_estimators=200, random_state=0, total=   0.4s\n",
      "[CV] criterion=entropy, max_depth=26, min_samples_leaf=8, min_samples_split=22, n_estimators=200, random_state=0 \n",
      "[CV]  criterion=entropy, max_depth=26, min_samples_leaf=8, min_samples_split=22, n_estimators=200, random_state=0, total=   0.4s\n",
      "[CV] criterion=entropy, max_depth=26, min_samples_leaf=8, min_samples_split=22, n_estimators=200, random_state=0 \n",
      "[CV]  criterion=entropy, max_depth=26, min_samples_leaf=8, min_samples_split=22, n_estimators=200, random_state=0, total=   0.4s\n",
      "[CV] criterion=entropy, max_depth=26, min_samples_leaf=8, min_samples_split=22, n_estimators=200, random_state=0 \n"
     ]
    },
    {
     "name": "stdout",
     "output_type": "stream",
     "text": [
      "[CV]  criterion=entropy, max_depth=26, min_samples_leaf=8, min_samples_split=22, n_estimators=200, random_state=0, total=   0.4s\n",
      "[CV] criterion=entropy, max_depth=26, min_samples_leaf=8, min_samples_split=22, n_estimators=200, random_state=0 \n",
      "[CV]  criterion=entropy, max_depth=26, min_samples_leaf=8, min_samples_split=22, n_estimators=200, random_state=0, total=   0.4s\n",
      "[CV] criterion=entropy, max_depth=26, min_samples_leaf=10, min_samples_split=18, n_estimators=200, random_state=0 \n",
      "[CV]  criterion=entropy, max_depth=26, min_samples_leaf=10, min_samples_split=18, n_estimators=200, random_state=0, total=   0.4s\n",
      "[CV] criterion=entropy, max_depth=26, min_samples_leaf=10, min_samples_split=18, n_estimators=200, random_state=0 \n",
      "[CV]  criterion=entropy, max_depth=26, min_samples_leaf=10, min_samples_split=18, n_estimators=200, random_state=0, total=   0.5s\n",
      "[CV] criterion=entropy, max_depth=26, min_samples_leaf=10, min_samples_split=18, n_estimators=200, random_state=0 \n",
      "[CV]  criterion=entropy, max_depth=26, min_samples_leaf=10, min_samples_split=18, n_estimators=200, random_state=0, total=   0.4s\n",
      "[CV] criterion=entropy, max_depth=26, min_samples_leaf=10, min_samples_split=18, n_estimators=200, random_state=0 \n",
      "[CV]  criterion=entropy, max_depth=26, min_samples_leaf=10, min_samples_split=18, n_estimators=200, random_state=0, total=   0.4s\n",
      "[CV] criterion=entropy, max_depth=26, min_samples_leaf=10, min_samples_split=18, n_estimators=200, random_state=0 \n",
      "[CV]  criterion=entropy, max_depth=26, min_samples_leaf=10, min_samples_split=18, n_estimators=200, random_state=0, total=   0.4s\n",
      "[CV] criterion=entropy, max_depth=26, min_samples_leaf=10, min_samples_split=20, n_estimators=200, random_state=0 \n",
      "[CV]  criterion=entropy, max_depth=26, min_samples_leaf=10, min_samples_split=20, n_estimators=200, random_state=0, total=   0.5s\n",
      "[CV] criterion=entropy, max_depth=26, min_samples_leaf=10, min_samples_split=20, n_estimators=200, random_state=0 \n",
      "[CV]  criterion=entropy, max_depth=26, min_samples_leaf=10, min_samples_split=20, n_estimators=200, random_state=0, total=   0.4s\n",
      "[CV] criterion=entropy, max_depth=26, min_samples_leaf=10, min_samples_split=20, n_estimators=200, random_state=0 \n",
      "[CV]  criterion=entropy, max_depth=26, min_samples_leaf=10, min_samples_split=20, n_estimators=200, random_state=0, total=   0.4s\n",
      "[CV] criterion=entropy, max_depth=26, min_samples_leaf=10, min_samples_split=20, n_estimators=200, random_state=0 \n",
      "[CV]  criterion=entropy, max_depth=26, min_samples_leaf=10, min_samples_split=20, n_estimators=200, random_state=0, total=   0.5s\n",
      "[CV] criterion=entropy, max_depth=26, min_samples_leaf=10, min_samples_split=20, n_estimators=200, random_state=0 \n",
      "[CV]  criterion=entropy, max_depth=26, min_samples_leaf=10, min_samples_split=20, n_estimators=200, random_state=0, total=   0.5s\n",
      "[CV] criterion=entropy, max_depth=26, min_samples_leaf=10, min_samples_split=22, n_estimators=200, random_state=0 \n",
      "[CV]  criterion=entropy, max_depth=26, min_samples_leaf=10, min_samples_split=22, n_estimators=200, random_state=0, total=   0.4s\n",
      "[CV] criterion=entropy, max_depth=26, min_samples_leaf=10, min_samples_split=22, n_estimators=200, random_state=0 \n",
      "[CV]  criterion=entropy, max_depth=26, min_samples_leaf=10, min_samples_split=22, n_estimators=200, random_state=0, total=   0.5s\n",
      "[CV] criterion=entropy, max_depth=26, min_samples_leaf=10, min_samples_split=22, n_estimators=200, random_state=0 \n",
      "[CV]  criterion=entropy, max_depth=26, min_samples_leaf=10, min_samples_split=22, n_estimators=200, random_state=0, total=   0.3s\n",
      "[CV] criterion=entropy, max_depth=26, min_samples_leaf=10, min_samples_split=22, n_estimators=200, random_state=0 \n",
      "[CV]  criterion=entropy, max_depth=26, min_samples_leaf=10, min_samples_split=22, n_estimators=200, random_state=0, total=   0.4s\n",
      "[CV] criterion=entropy, max_depth=26, min_samples_leaf=10, min_samples_split=22, n_estimators=200, random_state=0 \n",
      "[CV]  criterion=entropy, max_depth=26, min_samples_leaf=10, min_samples_split=22, n_estimators=200, random_state=0, total=   0.4s\n",
      "[CV] criterion=entropy, max_depth=26, min_samples_leaf=12, min_samples_split=18, n_estimators=200, random_state=0 \n",
      "[CV]  criterion=entropy, max_depth=26, min_samples_leaf=12, min_samples_split=18, n_estimators=200, random_state=0, total=   0.5s\n",
      "[CV] criterion=entropy, max_depth=26, min_samples_leaf=12, min_samples_split=18, n_estimators=200, random_state=0 \n",
      "[CV]  criterion=entropy, max_depth=26, min_samples_leaf=12, min_samples_split=18, n_estimators=200, random_state=0, total=   0.4s\n",
      "[CV] criterion=entropy, max_depth=26, min_samples_leaf=12, min_samples_split=18, n_estimators=200, random_state=0 \n",
      "[CV]  criterion=entropy, max_depth=26, min_samples_leaf=12, min_samples_split=18, n_estimators=200, random_state=0, total=   0.5s\n",
      "[CV] criterion=entropy, max_depth=26, min_samples_leaf=12, min_samples_split=18, n_estimators=200, random_state=0 \n",
      "[CV]  criterion=entropy, max_depth=26, min_samples_leaf=12, min_samples_split=18, n_estimators=200, random_state=0, total=   0.5s\n",
      "[CV] criterion=entropy, max_depth=26, min_samples_leaf=12, min_samples_split=18, n_estimators=200, random_state=0 \n",
      "[CV]  criterion=entropy, max_depth=26, min_samples_leaf=12, min_samples_split=18, n_estimators=200, random_state=0, total=   0.5s\n",
      "[CV] criterion=entropy, max_depth=26, min_samples_leaf=12, min_samples_split=20, n_estimators=200, random_state=0 \n",
      "[CV]  criterion=entropy, max_depth=26, min_samples_leaf=12, min_samples_split=20, n_estimators=200, random_state=0, total=   0.4s\n",
      "[CV] criterion=entropy, max_depth=26, min_samples_leaf=12, min_samples_split=20, n_estimators=200, random_state=0 \n",
      "[CV]  criterion=entropy, max_depth=26, min_samples_leaf=12, min_samples_split=20, n_estimators=200, random_state=0, total=   0.4s\n",
      "[CV] criterion=entropy, max_depth=26, min_samples_leaf=12, min_samples_split=20, n_estimators=200, random_state=0 \n",
      "[CV]  criterion=entropy, max_depth=26, min_samples_leaf=12, min_samples_split=20, n_estimators=200, random_state=0, total=   0.4s\n",
      "[CV] criterion=entropy, max_depth=26, min_samples_leaf=12, min_samples_split=20, n_estimators=200, random_state=0 \n",
      "[CV]  criterion=entropy, max_depth=26, min_samples_leaf=12, min_samples_split=20, n_estimators=200, random_state=0, total=   0.4s\n",
      "[CV] criterion=entropy, max_depth=26, min_samples_leaf=12, min_samples_split=20, n_estimators=200, random_state=0 \n",
      "[CV]  criterion=entropy, max_depth=26, min_samples_leaf=12, min_samples_split=20, n_estimators=200, random_state=0, total=   0.4s\n",
      "[CV] criterion=entropy, max_depth=26, min_samples_leaf=12, min_samples_split=22, n_estimators=200, random_state=0 \n",
      "[CV]  criterion=entropy, max_depth=26, min_samples_leaf=12, min_samples_split=22, n_estimators=200, random_state=0, total=   0.5s\n",
      "[CV] criterion=entropy, max_depth=26, min_samples_leaf=12, min_samples_split=22, n_estimators=200, random_state=0 \n",
      "[CV]  criterion=entropy, max_depth=26, min_samples_leaf=12, min_samples_split=22, n_estimators=200, random_state=0, total=   0.5s\n",
      "[CV] criterion=entropy, max_depth=26, min_samples_leaf=12, min_samples_split=22, n_estimators=200, random_state=0 \n",
      "[CV]  criterion=entropy, max_depth=26, min_samples_leaf=12, min_samples_split=22, n_estimators=200, random_state=0, total=   0.4s\n",
      "[CV] criterion=entropy, max_depth=26, min_samples_leaf=12, min_samples_split=22, n_estimators=200, random_state=0 \n",
      "[CV]  criterion=entropy, max_depth=26, min_samples_leaf=12, min_samples_split=22, n_estimators=200, random_state=0, total=   0.4s\n",
      "[CV] criterion=entropy, max_depth=26, min_samples_leaf=12, min_samples_split=22, n_estimators=200, random_state=0 \n",
      "[CV]  criterion=entropy, max_depth=26, min_samples_leaf=12, min_samples_split=22, n_estimators=200, random_state=0, total=   0.4s\n"
     ]
    },
    {
     "name": "stderr",
     "output_type": "stream",
     "text": [
      "[Parallel(n_jobs=1)]: Done 135 out of 135 | elapsed:   52.7s finished\n"
     ]
    },
    {
     "name": "stdout",
     "output_type": "stream",
     "text": [
      "Grid Search Predictions on Train Data: 0.9955947136563876\n",
      "Grid Search Predictions on Test Data: 1.0\n",
      "According to Grid Search Best Hyperparameters are;\n",
      "{'criterion': 'entropy', 'max_depth': 24, 'min_samples_leaf': 8, 'min_samples_split': 18, 'n_estimators': 200, 'random_state': 0}\n"
     ]
    }
   ],
   "source": [
    "gridSearch(clf, grid_forest, X_train, X_test, y_train, y_test); # \";\" can be removed for viewing output."
   ]
  },
  {
   "cell_type": "markdown",
   "metadata": {},
   "source": [
    "\"Fitting 5 folds for each of 27 candidates, totalling 135 fits.\" Cross-Validation number is set to 5 and we have **(1 * 3 * 3 * 3 * 1)** options. GridSearch will carry out 135 fits(27*5)."
   ]
  },
  {
   "cell_type": "markdown",
   "metadata": {},
   "source": [
    "#### Model Fitting and Predictions"
   ]
  },
  {
   "cell_type": "markdown",
   "metadata": {},
   "source": [
    "Hyperparameters that come from tuning algorithms are used."
   ]
  },
  {
   "cell_type": "code",
   "execution_count": 215,
   "metadata": {},
   "outputs": [
    {
     "name": "stdout",
     "output_type": "stream",
     "text": [
      "1.0\n"
     ]
    }
   ],
   "source": [
    "clf_f = RandomForestClassifier(n_jobs=-1,n_estimators=200,\n",
    "                               min_samples_leaf=10,max_depth=25, \n",
    "                               min_samples_split=20, random_state=0,\n",
    "                               criterion=\"entropy\") #old ones min_samples_leaf=15, min_samples_split = 15\n",
    "clf_f.fit(X_train, y_train)\n",
    "print(clf_f.score(X_test,y_test))"
   ]
  },
  {
   "cell_type": "markdown",
   "metadata": {},
   "source": [
    "Model's predictions in test data is assigned to a variable."
   ]
  },
  {
   "cell_type": "code",
   "execution_count": 216,
   "metadata": {},
   "outputs": [],
   "source": [
    "forest_preds = clf_f.predict(X_test)"
   ]
  },
  {
   "cell_type": "markdown",
   "metadata": {},
   "source": [
    " \"evaluatePreds\" function is used to see how well our model predicts from different aspects"
   ]
  },
  {
   "cell_type": "code",
   "execution_count": 217,
   "metadata": {},
   "outputs": [],
   "source": [
    "forest_metrics = evaluatePreds(y_test, forest_preds)"
   ]
  },
  {
   "cell_type": "code",
   "execution_count": 218,
   "metadata": {},
   "outputs": [
    {
     "data": {
      "text/plain": [
       "{'accuracy': 1.0, 'f1 score': 1.0, 'precision score': 1.0, 'recall score': 1.0}"
      ]
     },
     "execution_count": 218,
     "metadata": {},
     "output_type": "execute_result"
    }
   ],
   "source": [
    "forest_metrics"
   ]
  },
  {
   "cell_type": "markdown",
   "metadata": {},
   "source": [
    "Thos are perfect scores."
   ]
  },
  {
   "cell_type": "code",
   "execution_count": 219,
   "metadata": {},
   "outputs": [
    {
     "data": {
      "image/png": "[encoded data removed]",
      "text/plain": [
       "<Figure size 432x288 with 2 Axes>"
      ]
     },
     "metadata": {},
     "output_type": "display_data"
    }
   ],
   "source": [
    "plotconf(y_test, forest_preds, \"Random Forest Classifier Confusion Matrix\")"
   ]
  },
  {
   "cell_type": "markdown",
   "metadata": {},
   "source": [
    "From 76 target values, Random Forest model has classified all true."
   ]
  },
  {
   "cell_type": "markdown",
   "metadata": {},
   "source": [
    "It is explained in [this cell](#note)"
   ]
  },
  {
   "cell_type": "markdown",
   "metadata": {},
   "source": [
    "### KNN"
   ]
  },
  {
   "cell_type": "markdown",
   "metadata": {},
   "source": [
    "For mor information about KNN https://scikit-learn.org/stable/modules/generated/sklearn.neighbors.KNeighborsClassifier.html"
   ]
  },
  {
   "cell_type": "markdown",
   "metadata": {},
   "source": [
    "Before moving in to KNN algorithm, there is extra thing which it's not used for Random Forest. That is Scaling. Features should be for a better performance."
   ]
  },
  {
   "cell_type": "markdown",
   "metadata": {},
   "source": [
    "#### Standard Scaler"
   ]
  },
  {
   "cell_type": "markdown",
   "metadata": {},
   "source": [
    "*X - mu / std*\n"
   ]
  },
  {
   "cell_type": "code",
   "execution_count": 220,
   "metadata": {},
   "outputs": [],
   "source": [
    "from sklearn.preprocessing import StandardScaler"
   ]
  },
  {
   "cell_type": "code",
   "execution_count": 221,
   "metadata": {},
   "outputs": [],
   "source": [
    "sc = StandardScaler()\n",
    "X_train_sc = sc.fit_transform(X_train)\n",
    "X_test_sc = sc.transform(X_test)"
   ]
  },
  {
   "cell_type": "markdown",
   "metadata": {},
   "source": [
    "#### Cross-Validation for K Value\n"
   ]
  },
  {
   "cell_type": "markdown",
   "metadata": {},
   "source": [
    "K-value must be tuned for a better performance. K-value stands for number of neighbors which votes on new value's prediction."
   ]
  },
  {
   "cell_type": "code",
   "execution_count": 222,
   "metadata": {},
   "outputs": [],
   "source": [
    "from sklearn.neighbors import KNeighborsClassifier\n",
    "knn_scores=[]\n",
    "\n",
    "for i in range(1,20):\n",
    "    clf_temp = KNeighborsClassifier(n_neighbors=i)\n",
    "    clf_temp.fit(X_train_sc, y_train)\n",
    "    knn_preds = clf_temp.predict(X_test_sc)\n",
    "    knn_scores = np.append(knn_scores,f1_score(y_test,knn_preds))\n",
    "    \n"
   ]
  },
  {
   "cell_type": "code",
   "execution_count": 223,
   "metadata": {},
   "outputs": [
    {
     "data": {
      "text/plain": [
       "array([0.94117647, 0.93939394, 0.97058824, 0.93939394, 0.97058824,\n",
       "       0.93939394, 0.95522388, 0.92307692, 0.93939394, 0.92307692,\n",
       "       0.93939394, 0.93939394, 0.93939394, 0.93939394, 0.93939394,\n",
       "       0.92307692, 0.93939394, 0.92307692, 0.95522388])"
      ]
     },
     "execution_count": 223,
     "metadata": {},
     "output_type": "execute_result"
    }
   ],
   "source": [
    "knn_scores"
   ]
  },
  {
   "cell_type": "markdown",
   "metadata": {},
   "source": [
    "Best k value is 3 as can seen from knn_scores."
   ]
  },
  {
   "cell_type": "markdown",
   "metadata": {},
   "source": [
    "Visualization of how \"k\" value affects performance of KNN;"
   ]
  },
  {
   "cell_type": "code",
   "execution_count": 224,
   "metadata": {
    "scrolled": true
   },
   "outputs": [
    {
     "data": {
      "image/png": "[encoded data removed]",
      "text/plain": [
       "<Figure size 720x504 with 1 Axes>"
      ]
     },
     "metadata": {},
     "output_type": "display_data"
    }
   ],
   "source": [
    "plt.figure(figsize=(10,7))\n",
    "plt.plot(np.arange(1,20), knn_scores, marker='o')\n",
    "plt.xticks(np.arange(1,20,3))\n",
    "plt.xlabel(\"Number of Neighbors\")\n",
    "plt.ylabel(\"F1 Score\")\n",
    "plt.title(\"K-Nearest-Neighbors Performance due to K\")\n",
    "plt.show()"
   ]
  },
  {
   "cell_type": "markdown",
   "metadata": {},
   "source": [
    "Best K value is 3, KNN should be fitted with n_neighbors = 3"
   ]
  },
  {
   "cell_type": "code",
   "execution_count": 225,
   "metadata": {},
   "outputs": [],
   "source": [
    "clf_knn = KNeighborsClassifier(n_neighbors=(np.argmax(knn_scores)+1))\n",
    "clf_knn.fit(X_train_sc, y_train)\n",
    "knn_preds = clf_knn.predict(X_test_sc)\n",
    "\n",
    "knn_metrics = evaluatePreds(y_test, knn_preds)\n"
   ]
  },
  {
   "cell_type": "code",
   "execution_count": 226,
   "metadata": {},
   "outputs": [
    {
     "data": {
      "text/plain": [
       "{'accuracy': 0.9736842105263158,\n",
       " 'f1 score': 0.9705882352941176,\n",
       " 'precision score': 0.9705882352941176,\n",
       " 'recall score': 0.9705882352941176}"
      ]
     },
     "execution_count": 226,
     "metadata": {},
     "output_type": "execute_result"
    }
   ],
   "source": [
    "knn_metrics"
   ]
  },
  {
   "cell_type": "code",
   "execution_count": 227,
   "metadata": {},
   "outputs": [
    {
     "data": {
      "image/png": "[encoded data removed]",
      "text/plain": [
       "<Figure size 432x288 with 2 Axes>"
      ]
     },
     "metadata": {},
     "output_type": "display_data"
    }
   ],
   "source": [
    "plotconf(y_test, knn_preds, \"KNN Confusion Matrix\")"
   ]
  },
  {
   "cell_type": "markdown",
   "metadata": {},
   "source": [
    "From 76 target values, KNN model has missclassified only 2 values. That's quite impressing.\n"
   ]
  },
  {
   "cell_type": "markdown",
   "metadata": {},
   "source": [
    "### Logistic Regression\n"
   ]
  },
  {
   "cell_type": "markdown",
   "metadata": {},
   "source": [
    "For more information : https://scikit-learn.org/stable/modules/generated/sklearn.linear_model.LogisticRegression.html"
   ]
  },
  {
   "cell_type": "markdown",
   "metadata": {},
   "source": [
    "Like K value in KNN, C value should be tuned for best performance"
   ]
  },
  {
   "cell_type": "markdown",
   "metadata": {},
   "source": [
    "C value is inverse of regularization strength. If C value is set too high, model can overfit while trying to catch all patterns of training. On the other hand if c value is set too low, model can underfit."
   ]
  },
  {
   "cell_type": "code",
   "execution_count": 228,
   "metadata": {},
   "outputs": [],
   "source": [
    "from sklearn.linear_model import LogisticRegression"
   ]
  },
  {
   "cell_type": "code",
   "execution_count": 229,
   "metadata": {},
   "outputs": [],
   "source": [
    "model = LogisticRegression()"
   ]
  },
  {
   "cell_type": "code",
   "execution_count": 230,
   "metadata": {},
   "outputs": [],
   "source": [
    "grid_log = {\"C\":[0.001,0.01,0.1,1,10],\n",
    "           \"solver\":[\"sag\",\"newton-cg\",\"liblinear\",\"lbfgs\"],\n",
    "           \"penalty\":[\"l2\"]} #l2 l1 compatibility with solvers"
   ]
  },
  {
   "cell_type": "markdown",
   "metadata": {},
   "source": [
    "Note that ‘sag’ and ‘saga’ fast convergence is only guaranteed on features with approximately the same scale. You can preprocess the data with a scaler from sklearn.preprocessing."
   ]
  },
  {
   "cell_type": "code",
   "execution_count": 231,
   "metadata": {
    "scrolled": true
   },
   "outputs": [
    {
     "name": "stdout",
     "output_type": "stream",
     "text": [
      "Fitting 5 folds for each of 20 candidates, totalling 100 fits\n",
      "[CV] C=0.001, penalty=l2, solver=sag .................................\n",
      "[CV] .................. C=0.001, penalty=l2, solver=sag, total=   0.0s\n",
      "[CV] C=0.001, penalty=l2, solver=sag .................................\n",
      "[CV] .................. C=0.001, penalty=l2, solver=sag, total=   0.0s\n",
      "[CV] C=0.001, penalty=l2, solver=sag .................................\n",
      "[CV] .................. C=0.001, penalty=l2, solver=sag, total=   0.0s\n",
      "[CV] C=0.001, penalty=l2, solver=sag .................................\n",
      "[CV] .................. C=0.001, penalty=l2, solver=sag, total=   0.0s\n",
      "[CV] C=0.001, penalty=l2, solver=sag .................................\n",
      "[CV] .................. C=0.001, penalty=l2, solver=sag, total=   0.0s\n",
      "[CV] C=0.001, penalty=l2, solver=newton-cg ...........................\n",
      "[CV] ............ C=0.001, penalty=l2, solver=newton-cg, total=   0.0s\n",
      "[CV] C=0.001, penalty=l2, solver=newton-cg ...........................\n",
      "[CV] ............ C=0.001, penalty=l2, solver=newton-cg, total=   0.0s\n",
      "[CV] C=0.001, penalty=l2, solver=newton-cg ...........................\n",
      "[CV] ............ C=0.001, penalty=l2, solver=newton-cg, total=   0.0s\n",
      "[CV] C=0.001, penalty=l2, solver=newton-cg ...........................\n",
      "[CV] ............ C=0.001, penalty=l2, solver=newton-cg, total=   0.0s\n",
      "[CV] C=0.001, penalty=l2, solver=newton-cg ...........................\n",
      "[CV] ............ C=0.001, penalty=l2, solver=newton-cg, total=   0.0s\n",
      "[CV] C=0.001, penalty=l2, solver=liblinear ...........................\n",
      "[CV] ............ C=0.001, penalty=l2, solver=liblinear, total=   0.0s\n",
      "[CV] C=0.001, penalty=l2, solver=liblinear ...........................\n",
      "[CV] ............ C=0.001, penalty=l2, solver=liblinear, total=   0.0s\n",
      "[CV] C=0.001, penalty=l2, solver=liblinear ...........................\n",
      "[CV] ............ C=0.001, penalty=l2, solver=liblinear, total=   0.0s\n",
      "[CV] C=0.001, penalty=l2, solver=liblinear ...........................\n",
      "[CV] ............ C=0.001, penalty=l2, solver=liblinear, total=   0.0s\n",
      "[CV] C=0.001, penalty=l2, solver=liblinear ...........................\n",
      "[CV] ............ C=0.001, penalty=l2, solver=liblinear, total=   0.0s\n",
      "[CV] C=0.001, penalty=l2, solver=lbfgs ...............................\n",
      "[CV] ................ C=0.001, penalty=l2, solver=lbfgs, total=   0.0s\n",
      "[CV] C=0.001, penalty=l2, solver=lbfgs ...............................\n",
      "[CV] ................ C=0.001, penalty=l2, solver=lbfgs, total=   0.0s\n",
      "[CV] C=0.001, penalty=l2, solver=lbfgs ...............................\n",
      "[CV] ................ C=0.001, penalty=l2, solver=lbfgs, total=   0.0s\n",
      "[CV] C=0.001, penalty=l2, solver=lbfgs ...............................\n",
      "[CV] ................ C=0.001, penalty=l2, solver=lbfgs, total=   0.0s\n",
      "[CV] C=0.001, penalty=l2, solver=lbfgs ...............................\n",
      "[CV] ................ C=0.001, penalty=l2, solver=lbfgs, total=   0.0s\n",
      "[CV] C=0.01, penalty=l2, solver=sag ..................................\n",
      "[CV] ................... C=0.01, penalty=l2, solver=sag, total=   0.0s\n",
      "[CV] C=0.01, penalty=l2, solver=sag ..................................\n",
      "[CV] ................... C=0.01, penalty=l2, solver=sag, total=   0.0s\n",
      "[CV] C=0.01, penalty=l2, solver=sag ..................................\n",
      "[CV] ................... C=0.01, penalty=l2, solver=sag, total=   0.0s\n",
      "[CV] C=0.01, penalty=l2, solver=sag ..................................\n",
      "[CV] ................... C=0.01, penalty=l2, solver=sag, total=   0.0s\n",
      "[CV] C=0.01, penalty=l2, solver=sag ..................................\n",
      "[CV] ................... C=0.01, penalty=l2, solver=sag, total=   0.0s\n",
      "[CV] C=0.01, penalty=l2, solver=newton-cg ............................\n",
      "[CV] ............. C=0.01, penalty=l2, solver=newton-cg, total=   0.0s\n",
      "[CV] C=0.01, penalty=l2, solver=newton-cg ............................\n",
      "[CV] ............. C=0.01, penalty=l2, solver=newton-cg, total=   0.0s\n",
      "[CV] C=0.01, penalty=l2, solver=newton-cg ............................\n",
      "[CV] ............. C=0.01, penalty=l2, solver=newton-cg, total=   0.0s\n",
      "[CV] C=0.01, penalty=l2, solver=newton-cg ............................\n",
      "[CV] ............. C=0.01, penalty=l2, solver=newton-cg, total=   0.0s\n",
      "[CV] C=0.01, penalty=l2, solver=newton-cg ............................\n",
      "[CV] ............. C=0.01, penalty=l2, solver=newton-cg, total=   0.0s\n",
      "[CV] C=0.01, penalty=l2, solver=liblinear ............................\n",
      "[CV] ............. C=0.01, penalty=l2, solver=liblinear, total=   0.0s\n",
      "[CV] C=0.01, penalty=l2, solver=liblinear ............................\n",
      "[CV] ............. C=0.01, penalty=l2, solver=liblinear, total=   0.0s\n",
      "[CV] C=0.01, penalty=l2, solver=liblinear ............................\n",
      "[CV] ............. C=0.01, penalty=l2, solver=liblinear, total=   0.0s\n",
      "[CV] C=0.01, penalty=l2, solver=liblinear ............................\n",
      "[CV] ............. C=0.01, penalty=l2, solver=liblinear, total=   0.0s\n",
      "[CV] C=0.01, penalty=l2, solver=liblinear ............................\n"
     ]
    },
    {
     "name": "stderr",
     "output_type": "stream",
     "text": [
      "[Parallel(n_jobs=1)]: Using backend SequentialBackend with 1 concurrent workers.\n",
      "[Parallel(n_jobs=1)]: Done   1 out of   1 | elapsed:    0.0s remaining:    0.0s\n"
     ]
    },
    {
     "name": "stdout",
     "output_type": "stream",
     "text": [
      "[CV] ............. C=0.01, penalty=l2, solver=liblinear, total=   0.0s\n",
      "[CV] C=0.01, penalty=l2, solver=lbfgs ................................\n",
      "[CV] ................. C=0.01, penalty=l2, solver=lbfgs, total=   0.0s\n",
      "[CV] C=0.01, penalty=l2, solver=lbfgs ................................\n",
      "[CV] ................. C=0.01, penalty=l2, solver=lbfgs, total=   0.0s\n",
      "[CV] C=0.01, penalty=l2, solver=lbfgs ................................\n",
      "[CV] ................. C=0.01, penalty=l2, solver=lbfgs, total=   0.0s\n",
      "[CV] C=0.01, penalty=l2, solver=lbfgs ................................\n",
      "[CV] ................. C=0.01, penalty=l2, solver=lbfgs, total=   0.0s\n",
      "[CV] C=0.01, penalty=l2, solver=lbfgs ................................\n",
      "[CV] ................. C=0.01, penalty=l2, solver=lbfgs, total=   0.0s\n",
      "[CV] C=0.1, penalty=l2, solver=sag ...................................\n",
      "[CV] .................... C=0.1, penalty=l2, solver=sag, total=   0.0s\n",
      "[CV] C=0.1, penalty=l2, solver=sag ...................................\n",
      "[CV] .................... C=0.1, penalty=l2, solver=sag, total=   0.0s\n",
      "[CV] C=0.1, penalty=l2, solver=sag ...................................\n",
      "[CV] .................... C=0.1, penalty=l2, solver=sag, total=   0.0s\n",
      "[CV] C=0.1, penalty=l2, solver=sag ...................................\n",
      "[CV] .................... C=0.1, penalty=l2, solver=sag, total=   0.0s\n",
      "[CV] C=0.1, penalty=l2, solver=sag ...................................\n",
      "[CV] .................... C=0.1, penalty=l2, solver=sag, total=   0.0s\n",
      "[CV] C=0.1, penalty=l2, solver=newton-cg .............................\n",
      "[CV] .............. C=0.1, penalty=l2, solver=newton-cg, total=   0.0s\n",
      "[CV] C=0.1, penalty=l2, solver=newton-cg .............................\n",
      "[CV] .............. C=0.1, penalty=l2, solver=newton-cg, total=   0.0s\n",
      "[CV] C=0.1, penalty=l2, solver=newton-cg .............................\n",
      "[CV] .............. C=0.1, penalty=l2, solver=newton-cg, total=   0.0s\n",
      "[CV] C=0.1, penalty=l2, solver=newton-cg .............................\n",
      "[CV] .............. C=0.1, penalty=l2, solver=newton-cg, total=   0.0s\n",
      "[CV] C=0.1, penalty=l2, solver=newton-cg .............................\n",
      "[CV] .............. C=0.1, penalty=l2, solver=newton-cg, total=   0.0s\n",
      "[CV] C=0.1, penalty=l2, solver=liblinear .............................\n",
      "[CV] .............. C=0.1, penalty=l2, solver=liblinear, total=   0.0s\n",
      "[CV] C=0.1, penalty=l2, solver=liblinear .............................\n",
      "[CV] .............. C=0.1, penalty=l2, solver=liblinear, total=   0.0s\n",
      "[CV] C=0.1, penalty=l2, solver=liblinear .............................\n",
      "[CV] .............. C=0.1, penalty=l2, solver=liblinear, total=   0.0s\n",
      "[CV] C=0.1, penalty=l2, solver=liblinear .............................\n",
      "[CV] .............. C=0.1, penalty=l2, solver=liblinear, total=   0.0s\n",
      "[CV] C=0.1, penalty=l2, solver=liblinear .............................\n",
      "[CV] .............. C=0.1, penalty=l2, solver=liblinear, total=   0.0s\n",
      "[CV] C=0.1, penalty=l2, solver=lbfgs .................................\n",
      "[CV] .................. C=0.1, penalty=l2, solver=lbfgs, total=   0.0s\n",
      "[CV] C=0.1, penalty=l2, solver=lbfgs .................................\n",
      "[CV] .................. C=0.1, penalty=l2, solver=lbfgs, total=   0.0s\n",
      "[CV] C=0.1, penalty=l2, solver=lbfgs .................................\n",
      "[CV] .................. C=0.1, penalty=l2, solver=lbfgs, total=   0.0s\n",
      "[CV] C=0.1, penalty=l2, solver=lbfgs .................................\n",
      "[CV] .................. C=0.1, penalty=l2, solver=lbfgs, total=   0.0s\n",
      "[CV] C=0.1, penalty=l2, solver=lbfgs .................................\n",
      "[CV] .................. C=0.1, penalty=l2, solver=lbfgs, total=   0.0s\n",
      "[CV] C=1, penalty=l2, solver=sag .....................................\n",
      "[CV] ...................... C=1, penalty=l2, solver=sag, total=   0.0s\n",
      "[CV] C=1, penalty=l2, solver=sag .....................................\n",
      "[CV] ...................... C=1, penalty=l2, solver=sag, total=   0.0s\n",
      "[CV] C=1, penalty=l2, solver=sag .....................................\n",
      "[CV] ...................... C=1, penalty=l2, solver=sag, total=   0.0s\n",
      "[CV] C=1, penalty=l2, solver=sag .....................................\n",
      "[CV] ...................... C=1, penalty=l2, solver=sag, total=   0.0s\n",
      "[CV] C=1, penalty=l2, solver=sag .....................................\n",
      "[CV] ...................... C=1, penalty=l2, solver=sag, total=   0.0s\n",
      "[CV] C=1, penalty=l2, solver=newton-cg ...............................\n",
      "[CV] ................ C=1, penalty=l2, solver=newton-cg, total=   0.0s\n",
      "[CV] C=1, penalty=l2, solver=newton-cg ...............................\n",
      "[CV] ................ C=1, penalty=l2, solver=newton-cg, total=   0.0s\n",
      "[CV] C=1, penalty=l2, solver=newton-cg ...............................\n",
      "[CV] ................ C=1, penalty=l2, solver=newton-cg, total=   0.0s\n",
      "[CV] C=1, penalty=l2, solver=newton-cg ...............................\n",
      "[CV] ................ C=1, penalty=l2, solver=newton-cg, total=   0.0s\n",
      "[CV] C=1, penalty=l2, solver=newton-cg ...............................\n",
      "[CV] ................ C=1, penalty=l2, solver=newton-cg, total=   0.0s\n",
      "[CV] C=1, penalty=l2, solver=liblinear ...............................\n",
      "[CV] ................ C=1, penalty=l2, solver=liblinear, total=   0.0s\n",
      "[CV] C=1, penalty=l2, solver=liblinear ...............................\n",
      "[CV] ................ C=1, penalty=l2, solver=liblinear, total=   0.0s\n",
      "[CV] C=1, penalty=l2, solver=liblinear ...............................\n",
      "[CV] ................ C=1, penalty=l2, solver=liblinear, total=   0.0s\n",
      "[CV] C=1, penalty=l2, solver=liblinear ...............................\n",
      "[CV] ................ C=1, penalty=l2, solver=liblinear, total=   0.0s\n",
      "[CV] C=1, penalty=l2, solver=liblinear ...............................\n",
      "[CV] ................ C=1, penalty=l2, solver=liblinear, total=   0.0s\n",
      "[CV] C=1, penalty=l2, solver=lbfgs ...................................\n",
      "[CV] .................... C=1, penalty=l2, solver=lbfgs, total=   0.0s\n",
      "[CV] C=1, penalty=l2, solver=lbfgs ...................................\n",
      "[CV] .................... C=1, penalty=l2, solver=lbfgs, total=   0.0s\n",
      "[CV] C=1, penalty=l2, solver=lbfgs ...................................\n",
      "[CV] .................... C=1, penalty=l2, solver=lbfgs, total=   0.0s\n",
      "[CV] C=1, penalty=l2, solver=lbfgs ...................................\n",
      "[CV] .................... C=1, penalty=l2, solver=lbfgs, total=   0.0s\n",
      "[CV] C=1, penalty=l2, solver=lbfgs ...................................\n",
      "[CV] .................... C=1, penalty=l2, solver=lbfgs, total=   0.0s\n",
      "[CV] C=10, penalty=l2, solver=sag ....................................\n",
      "[CV] ..................... C=10, penalty=l2, solver=sag, total=   0.0s\n",
      "[CV] C=10, penalty=l2, solver=sag ....................................\n",
      "[CV] ..................... C=10, penalty=l2, solver=sag, total=   0.0s\n",
      "[CV] C=10, penalty=l2, solver=sag ....................................\n",
      "[CV] ..................... C=10, penalty=l2, solver=sag, total=   0.0s\n",
      "[CV] C=10, penalty=l2, solver=sag ....................................\n",
      "[CV] ..................... C=10, penalty=l2, solver=sag, total=   0.0s\n",
      "[CV] C=10, penalty=l2, solver=sag ....................................\n",
      "[CV] ..................... C=10, penalty=l2, solver=sag, total=   0.0s\n",
      "[CV] C=10, penalty=l2, solver=newton-cg ..............................\n",
      "[CV] ............... C=10, penalty=l2, solver=newton-cg, total=   0.0s\n",
      "[CV] C=10, penalty=l2, solver=newton-cg ..............................\n",
      "[CV] ............... C=10, penalty=l2, solver=newton-cg, total=   0.0s\n",
      "[CV] C=10, penalty=l2, solver=newton-cg ..............................\n",
      "[CV] ............... C=10, penalty=l2, solver=newton-cg, total=   0.0s\n",
      "[CV] C=10, penalty=l2, solver=newton-cg ..............................\n",
      "[CV] ............... C=10, penalty=l2, solver=newton-cg, total=   0.0s\n",
      "[CV] C=10, penalty=l2, solver=newton-cg ..............................\n",
      "[CV] ............... C=10, penalty=l2, solver=newton-cg, total=   0.0s\n",
      "[CV] C=10, penalty=l2, solver=liblinear ..............................\n",
      "[CV] ............... C=10, penalty=l2, solver=liblinear, total=   0.0s\n",
      "[CV] C=10, penalty=l2, solver=liblinear ..............................\n",
      "[CV] ............... C=10, penalty=l2, solver=liblinear, total=   0.0s\n",
      "[CV] C=10, penalty=l2, solver=liblinear ..............................\n",
      "[CV] ............... C=10, penalty=l2, solver=liblinear, total=   0.0s\n",
      "[CV] C=10, penalty=l2, solver=liblinear ..............................\n",
      "[CV] ............... C=10, penalty=l2, solver=liblinear, total=   0.0s\n",
      "[CV] C=10, penalty=l2, solver=liblinear ..............................\n",
      "[CV] ............... C=10, penalty=l2, solver=liblinear, total=   0.0s\n",
      "[CV] C=10, penalty=l2, solver=lbfgs ..................................\n",
      "[CV] ................... C=10, penalty=l2, solver=lbfgs, total=   0.0s\n",
      "[CV] C=10, penalty=l2, solver=lbfgs ..................................\n",
      "[CV] ................... C=10, penalty=l2, solver=lbfgs, total=   0.0s\n",
      "[CV] C=10, penalty=l2, solver=lbfgs ..................................\n",
      "[CV] ................... C=10, penalty=l2, solver=lbfgs, total=   0.0s\n",
      "[CV] C=10, penalty=l2, solver=lbfgs ..................................\n",
      "[CV] ................... C=10, penalty=l2, solver=lbfgs, total=   0.0s\n",
      "[CV] C=10, penalty=l2, solver=lbfgs ..................................\n",
      "[CV] ................... C=10, penalty=l2, solver=lbfgs, total=   0.0s\n",
      "Grid Search Predictions on Train Data: 1.0\n",
      "Grid Search Predictions on Test Data: 1.0\n",
      "According to Grid Search Best Hyperparameters are;\n",
      "{'C': 1, 'penalty': 'l2', 'solver': 'sag'}\n"
     ]
    },
    {
     "name": "stderr",
     "output_type": "stream",
     "text": [
      "C:\\Users\\erhan\\anaconda3\\lib\\site-packages\\sklearn\\linear_model\\_sag.py:330: ConvergenceWarning: The max_iter was reached which means the coef_ did not converge\n",
      "  \"the coef_ did not converge\", ConvergenceWarning)\n",
      "C:\\Users\\erhan\\anaconda3\\lib\\site-packages\\sklearn\\linear_model\\_sag.py:330: ConvergenceWarning: The max_iter was reached which means the coef_ did not converge\n",
      "  \"the coef_ did not converge\", ConvergenceWarning)\n",
      "C:\\Users\\erhan\\anaconda3\\lib\\site-packages\\sklearn\\linear_model\\_sag.py:330: ConvergenceWarning: The max_iter was reached which means the coef_ did not converge\n",
      "  \"the coef_ did not converge\", ConvergenceWarning)\n",
      "C:\\Users\\erhan\\anaconda3\\lib\\site-packages\\sklearn\\linear_model\\_sag.py:330: ConvergenceWarning: The max_iter was reached which means the coef_ did not converge\n",
      "  \"the coef_ did not converge\", ConvergenceWarning)\n",
      "C:\\Users\\erhan\\anaconda3\\lib\\site-packages\\sklearn\\linear_model\\_sag.py:330: ConvergenceWarning: The max_iter was reached which means the coef_ did not converge\n",
      "  \"the coef_ did not converge\", ConvergenceWarning)\n",
      "C:\\Users\\erhan\\anaconda3\\lib\\site-packages\\sklearn\\linear_model\\_sag.py:330: ConvergenceWarning: The max_iter was reached which means the coef_ did not converge\n",
      "  \"the coef_ did not converge\", ConvergenceWarning)\n",
      "C:\\Users\\erhan\\anaconda3\\lib\\site-packages\\sklearn\\linear_model\\_sag.py:330: ConvergenceWarning: The max_iter was reached which means the coef_ did not converge\n",
      "  \"the coef_ did not converge\", ConvergenceWarning)\n",
      "[Parallel(n_jobs=1)]: Done 100 out of 100 | elapsed:    0.4s finished\n",
      "C:\\Users\\erhan\\anaconda3\\lib\\site-packages\\sklearn\\linear_model\\_sag.py:330: ConvergenceWarning: The max_iter was reached which means the coef_ did not converge\n",
      "  \"the coef_ did not converge\", ConvergenceWarning)\n"
     ]
    }
   ],
   "source": [
    "gridSearch(model, grid_log, X_train_sc, X_test_sc, y_train, y_test); # \";\" can be removed for viewing output."
   ]
  },
  {
   "cell_type": "markdown",
   "metadata": {},
   "source": [
    "According to GridSearch, best hyperparams are; "
   ]
  },
  {
   "cell_type": "markdown",
   "metadata": {},
   "source": [
    "{'C': 1, 'penalty': 'l2', 'solver': 'sag'}\n"
   ]
  },
  {
   "cell_type": "markdown",
   "metadata": {},
   "source": [
    "We've concluded with perfect model, It is explained in [this cell](#note)"
   ]
  },
  {
   "cell_type": "markdown",
   "metadata": {},
   "source": [
    "Hyperparameters that come from tuning algorithms are used."
   ]
  },
  {
   "cell_type": "code",
   "execution_count": 232,
   "metadata": {},
   "outputs": [],
   "source": [
    "model = LogisticRegression(C=1,\n",
    "                          penalty=\"l2\",\n",
    "                          solver=\"sag\",\n",
    "                          random_state=0)\n",
    "\n",
    "model.fit(X_train_sc, y_train)\n",
    "log_preds=model.predict(X_test_sc)"
   ]
  },
  {
   "cell_type": "code",
   "execution_count": 233,
   "metadata": {},
   "outputs": [],
   "source": [
    "log_metrics = evaluatePreds(y_test, log_preds)"
   ]
  },
  {
   "cell_type": "code",
   "execution_count": 234,
   "metadata": {},
   "outputs": [
    {
     "data": {
      "text/plain": [
       "{'accuracy': 1.0, 'f1 score': 1.0, 'precision score': 1.0, 'recall score': 1.0}"
      ]
     },
     "execution_count": 234,
     "metadata": {},
     "output_type": "execute_result"
    }
   ],
   "source": [
    "log_metrics"
   ]
  },
  {
   "cell_type": "code",
   "execution_count": 235,
   "metadata": {},
   "outputs": [
    {
     "data": {
      "image/png": "[encoded data removed]",
      "text/plain": [
       "<Figure size 432x288 with 2 Axes>"
      ]
     },
     "metadata": {},
     "output_type": "display_data"
    }
   ],
   "source": [
    "plotconf(y_test, log_preds, \"Logistic Regression Confusion Matrix\")"
   ]
  },
  {
   "cell_type": "markdown",
   "metadata": {},
   "source": [
    "### SVM\n"
   ]
  },
  {
   "cell_type": "markdown",
   "metadata": {},
   "source": [
    "C-Support Vector Classification."
   ]
  },
  {
   "cell_type": "markdown",
   "metadata": {},
   "source": [
    "https://scikit-learn.org/stable/modules/generated/sklearn.svm.SVC.html#sklearn.svm.SVC"
   ]
  },
  {
   "cell_type": "code",
   "execution_count": 236,
   "metadata": {},
   "outputs": [
    {
     "name": "stdout",
     "output_type": "stream",
     "text": [
      "Fitting 5 folds for each of 20 candidates, totalling 100 fits\n",
      "[CV] C=0.001, kernel=linear, random_state=0 ..........................\n",
      "[CV] ........... C=0.001, kernel=linear, random_state=0, total=   0.0s\n",
      "[CV] C=0.001, kernel=linear, random_state=0 ..........................\n",
      "[CV] ........... C=0.001, kernel=linear, random_state=0, total=   0.0s\n",
      "[CV] C=0.001, kernel=linear, random_state=0 ..........................\n",
      "[CV] ........... C=0.001, kernel=linear, random_state=0, total=   0.0s\n",
      "[CV] C=0.001, kernel=linear, random_state=0 ..........................\n",
      "[CV] ........... C=0.001, kernel=linear, random_state=0, total=   0.0s\n",
      "[CV] C=0.001, kernel=linear, random_state=0 ..........................\n",
      "[CV] ........... C=0.001, kernel=linear, random_state=0, total=   0.0s\n",
      "[CV] C=0.001, kernel=sigmoid, random_state=0 .........................\n",
      "[CV] .......... C=0.001, kernel=sigmoid, random_state=0, total=   0.0s\n",
      "[CV] C=0.001, kernel=sigmoid, random_state=0 .........................\n",
      "[CV] .......... C=0.001, kernel=sigmoid, random_state=0, total=   0.0s\n",
      "[CV] C=0.001, kernel=sigmoid, random_state=0 .........................\n",
      "[CV] .......... C=0.001, kernel=sigmoid, random_state=0, total=   0.0s\n",
      "[CV] C=0.001, kernel=sigmoid, random_state=0 .........................\n",
      "[CV] .......... C=0.001, kernel=sigmoid, random_state=0, total=   0.0s\n",
      "[CV] C=0.001, kernel=sigmoid, random_state=0 .........................\n",
      "[CV] .......... C=0.001, kernel=sigmoid, random_state=0, total=   0.0s\n",
      "[CV] C=0.001, kernel=poly, random_state=0 ............................\n",
      "[CV] ............. C=0.001, kernel=poly, random_state=0, total=   0.0s\n",
      "[CV] C=0.001, kernel=poly, random_state=0 ............................\n",
      "[CV] ............. C=0.001, kernel=poly, random_state=0, total=   0.0s\n",
      "[CV] C=0.001, kernel=poly, random_state=0 ............................\n",
      "[CV] ............. C=0.001, kernel=poly, random_state=0, total=   0.0s\n",
      "[CV] C=0.001, kernel=poly, random_state=0 ............................\n",
      "[CV] ............. C=0.001, kernel=poly, random_state=0, total=   0.0s\n",
      "[CV] C=0.001, kernel=poly, random_state=0 ............................\n",
      "[CV] ............. C=0.001, kernel=poly, random_state=0, total=   0.0s\n",
      "[CV] C=0.001, kernel=rbf, random_state=0 .............................\n",
      "[CV] .............. C=0.001, kernel=rbf, random_state=0, total=   0.0s\n",
      "[CV] C=0.001, kernel=rbf, random_state=0 .............................\n",
      "[CV] .............. C=0.001, kernel=rbf, random_state=0, total=   0.0s\n",
      "[CV] C=0.001, kernel=rbf, random_state=0 .............................\n",
      "[CV] .............. C=0.001, kernel=rbf, random_state=0, total=   0.0s\n",
      "[CV] C=0.001, kernel=rbf, random_state=0 .............................\n",
      "[CV] .............. C=0.001, kernel=rbf, random_state=0, total=   0.0s\n",
      "[CV] C=0.001, kernel=rbf, random_state=0 .............................\n",
      "[CV] .............. C=0.001, kernel=rbf, random_state=0, total=   0.0s\n",
      "[CV] C=0.01, kernel=linear, random_state=0 ...........................\n",
      "[CV] ............ C=0.01, kernel=linear, random_state=0, total=   0.0s\n",
      "[CV] C=0.01, kernel=linear, random_state=0 ...........................\n",
      "[CV] ............ C=0.01, kernel=linear, random_state=0, total=   0.0s\n",
      "[CV] C=0.01, kernel=linear, random_state=0 ...........................\n",
      "[CV] ............ C=0.01, kernel=linear, random_state=0, total=   0.0s\n",
      "[CV] C=0.01, kernel=linear, random_state=0 ...........................\n",
      "[CV] ............ C=0.01, kernel=linear, random_state=0, total=   0.0s\n",
      "[CV] C=0.01, kernel=linear, random_state=0 ...........................\n",
      "[CV] ............ C=0.01, kernel=linear, random_state=0, total=   0.0s\n",
      "[CV] C=0.01, kernel=sigmoid, random_state=0 ..........................\n",
      "[CV] ........... C=0.01, kernel=sigmoid, random_state=0, total=   0.0s\n",
      "[CV] C=0.01, kernel=sigmoid, random_state=0 ..........................\n",
      "[CV] ........... C=0.01, kernel=sigmoid, random_state=0, total=   0.0s\n",
      "[CV] C=0.01, kernel=sigmoid, random_state=0 ..........................\n",
      "[CV] ........... C=0.01, kernel=sigmoid, random_state=0, total=   0.0s\n",
      "[CV] C=0.01, kernel=sigmoid, random_state=0 ..........................\n",
      "[CV] ........... C=0.01, kernel=sigmoid, random_state=0, total=   0.0s\n",
      "[CV] C=0.01, kernel=sigmoid, random_state=0 ..........................\n",
      "[CV] ........... C=0.01, kernel=sigmoid, random_state=0, total=   0.0s\n",
      "[CV] C=0.01, kernel=poly, random_state=0 .............................\n",
      "[CV] .............. C=0.01, kernel=poly, random_state=0, total=   0.0s\n",
      "[CV] C=0.01, kernel=poly, random_state=0 .............................\n",
      "[CV] .............. C=0.01, kernel=poly, random_state=0, total=   0.0s\n",
      "[CV] C=0.01, kernel=poly, random_state=0 .............................\n",
      "[CV] .............. C=0.01, kernel=poly, random_state=0, total=   0.0s\n",
      "[CV] C=0.01, kernel=poly, random_state=0 .............................\n",
      "[CV] .............. C=0.01, kernel=poly, random_state=0, total=   0.0s\n",
      "[CV] C=0.01, kernel=poly, random_state=0 .............................\n",
      "[CV] .............. C=0.01, kernel=poly, random_state=0, total=   0.0s\n",
      "[CV] C=0.01, kernel=rbf, random_state=0 ..............................\n",
      "[CV] ............... C=0.01, kernel=rbf, random_state=0, total=   0.0s\n",
      "[CV] C=0.01, kernel=rbf, random_state=0 ..............................\n",
      "[CV] ............... C=0.01, kernel=rbf, random_state=0, total=   0.0s\n",
      "[CV] C=0.01, kernel=rbf, random_state=0 ..............................\n",
      "[CV] ............... C=0.01, kernel=rbf, random_state=0, total=   0.0s\n",
      "[CV] C=0.01, kernel=rbf, random_state=0 ..............................\n",
      "[CV] ............... C=0.01, kernel=rbf, random_state=0, total=   0.0s\n",
      "[CV] C=0.01, kernel=rbf, random_state=0 ..............................\n",
      "[CV] ............... C=0.01, kernel=rbf, random_state=0, total=   0.0s\n",
      "[CV] C=0.1, kernel=linear, random_state=0 ............................\n",
      "[CV] ............. C=0.1, kernel=linear, random_state=0, total=   0.0s\n",
      "[CV] C=0.1, kernel=linear, random_state=0 ............................\n",
      "[CV] ............. C=0.1, kernel=linear, random_state=0, total=   0.0s\n",
      "[CV] C=0.1, kernel=linear, random_state=0 ............................\n",
      "[CV] ............. C=0.1, kernel=linear, random_state=0, total=   0.0s\n",
      "[CV] C=0.1, kernel=linear, random_state=0 ............................\n",
      "[CV] ............. C=0.1, kernel=linear, random_state=0, total=   0.0s\n",
      "[CV] C=0.1, kernel=linear, random_state=0 ............................\n",
      "[CV] ............. C=0.1, kernel=linear, random_state=0, total=   0.0s\n",
      "[CV] C=0.1, kernel=sigmoid, random_state=0 ...........................\n",
      "[CV] ............ C=0.1, kernel=sigmoid, random_state=0, total=   0.0s\n",
      "[CV] C=0.1, kernel=sigmoid, random_state=0 ...........................\n",
      "[CV] ............ C=0.1, kernel=sigmoid, random_state=0, total=   0.0s\n",
      "[CV] C=0.1, kernel=sigmoid, random_state=0 ...........................\n",
      "[CV] ............ C=0.1, kernel=sigmoid, random_state=0, total=   0.0s\n",
      "[CV] C=0.1, kernel=sigmoid, random_state=0 ...........................\n",
      "[CV] ............ C=0.1, kernel=sigmoid, random_state=0, total=   0.0s\n",
      "[CV] C=0.1, kernel=sigmoid, random_state=0 ...........................\n",
      "[CV] ............ C=0.1, kernel=sigmoid, random_state=0, total=   0.0s\n",
      "[CV] C=0.1, kernel=poly, random_state=0 ..............................\n",
      "[CV] ............... C=0.1, kernel=poly, random_state=0, total=   0.0s\n",
      "[CV] C=0.1, kernel=poly, random_state=0 ..............................\n",
      "[CV] ............... C=0.1, kernel=poly, random_state=0, total=   0.0s\n",
      "[CV] C=0.1, kernel=poly, random_state=0 ..............................\n",
      "[CV] ............... C=0.1, kernel=poly, random_state=0, total=   0.0s\n",
      "[CV] C=0.1, kernel=poly, random_state=0 ..............................\n",
      "[CV] ............... C=0.1, kernel=poly, random_state=0, total=   0.0s\n",
      "[CV] C=0.1, kernel=poly, random_state=0 ..............................\n",
      "[CV] ............... C=0.1, kernel=poly, random_state=0, total=   0.0s\n",
      "[CV] C=0.1, kernel=rbf, random_state=0 ...............................\n",
      "[CV] ................ C=0.1, kernel=rbf, random_state=0, total=   0.0s\n",
      "[CV] C=0.1, kernel=rbf, random_state=0 ...............................\n",
      "[CV] ................ C=0.1, kernel=rbf, random_state=0, total=   0.0s\n",
      "[CV] C=0.1, kernel=rbf, random_state=0 ...............................\n",
      "[CV] ................ C=0.1, kernel=rbf, random_state=0, total=   0.0s"
     ]
    },
    {
     "name": "stderr",
     "output_type": "stream",
     "text": [
      "[Parallel(n_jobs=1)]: Using backend SequentialBackend with 1 concurrent workers.\n",
      "[Parallel(n_jobs=1)]: Done   1 out of   1 | elapsed:    0.0s remaining:    0.0s\n"
     ]
    },
    {
     "name": "stdout",
     "output_type": "stream",
     "text": [
      "\n",
      "[CV] C=0.1, kernel=rbf, random_state=0 ...............................\n",
      "[CV] ................ C=0.1, kernel=rbf, random_state=0, total=   0.0s\n",
      "[CV] C=0.1, kernel=rbf, random_state=0 ...............................\n",
      "[CV] ................ C=0.1, kernel=rbf, random_state=0, total=   0.0s\n",
      "[CV] C=1, kernel=linear, random_state=0 ..............................\n",
      "[CV] ............... C=1, kernel=linear, random_state=0, total=   0.0s\n",
      "[CV] C=1, kernel=linear, random_state=0 ..............................\n",
      "[CV] ............... C=1, kernel=linear, random_state=0, total=   0.0s\n",
      "[CV] C=1, kernel=linear, random_state=0 ..............................\n",
      "[CV] ............... C=1, kernel=linear, random_state=0, total=   0.0s\n",
      "[CV] C=1, kernel=linear, random_state=0 ..............................\n",
      "[CV] ............... C=1, kernel=linear, random_state=0, total=   0.0s\n",
      "[CV] C=1, kernel=linear, random_state=0 ..............................\n",
      "[CV] ............... C=1, kernel=linear, random_state=0, total=   0.0s\n",
      "[CV] C=1, kernel=sigmoid, random_state=0 .............................\n",
      "[CV] .............. C=1, kernel=sigmoid, random_state=0, total=   0.0s\n",
      "[CV] C=1, kernel=sigmoid, random_state=0 .............................\n",
      "[CV] .............. C=1, kernel=sigmoid, random_state=0, total=   0.0s\n",
      "[CV] C=1, kernel=sigmoid, random_state=0 .............................\n",
      "[CV] .............. C=1, kernel=sigmoid, random_state=0, total=   0.0s\n",
      "[CV] C=1, kernel=sigmoid, random_state=0 .............................\n",
      "[CV] .............. C=1, kernel=sigmoid, random_state=0, total=   0.0s\n",
      "[CV] C=1, kernel=sigmoid, random_state=0 .............................\n",
      "[CV] .............. C=1, kernel=sigmoid, random_state=0, total=   0.0s\n",
      "[CV] C=1, kernel=poly, random_state=0 ................................\n",
      "[CV] ................. C=1, kernel=poly, random_state=0, total=   0.0s\n",
      "[CV] C=1, kernel=poly, random_state=0 ................................\n",
      "[CV] ................. C=1, kernel=poly, random_state=0, total=   0.0s\n",
      "[CV] C=1, kernel=poly, random_state=0 ................................\n",
      "[CV] ................. C=1, kernel=poly, random_state=0, total=   0.0s\n",
      "[CV] C=1, kernel=poly, random_state=0 ................................\n",
      "[CV] ................. C=1, kernel=poly, random_state=0, total=   0.0s\n",
      "[CV] C=1, kernel=poly, random_state=0 ................................\n",
      "[CV] ................. C=1, kernel=poly, random_state=0, total=   0.0s\n",
      "[CV] C=1, kernel=rbf, random_state=0 .................................\n",
      "[CV] .................. C=1, kernel=rbf, random_state=0, total=   0.0s\n",
      "[CV] C=1, kernel=rbf, random_state=0 .................................\n",
      "[CV] .................. C=1, kernel=rbf, random_state=0, total=   0.0s\n",
      "[CV] C=1, kernel=rbf, random_state=0 .................................\n",
      "[CV] .................. C=1, kernel=rbf, random_state=0, total=   0.0s\n",
      "[CV] C=1, kernel=rbf, random_state=0 .................................\n",
      "[CV] .................. C=1, kernel=rbf, random_state=0, total=   0.0s\n",
      "[CV] C=1, kernel=rbf, random_state=0 .................................\n",
      "[CV] .................. C=1, kernel=rbf, random_state=0, total=   0.0s\n",
      "[CV] C=10, kernel=linear, random_state=0 .............................\n",
      "[CV] .............. C=10, kernel=linear, random_state=0, total=   0.0s\n",
      "[CV] C=10, kernel=linear, random_state=0 .............................\n",
      "[CV] .............. C=10, kernel=linear, random_state=0, total=   0.0s\n",
      "[CV] C=10, kernel=linear, random_state=0 .............................\n",
      "[CV] .............. C=10, kernel=linear, random_state=0, total=   0.0s\n",
      "[CV] C=10, kernel=linear, random_state=0 .............................\n",
      "[CV] .............. C=10, kernel=linear, random_state=0, total=   0.0s\n",
      "[CV] C=10, kernel=linear, random_state=0 .............................\n",
      "[CV] .............. C=10, kernel=linear, random_state=0, total=   0.0s\n",
      "[CV] C=10, kernel=sigmoid, random_state=0 ............................\n",
      "[CV] ............. C=10, kernel=sigmoid, random_state=0, total=   0.0s\n",
      "[CV] C=10, kernel=sigmoid, random_state=0 ............................\n",
      "[CV] ............. C=10, kernel=sigmoid, random_state=0, total=   0.0s\n",
      "[CV] C=10, kernel=sigmoid, random_state=0 ............................\n",
      "[CV] ............. C=10, kernel=sigmoid, random_state=0, total=   0.0s\n",
      "[CV] C=10, kernel=sigmoid, random_state=0 ............................\n",
      "[CV] ............. C=10, kernel=sigmoid, random_state=0, total=   0.0s\n",
      "[CV] C=10, kernel=sigmoid, random_state=0 ............................\n",
      "[CV] ............. C=10, kernel=sigmoid, random_state=0, total=   0.0s\n",
      "[CV] C=10, kernel=poly, random_state=0 ...............................\n",
      "[CV] ................ C=10, kernel=poly, random_state=0, total=   0.0s\n",
      "[CV] C=10, kernel=poly, random_state=0 ...............................\n",
      "[CV] ................ C=10, kernel=poly, random_state=0, total=   0.0s\n",
      "[CV] C=10, kernel=poly, random_state=0 ...............................\n",
      "[CV] ................ C=10, kernel=poly, random_state=0, total=   0.0s\n",
      "[CV] C=10, kernel=poly, random_state=0 ...............................\n",
      "[CV] ................ C=10, kernel=poly, random_state=0, total=   0.0s\n",
      "[CV] C=10, kernel=poly, random_state=0 ...............................\n",
      "[CV] ................ C=10, kernel=poly, random_state=0, total=   0.0s\n",
      "[CV] C=10, kernel=rbf, random_state=0 ................................\n",
      "[CV] ................. C=10, kernel=rbf, random_state=0, total=   0.0s\n",
      "[CV] C=10, kernel=rbf, random_state=0 ................................\n",
      "[CV] ................. C=10, kernel=rbf, random_state=0, total=   0.0s\n",
      "[CV] C=10, kernel=rbf, random_state=0 ................................\n",
      "[CV] ................. C=10, kernel=rbf, random_state=0, total=   0.0s\n",
      "[CV] C=10, kernel=rbf, random_state=0 ................................\n",
      "[CV] ................. C=10, kernel=rbf, random_state=0, total=   0.0s\n",
      "[CV] C=10, kernel=rbf, random_state=0 ................................\n",
      "[CV] ................. C=10, kernel=rbf, random_state=0, total=   0.0s\n",
      "Grid Search Predictions on Train Data: 1.0\n",
      "Grid Search Predictions on Test Data: 1.0\n",
      "According to Grid Search Best Hyperparameters are;\n",
      "{'C': 0.01, 'kernel': 'linear', 'random_state': 0}\n"
     ]
    },
    {
     "name": "stderr",
     "output_type": "stream",
     "text": [
      "[Parallel(n_jobs=1)]: Done 100 out of 100 | elapsed:    0.2s finished\n"
     ]
    }
   ],
   "source": [
    "from sklearn.svm import SVC\n",
    "clf_svm = SVC()\n",
    "grid_svm = {\"C\": [0.001,0.01,0.1,1,10],\n",
    "           \"kernel\": [\"linear\",\"sigmoid\",\"poly\",\"rbf\"],\n",
    "            \"random_state\": [0]\n",
    "           }\n",
    "\n",
    "gridSearch(clf_svm, grid_svm, X_train_sc, X_test_sc, y_train, y_test); # \";\" can be removed for viewing output."
   ]
  },
  {
   "cell_type": "code",
   "execution_count": 237,
   "metadata": {},
   "outputs": [],
   "source": [
    "clf_svm = SVC(C=0.1, kernel = \"linear\", random_state=0)\n",
    "clf_svm.fit(X_train_sc, y_train)\n",
    "svm_preds = clf_svm.predict(X_test_sc)\n",
    "\n",
    "svm_metrics = evaluatePreds(y_test, svm_preds)"
   ]
  },
  {
   "cell_type": "code",
   "execution_count": 238,
   "metadata": {},
   "outputs": [
    {
     "data": {
      "text/plain": [
       "{'accuracy': 1.0, 'f1 score': 1.0, 'precision score': 1.0, 'recall score': 1.0}"
      ]
     },
     "execution_count": 238,
     "metadata": {},
     "output_type": "execute_result"
    }
   ],
   "source": [
    "svm_metrics"
   ]
  },
  {
   "cell_type": "code",
   "execution_count": 239,
   "metadata": {},
   "outputs": [
    {
     "data": {
      "image/png": "[encoded data removed]",
      "text/plain": [
       "<Figure size 432x288 with 2 Axes>"
      ]
     },
     "metadata": {},
     "output_type": "display_data"
    }
   ],
   "source": [
    "plotconf(y_test, svm_preds, \"SVM Confusion Matrix\")"
   ]
  },
  {
   "cell_type": "markdown",
   "metadata": {},
   "source": [
    "### Comparison of Models"
   ]
  },
  {
   "cell_type": "markdown",
   "metadata": {},
   "source": [
    "Comparison of all models that used in this notebook:"
   ]
  },
  {
   "cell_type": "code",
   "execution_count": 240,
   "metadata": {},
   "outputs": [
    {
     "data": {
      "text/plain": [
       "<matplotlib.axes._subplots.AxesSubplot at 0x204317f18c8>"
      ]
     },
     "execution_count": 240,
     "metadata": {},
     "output_type": "execute_result"
    },
    {
     "data": {
      "image/png": "[encoded data removed]",
      "text/plain": [
       "<Figure size 1080x720 with 1 Axes>"
      ]
     },
     "metadata": {},
     "output_type": "display_data"
    }
   ],
   "source": [
    "compare_metrics = pd.DataFrame({\"Random Forest\": forest_metrics,\n",
    "                                \"K-Nearest-Neighbors\":knn_metrics,\n",
    "                                \"Logistic Regression\":log_metrics,\n",
    "                                \"SVM\": svm_metrics})\n",
    "\n",
    "\n",
    "compare_metrics.plot(figsize=(15,10),\n",
    "                     kind=\"bar\",\n",
    "                     ylim=(0,1.1),\n",
    "                     fontsize=15,\n",
    "                     rot=False)"
   ]
  },
  {
   "cell_type": "markdown",
   "metadata": {},
   "source": [
    "## 5. Feature Importances"
   ]
  },
  {
   "cell_type": "markdown",
   "metadata": {},
   "source": [
    "Feature importances are gathered for answering that kind of question;   \n",
    "\"which features contribute the most to the model's outcomes?\"  \n",
    "In our case, which features of patients have a remarkable effect on target variable outcome?\n"
   ]
  },
  {
   "cell_type": "markdown",
   "metadata": {},
   "source": [
    "Random Forest is used for gathering feature importances;"
   ]
  },
  {
   "cell_type": "code",
   "execution_count": 241,
   "metadata": {},
   "outputs": [],
   "source": [
    "feature_importances=clf_f.feature_importances_"
   ]
  },
  {
   "cell_type": "code",
   "execution_count": 242,
   "metadata": {},
   "outputs": [
    {
     "data": {
      "text/plain": [
       "{'age': 0.018366498814542744,\n",
       " 'trestbps': 0.012953562791479113,\n",
       " 'chol': 0.015302315046778878,\n",
       " 'thalach': 0.08145527150941231,\n",
       " 'oldpeak': 0.12976402201389958,\n",
       " 'target': 0.028688535730955804,\n",
       " 'sex_1': 0.0039127707445585505,\n",
       " 'cp_1': 0.006616178220978511,\n",
       " 'cp_2': 0.002164461780364476,\n",
       " 'cp_3': 9.664359423462886e-05,\n",
       " 'thal_1': 0.003241314397323351,\n",
       " 'thal_2': 0.023595708975516376,\n",
       " 'thal_3': 0.011317825758334088,\n",
       " 'ca_1': 0.0014639827350761807,\n",
       " 'ca_2': 0.0,\n",
       " 'ca_3': 0.0,\n",
       " 'ca_4': 0.0,\n",
       " 'slope_1': 0.28909300424987067,\n",
       " 'slope_2': 0.3490539038634848,\n",
       " 'exang_1': 0.014997128254409806,\n",
       " 'restecg_1': 0.0074967615893733845,\n",
       " 'restecg_2': 0.0,\n",
       " 'fbs_1': 0.00042010992940682965}"
      ]
     },
     "execution_count": 242,
     "metadata": {},
     "output_type": "execute_result"
    }
   ],
   "source": [
    "features_dict = dict(zip(df_encoded.columns, list(feature_importances)))\n",
    "features_dict"
   ]
  },
  {
   "cell_type": "code",
   "execution_count": 243,
   "metadata": {},
   "outputs": [
    {
     "data": {
      "image/png": "[encoded data removed]",
      "text/plain": [
       "<Figure size 432x288 with 1 Axes>"
      ]
     },
     "metadata": {},
     "output_type": "display_data"
    }
   ],
   "source": [
    "df_importance = pd.DataFrame(features_dict, index=[0])\n",
    "df_importance.T.plot.bar(title=\"Feature Importances\", legend=False);"
   ]
  },
  {
   "cell_type": "markdown",
   "metadata": {},
   "source": [
    "As can be seen from graph, \"ca\" features have very low values of importance. \"ca\" feature can be discarded since it has no major effect on outcome. With less features, same performance."
   ]
  },
  {
   "cell_type": "markdown",
   "metadata": {},
   "source": [
    "Note about encoding: Categorical values were encoded with One Hot encoding in this notebook and it improved models' performance.  \n",
    "To see the models' performance without encoding, change \"df_encoded\" with \"df\" and set slice values accordingly in [this cell](#without_encoding).  \n",
    "Why values are encoded with One Hot encoding instead of Label Encoding? The answer to this question can be found [here](#encoding) in detail."
   ]
  }
 ],
 "metadata": {
  "kernelspec": {
   "display_name": "Python 3",
   "language": "python",
   "name": "python3"
  },
  "language_info": {
   "codemirror_mode": {
    "name": "ipython",
    "version": 3
   },
   "file_extension": ".py",
   "mimetype": "text/x-python",
   "name": "python",
   "nbconvert_exporter": "python",
   "pygments_lexer": "ipython3",
   "version": "3.7.6"
  }
 },
 "nbformat": 4,
 "nbformat_minor": 4
}
